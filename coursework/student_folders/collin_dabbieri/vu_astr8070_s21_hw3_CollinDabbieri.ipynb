{
 "cells": [
  {
   "cell_type": "markdown",
   "metadata": {},
   "source": [
    "### ASTR 8070: Astrostatistics\n",
    "***S. R. Taylor***\n",
    "___\n",
    "\n",
    "# Homework 3\n",
    "### Due: Friday, Feb 19th at 11.59pm CST\n",
    "---"
   ]
  },
  {
   "cell_type": "markdown",
   "metadata": {},
   "source": [
    "## Only one problem this week\n",
    "\n",
    "This problem uses a dataset in `/coursework/homeworks/hw_data/`.\n",
    "\n",
    "1) Read in `hw3_data_1.npy`. This is a (50 x 2) numpy array, with measurements in the first column and uncertainties in the second column. Using the analytic results for heteroscedastic Gaussian data from lectures, compute the sample mean and the standard error on the sample mean from for this data.\n",
    "\n",
    "2) Reusing some approaches and tools from `Lecture_6`, write a ln-likelihood function for heteroscedastic Gaussian data, and use it in a fitting algorithm to find the best-fit mean. *Remember that scipy optimizers are set up to minimize functions.*\n",
    "\n",
    "3) Using the same numerical technique from `Lecture_5`, compute the Fisher uncertainty estimate on the mean.\n",
    "\n",
    "4) Using the bootstrap method, generate $1000$ bootstrap realizations of this dataset. *DO NOT use the `astroML` code. Write your own bootstrap function from scratch. Also recall that when resampling data, measurements and uncertainties should stay paired together.*\n",
    "\n",
    "5) Repeat (2) with all $1000$ boostrap datasets to find the distribution of the sample mean. Plot a normalized histogram of these bootstrap means, and overplot a Gaussian pdf with the mean and std found in (1). Do these agree?\n",
    "\n",
    "6) While we have fitted a heteroscedastic Gaussian to this data, let's try something else. Write some code to define a ln-likelihood for a Laplace distribution evaluated on this data. Fit simultaneously for the Laplace location parameter $\\mu$ and scale parameter $\\Delta$.\n",
    "\n",
    "7) Compute the AIC values for the heteroscedastic Gaussian model and the Laplacian model. Which model is favored by the data?\n",
    "\n",
    "8) Using the $1000$ bootstrap datasets from before, fit for the Laplacian $\\mu$ and $\\Delta$ for each. Make a nice `corner` plot of the distributions of $\\mu$ and $\\Delta$ that shows both the marginal $1$D distributions and the joint $2$D distribution. Make sure the plot has labels, shows the titles on each $1$D marginal panel, and has $68\\%$ and $95\\%$ levels.\n",
    "\n",
    "9) Let's finish with a Fisher uncertainty estimate of the Laplacian parameters. Use the following code to install `numdifftools` which provides a simple way to compute derivatives. We can then compute the Hessian matrix, which is the matrix of the second derivatives of the user's function. This should be computed at the best-fit Laplacian parameters $\\mu$ and $\\Delta$. To finish, invert the matrix, and then take the square root. The diagonal entries will then be the Fisher uncertainties on $\\mu$ and $\\Delta$. How does these compare to the bootstrap distribution widths found in (8)?"
   ]
  },
  {
   "cell_type": "code",
   "execution_count": 1,
   "metadata": {},
   "outputs": [
    {
     "name": "stdout",
     "output_type": "stream",
     "text": [
      "Collecting numdifftools\n",
      "  Downloading numdifftools-0.9.39-py2.py3-none-any.whl (953 kB)\n",
      "\u001b[K     |████████████████████████████████| 953 kB 2.8 MB/s eta 0:00:01\n",
      "\u001b[?25hInstalling collected packages: numdifftools\n",
      "Successfully installed numdifftools-0.9.39\n",
      "\u001b[33mWARNING: You are using pip version 20.3.3; however, version 21.0.1 is available.\n",
      "You should consider upgrading via the '/Users/dabbiecm/Documents/venv/bin/python -m pip install --upgrade pip' command.\u001b[0m\n"
     ]
    }
   ],
   "source": [
    "!pip install numdifftools"
   ]
  },
  {
   "cell_type": "code",
   "execution_count": 12,
   "metadata": {},
   "outputs": [],
   "source": [
    "import numdifftools as nd\n",
    "import numpy as np\n",
    "from scipy import optimize\n",
    "from scipy.stats import norm\n",
    "import corner\n",
    "from matplotlib import pyplot as plt\n",
    "from pylab import rcParams\n",
    "rcParams['figure.figsize'] = 15,8"
   ]
  },
  {
   "cell_type": "markdown",
   "metadata": {},
   "source": [
    "### Solution\n",
    "\n",
    "\n",
    "## 1)\n",
    "\n",
    "read in hw3_data_1.npy, using the rules for heteroscedastic Gaussian data, compute the sample mean and the standard error on the sample mean\n",
    "\n",
    "For heteroscedastic Gaussian data (from Lecture 5),\n",
    "\n",
    "$$\\hat \\mu = \\frac{\\sum_i^N (x_i/\\sigma_i^2)}{\\sum_i^N (1/\\sigma_i^2)},$$\n",
    "\n",
    "$$\\sigma_{\\mu} = \\left( \\sum_{i=1}^N \\frac{1}{\\sigma_i^2}\\right)^{-1/2}.$$"
   ]
  },
  {
   "cell_type": "code",
   "execution_count": 2,
   "metadata": {},
   "outputs": [
    {
     "name": "stdout",
     "output_type": "stream",
     "text": [
      "Sample Mean: 3.92\n",
      "Standard Error of Sample Mean: 0.09\n"
     ]
    }
   ],
   "source": [
    "data=np.load('../../homeworks/hw_data/hw3_data_1.npy',allow_pickle=True)\n",
    "\n",
    "# first calculate sample mean\n",
    "mu_num=0\n",
    "mu_denom=0\n",
    "for i in range(np.shape(data)[0]): #iterate over each data point\n",
    "    \n",
    "    mu_num+=(data[i][0])/(data[i][1]**2)\n",
    "    mu_denom+=1/(data[i][1]**2)\n",
    "    \n",
    "mu_hat=mu_num/mu_denom\n",
    "\n",
    "# next calculate standard error on sample mean\n",
    "sigma_mu=mu_denom**-0.5\n",
    "\n",
    "print(\"Sample Mean: {:.2f}\".format(mu_hat))\n",
    "print(\"Standard Error of Sample Mean: {:.2f}\".format(sigma_mu))"
   ]
  },
  {
   "cell_type": "markdown",
   "metadata": {},
   "source": [
    "SRT: Correct formula and answers, Collin. But \"for\" loops should be avoided in python unless absolutely necessary, since they slow everything down. np.sum operations over arrays are more compact and faster. -2"
   ]
  },
  {
   "cell_type": "markdown",
   "metadata": {},
   "source": [
    "## 2)\n",
    "\n",
    "write a ln-likelihood function for heteroscedastic Gaussian data, and use it in a fitting algorithm to find the best-fit mean.\n",
    "\n",
    "From Lecture 5.\n",
    "\n",
    "$${\\rm lnL} = {\\rm constant} - \\sum_{i=1}^N \\frac{(x_i - \\mu)^2}{2\\sigma_i^2}.$$"
   ]
  },
  {
   "cell_type": "code",
   "execution_count": 3,
   "metadata": {},
   "outputs": [
    {
     "name": "stdout",
     "output_type": "stream",
     "text": [
      "Optimization terminated successfully.\n",
      "         Current function value: 43.162545\n",
      "         Iterations: 18\n",
      "         Function evaluations: 36\n",
      "###########################################\n",
      "Best-fit mean: 3.92\n"
     ]
    }
   ],
   "source": [
    "def lnlike(mu,x,sigma): #x and sigma are vectors, mu is a float\n",
    "    return np.sum([(x[i]-mu)**2/(2*sigma[i]**2) for i in range(len(x))])\n",
    "\n",
    "\n",
    "f_lnlike = lambda mu: lnlike(mu,x=data[:,0],sigma=data[:,1])\n",
    "\n",
    "mu0=2 #initial guess\n",
    "mu_fit = optimize.fmin(f_lnlike, mu0)\n",
    "print('###########################################')\n",
    "print(\"Best-fit mean: {:.2f}\".format(mu_fit[0]))"
   ]
  },
  {
   "cell_type": "markdown",
   "metadata": {},
   "source": [
    "SRT: Yes, but you don't need the \"for\" loop inside the lnlike function. np.sum will do that for you. -1"
   ]
  },
  {
   "cell_type": "markdown",
   "metadata": {},
   "source": [
    "## 3)\n",
    "\n",
    "Compute the Fisher uncertainty estimate on the mean"
   ]
  },
  {
   "cell_type": "code",
   "execution_count": 4,
   "metadata": {},
   "outputs": [
    {
     "name": "stdout",
     "output_type": "stream",
     "text": [
      "Fisher matrix error on estimated mean is 0.095\n"
     ]
    }
   ],
   "source": [
    "# First sample lnlike over a range of mu estimates\n",
    "index=np.linspace(start=0,stop=10,num=100)\n",
    "lnlike_samples=np.asarray([lnlike(i,data[:,0],data[:,1]) for i in index])*-1\n",
    "\n",
    "# Next do a rough 2nd order differentiation of our lnlike\n",
    "sigma_mu = np.diff(lnlike_samples, n=2)\n",
    "# Divide through by delta theta^2 to get normalization\n",
    "# (in this case theta is mu)\n",
    "sigma_mu /= (index[1]-index[0])**2\n",
    "# multiply by -1 and take the square root\n",
    "sigma_mu *= -1\n",
    "sigma_mu = 1/np.sqrt(sigma_mu)[0]\n",
    "\n",
    "print(\"Fisher matrix error on estimated mean is %.3f\" % sigma_mu)"
   ]
  },
  {
   "cell_type": "markdown",
   "metadata": {},
   "source": [
    "## 4)\n",
    "\n",
    "Using the bootstrap method, generate $1000$ bootstrap realizations of this dataset. *DO NOT use the `astroML` code. Write your own bootstrap function from scratch. Also recall that when resampling data, measurements and uncertainties should stay paired together.*"
   ]
  },
  {
   "cell_type": "code",
   "execution_count": 5,
   "metadata": {},
   "outputs": [],
   "source": [
    "def bootstrap(B,x,sigma):\n",
    "    '''\n",
    "    draw B bootstrap samples of dataset x with uncertainties sigma\n",
    "    \n",
    "    returns:\n",
    "        samples - 3D array of shape (B,N,2) with B bootstrapped realizations of x and sigma\n",
    "                  samples[i,:,0] is the ith bootstrap realization of x\n",
    "                  samples[i,:,1] is the ith bootstrap realization of sigma\n",
    "    '''\n",
    "    N=len(x)\n",
    "    samples=np.zeros(shape=(B,N,2))\n",
    "    \n",
    "    for i in range(B):\n",
    "        idx_all=np.arange(N) # all indexes in x\n",
    "        idx_choose=np.random.choice(idx_all,size=N,replace=True) #choose N samples from indexes with replacement\n",
    "        samples[i,:,0]=x[idx_choose]\n",
    "        samples[i,:,1]=sigma[idx_choose]\n",
    "        \n",
    "    return samples\n",
    "\n",
    "bootstrap_samples=bootstrap(B=1000,x=data[:,0],sigma=data[:,1])\n"
   ]
  },
  {
   "cell_type": "markdown",
   "metadata": {},
   "source": [
    "## 5)\n",
    "\n",
    "Repeat (2) with all $1000$ boostrap datasets to find the distribution of the sample mean. Plot a normalized histogram of these bootstrap means, and overplot a Gaussian pdf with the mean and std found in (1). Do these agree?"
   ]
  },
  {
   "cell_type": "code",
   "execution_count": 6,
   "metadata": {},
   "outputs": [],
   "source": [
    "B=1000\n",
    "\n",
    "bootstrap_mus=[]\n",
    "for i in range(B):\n",
    "    \n",
    "    f_lnlike = lambda mu: lnlike(mu,x=bootstrap_samples[i,:,0],sigma=bootstrap_samples[i,:,1])\n",
    "    mu0=2 #initial guess\n",
    "    mu_fit = optimize.fmin(f_lnlike, mu0,disp=False)[0] #disp=False turns off print statements\n",
    "    \n",
    "    bootstrap_mus.append(mu_fit)\n",
    "    \n",
    "    \n",
    "    "
   ]
  },
  {
   "cell_type": "code",
   "execution_count": 7,
   "metadata": {},
   "outputs": [
    {
     "data": {
      "text/plain": [
       "[<matplotlib.lines.Line2D at 0x10bc8cb80>]"
      ]
     },
     "execution_count": 7,
     "metadata": {},
     "output_type": "execute_result"
    },
    {
     "data": {
      "image/png": "[encoded data removed]",
      "text/plain": [
       "<Figure size 1080x576 with 1 Axes>"
      ]
     },
     "metadata": {
      "needs_background": "light"
     },
     "output_type": "display_data"
    }
   ],
   "source": [
    "index=np.linspace(3.5,4.5,num=50)\n",
    "pdf=norm(loc=3.92,scale=0.09).pdf(index)\n",
    "\n",
    "_=plt.hist(bootstrap_mus,bins=10,density=True)\n",
    "plt.plot(index,pdf)\n",
    "\n",
    "# These seem to agree well"
   ]
  },
  {
   "cell_type": "markdown",
   "metadata": {},
   "source": [
    "SRT: Very good!"
   ]
  },
  {
   "cell_type": "markdown",
   "metadata": {},
   "source": [
    "## 6)\n",
    "\n",
    "While we have fitted a heteroscedastic Gaussian to this data, let's try something else. Write some code to define a ln-likelihood for a Laplace distribution evaluated on this data. Fit simultaneously for the Laplace location parameter $\\mu$ and scale parameter $\\Delta$.\n",
    "\n",
    "For a Laplace distribution\n",
    "\n",
    "$$ lnL= \\frac{-1}{\\Delta} \\sum_{i=1}^N |x_i-\\mu| -Nln2 - Nln\\Delta$$"
   ]
  },
  {
   "cell_type": "code",
   "execution_count": 17,
   "metadata": {},
   "outputs": [
    {
     "name": "stdout",
     "output_type": "stream",
     "text": [
      "Optimization terminated successfully.\n",
      "         Current function value: 156.788916\n",
      "         Iterations: 54\n",
      "         Function evaluations: 100\n",
      "Best-fit mu: 4.09\n",
      "Best-fit Delta: 0.88\n"
     ]
    }
   ],
   "source": [
    "# beta=[mu,delta]\n",
    "def lnlike_laplace(mu,delta,x):\n",
    "    N=len(x)\n",
    "    absolute=0\n",
    "    for i in range(N):\n",
    "        absolute+=np.absolute(x[i]-mu)\n",
    "        \n",
    "    return ((1/delta)*absolute)+(N*np.log(delta))+N*np.log(2)\n",
    "        \n",
    "# beta=[mu,delta]\n",
    "f_laplace = lambda beta: lnlike_laplace(beta[0], beta[1], \n",
    "                                        x=data[:,0])\n",
    "\n",
    "beta0 = (3, 1) # initial guess for mu and delta\n",
    "beta_fit_laplace = optimize.fmin(f_laplace, beta0)\n",
    "\n",
    "print(\"Best-fit mu: {:.2f}\".format(beta_fit_laplace[0]))\n",
    "print(\"Best-fit Delta: {:.2f}\".format(beta_fit_laplace[1]))\n",
    "\n"
   ]
  },
  {
   "cell_type": "markdown",
   "metadata": {},
   "source": [
    "SRT: Good, but faster to use the scipy.stats laplace object."
   ]
  },
  {
   "cell_type": "markdown",
   "metadata": {},
   "source": [
    "## 7)\n",
    "\n",
    "Compute the AIC values for the heteroscedastic Gaussian model and the Laplacian model. Which model is favored by the data?\n",
    "\n",
    "From Lecture 6\n",
    "\n",
    "$$ \\mathrm{AIC}_M \\equiv -2\\ln[L^0(M)] + 2k + \\frac{2k(k+1)}{N-k-1}, $$\n",
    "\n",
    "where $k$ is the number of model parameters and $N$ is the number of data points."
   ]
  },
  {
   "cell_type": "code",
   "execution_count": 9,
   "metadata": {},
   "outputs": [
    {
     "name": "stdout",
     "output_type": "stream",
     "text": [
      "AIC for Laplace distribution: 317.70\n",
      "AIC for Gaussian distribution: 90.45\n"
     ]
    }
   ],
   "source": [
    "N=len(data[:,0])\n",
    "\n",
    "def AIC(lnL,k,N):\n",
    "    return -2*lnL + 2*k + (2*k*(k+1))/(N-k-1)\n",
    "\n",
    "lnL_laplace=-lnlike_laplace(4.09,0.88,data[:,0])\n",
    "AIC_laplace=AIC(lnL_laplace,2,N)\n",
    "\n",
    "lnL_gauss=-lnlike(3.92,data[:,0],data[:,1])\n",
    "AIC_gauss=AIC(lnL_gauss,2,N)\n",
    "\n",
    "print(\"AIC for Laplace distribution: {:.2f}\".format(AIC_laplace))\n",
    "print(\"AIC for Gaussian distribution: {:.2f}\".format(AIC_gauss))\n",
    "\n",
    "# The data favors a Gaussian distribution"
   ]
  },
  {
   "cell_type": "markdown",
   "metadata": {},
   "source": [
    "SRT: The number of parameters for the Gaussian is 1, not 2. -1"
   ]
  },
  {
   "cell_type": "markdown",
   "metadata": {},
   "source": [
    "## 8)\n",
    "\n",
    "Using the $1000$ bootstrap datasets from before, fit for the Laplacian $\\mu$ and $\\Delta$ for each. Make a nice `corner` plot of the distributions of $\\mu$ and $\\Delta$ that shows both the marginal $1$D distributions and the joint $2$D distribution. Make sure the plot has labels, shows the titles on each $1$D marginal panel, and has $68\\%$ and $95\\%$ levels."
   ]
  },
  {
   "cell_type": "code",
   "execution_count": 11,
   "metadata": {},
   "outputs": [],
   "source": [
    "B=1000\n",
    "\n",
    "bootstrap_laplace_mus=[]\n",
    "bootstrap_laplace_deltas=[]\n",
    "for i in range(B):\n",
    "    \n",
    "    # beta=[mu,delta]\n",
    "    f_laplace = lambda beta: lnlike_laplace(beta[0], beta[1], \n",
    "                                            x=bootstrap_samples[i,:,0])\n",
    "\n",
    "    beta0 = (3, 1) # initial guess for mu and delta\n",
    "    beta_fit = optimize.fmin(f_laplace, beta0,disp=False) #disp=False turns off print statements\n",
    "    \n",
    "    bootstrap_laplace_mus.append(beta_fit[0])\n",
    "    bootstrap_laplace_deltas.append(beta_fit[1])"
   ]
  },
  {
   "cell_type": "code",
   "execution_count": 16,
   "metadata": {},
   "outputs": [
    {
     "data": {
      "image/png": "[encoded data removed]",
      "text/plain": [
       "<Figure size 396x396 with 4 Axes>"
      ]
     },
     "metadata": {
      "needs_background": "light"
     },
     "output_type": "display_data"
    }
   ],
   "source": [
    "# corner wants shape (nsamples,ndim)\n",
    "\n",
    "bootstrap_laplace=np.zeros(shape=(B,2))\n",
    "bootstrap_laplace[:,0]=bootstrap_laplace_mus\n",
    "bootstrap_laplace[:,1]=bootstrap_laplace_deltas\n",
    "\n",
    "labels=[r'$\\mu$',r'$\\Delta$']\n",
    "\n",
    "fig = corner.corner(bootstrap_laplace, \n",
    "                    labels=labels,\n",
    "                    quantiles=(0.16, 0.84),\n",
    "                    levels=(0.68,0.95),\n",
    "                    show_titles=True, \n",
    "                    title_kwargs={\"fontsize\": 12})"
   ]
  },
  {
   "cell_type": "markdown",
   "metadata": {},
   "source": [
    "## 9)\n",
    "\n",
    "Let's finish with a Fisher uncertainty estimate of the Laplacian parameters. Use the following code to install `numdifftools` which provides a simple way to compute derivatives. We can then compute the Hessian matrix, which is the matrix of the second derivatives of the user's function. This should be computed at the best-fit Laplacian parameters $\\mu$ and $\\Delta$. To finish, invert the matrix, and then take the square root. The diagonal entries will then be the Fisher uncertainties on $\\mu$ and $\\Delta$. How does these compare to the bootstrap distribution widths found in (8)?"
   ]
  },
  {
   "cell_type": "code",
   "execution_count": 21,
   "metadata": {},
   "outputs": [
    {
     "name": "stdout",
     "output_type": "stream",
     "text": [
      "[[0.09190364 0.00237374]\n",
      " [0.00237374 0.08822694]]\n"
     ]
    },
    {
     "name": "stderr",
     "output_type": "stream",
     "text": [
      "<ipython-input-17-436e9435c45d>:8: RuntimeWarning: invalid value encountered in log\n",
      "  return ((1/delta)*absolute)+(N*np.log(delta))+N*np.log(2)\n"
     ]
    }
   ],
   "source": [
    "H = nd.Hessian(f_laplace)([beta_fit_laplace[0], beta_fit_laplace[1]])\n",
    "sigma_laplace = np.linalg.inv(H)**0.5\n",
    "\n",
    "print(sigma_laplace)\n",
    "\n",
    "# The Fisher uncertainties seem to be smaller than the bootstrapped uncertainties"
   ]
  },
  {
   "cell_type": "markdown",
   "metadata": {},
   "source": [
    "SRT: Very good."
   ]
  },
  {
   "cell_type": "code",
   "execution_count": null,
   "metadata": {},
   "outputs": [],
   "source": []
  }
 ],
 "metadata": {
  "anaconda-cloud": {},
  "kernelspec": {
   "display_name": "Python 3",
   "language": "python",
   "name": "python3"
  },
  "language_info": {
   "codemirror_mode": {
    "name": "ipython",
    "version": 3
   },
   "file_extension": ".py",
   "mimetype": "text/x-python",
   "name": "python",
   "nbconvert_exporter": "python",
   "pygments_lexer": "ipython3",
   "version": "3.8.5"
  }
 },
 "nbformat": 4,
 "nbformat_minor": 4
}
