{
 "cells": [
  {
   "cell_type": "markdown",
   "metadata": {},
   "source": [
    "### ASTR 8070: Astrostatistics\n",
    "***S. R. Taylor***\n",
    "___\n",
    "\n",
    "# Homework 3\n",
    "### Due: Friday, Feb 19th at 11.59pm CST\n",
    "---"
   ]
  },
  {
   "cell_type": "markdown",
   "metadata": {},
   "source": [
    "## Only one problem this week\n",
    "\n",
    "This problem uses a dataset in `/coursework/homeworks/hw_data/`.\n",
    "\n",
    "1) Read in `hw3_data_1.npy`. This is a (50 x 2) numpy array, with measurements in the first column and uncertainties in the second column. Using the analytic results for heteroscedastic Gaussian data from lectures, compute the sample mean and the standard error on the sample mean from for this data.\n",
    "\n",
    "2) Reusing some approaches and tools from `Lecture_6`, write a ln-likelihood function for heteroscedastic Gaussian data, and use it in a fitting algorithm to find the best-fit mean. *Remember that scipy optimizers are set up to minimize functions.*\n",
    "\n",
    "3) Using the same numerical technique from `Lecture_5`, compute the Fisher uncertainty estimate on the mean.\n",
    "\n",
    "4) Using the bootstrap method, generate $1000$ bootstrap realizations of this dataset. *DO NOT use the `astroML` code. Write your own bootstrap function from scratch. Also recall that when resampling data, measurements and uncertainties should stay paired together.*\n",
    "\n",
    "5) Repeat (2) with all $1000$ boostrap datasets to find the distribution of the sample mean. Plot a normalized histogram of these bootstrap means, and overplot a Gaussian pdf with the mean and std found in (1). Do these agree?\n",
    "\n",
    "6) While we have fitted a heteroscedastic Gaussian to this data, let's try something else. Write some code to define a ln-likelihood for a Laplace distribution evaluated on this data. Fit simultaneously for the Laplace location parameter $\\mu$ and scale parameter $\\Delta$.\n",
    "\n",
    "7) Compute the AIC values for the heteroscedastic Gaussian model and the Laplacian model. Which model is favored by the data?\n",
    "\n",
    "8) Using the $1000$ bootstrap datasets from before, fit for the Laplacian $\\mu$ and $\\Delta$ for each. Make a nice `corner` plot of the distributions of $\\mu$ and $\\Delta$ that shows both the marginal $1$D distributions and the joint $2$D distribution. Make sure the plot has labels, shows the titles on each $1$D marginal panel, and has $68\\%$ and $95\\%$ levels.\n",
    "\n",
    "9) Let's finish with a Fisher uncertainty estimate of the Laplacian parameters. Use the following code to install `numdifftools` which provides a simple way to compute derivatives. We can then compute the Hessian matrix, which is the matrix of the second derivatives of the user's function. This should be computed at the best-fit Laplacian parameters $\\mu$ and $\\Delta$. To finish, invert the matrix, and then take the square root. The diagonal entries will then be the Fisher uncertainties on $\\mu$ and $\\Delta$. How does these compare to the bootstrap distribution widths found in (8)?"
   ]
  },
  {
   "cell_type": "code",
   "execution_count": 1,
   "metadata": {},
   "outputs": [
    {
     "name": "stdout",
     "output_type": "stream",
     "text": [
      "Collecting numdifftools\n",
      "  Downloading numdifftools-0.9.39-py2.py3-none-any.whl (953 kB)\n",
      "\u001b[K     |████████████████████████████████| 953 kB 934 kB/s eta 0:00:01\n",
      "\u001b[?25hInstalling collected packages: numdifftools\n",
      "Successfully installed numdifftools-0.9.39\n"
     ]
    }
   ],
   "source": [
    "!pip install numdifftools"
   ]
  },
  {
   "cell_type": "code",
   "execution_count": 2,
   "metadata": {},
   "outputs": [
    {
     "ename": "NameError",
     "evalue": "name 'f_lnlaplace' is not defined",
     "output_type": "error",
     "traceback": [
      "\u001b[0;31m---------------------------------------------------------------------------\u001b[0m",
      "\u001b[0;31mNameError\u001b[0m                                 Traceback (most recent call last)",
      "\u001b[0;32m<ipython-input-2-798798f413cd>\u001b[0m in \u001b[0;36m<module>\u001b[0;34m\u001b[0m\n\u001b[1;32m      1\u001b[0m \u001b[0;32mimport\u001b[0m \u001b[0mnumdifftools\u001b[0m \u001b[0;32mas\u001b[0m \u001b[0mnd\u001b[0m\u001b[0;34m\u001b[0m\u001b[0;34m\u001b[0m\u001b[0m\n\u001b[0;32m----> 2\u001b[0;31m \u001b[0mH\u001b[0m \u001b[0;34m=\u001b[0m \u001b[0mnd\u001b[0m\u001b[0;34m.\u001b[0m\u001b[0mHessian\u001b[0m\u001b[0;34m(\u001b[0m\u001b[0mf_lnlaplace\u001b[0m\u001b[0;34m)\u001b[0m\u001b[0;34m(\u001b[0m\u001b[0;34m[\u001b[0m\u001b[0mbeta_laplace\u001b[0m\u001b[0;34m[\u001b[0m\u001b[0;36m0\u001b[0m\u001b[0;34m]\u001b[0m\u001b[0;34m,\u001b[0m \u001b[0mbeta_laplace\u001b[0m\u001b[0;34m[\u001b[0m\u001b[0;36m1\u001b[0m\u001b[0;34m]\u001b[0m\u001b[0;34m]\u001b[0m\u001b[0;34m)\u001b[0m\u001b[0;34m\u001b[0m\u001b[0;34m\u001b[0m\u001b[0m\n\u001b[0m\u001b[1;32m      3\u001b[0m \u001b[0msigma_laplace\u001b[0m \u001b[0;34m=\u001b[0m \u001b[0mnp\u001b[0m\u001b[0;34m.\u001b[0m\u001b[0mlinalg\u001b[0m\u001b[0;34m.\u001b[0m\u001b[0minv\u001b[0m\u001b[0;34m(\u001b[0m\u001b[0mH\u001b[0m\u001b[0;34m)\u001b[0m\u001b[0;34m**\u001b[0m\u001b[0;36m0.5\u001b[0m\u001b[0;34m\u001b[0m\u001b[0;34m\u001b[0m\u001b[0m\n",
      "\u001b[0;31mNameError\u001b[0m: name 'f_lnlaplace' is not defined"
     ]
    }
   ],
   "source": [
    "import numdifftools as nd\n",
    "H = nd.Hessian(f_lnlaplace)([beta_laplace[0], beta_laplace[1]])\n",
    "sigma_laplace = np.linalg.inv(H)**0.5"
   ]
  },
  {
   "cell_type": "markdown",
   "metadata": {},
   "source": [
    "### Solution"
   ]
  },
  {
   "cell_type": "code",
   "execution_count": 77,
   "metadata": {},
   "outputs": [
    {
     "name": "stdout",
     "output_type": "stream",
     "text": [
      "This samples mean: 3.9179920346060557\n",
      "The standard error on this sample mean: 0.09481084100510956\n",
      "Optimization terminated successfully.\n",
      "         Current function value: 86.325091\n",
      "         Iterations: 12\n",
      "         Function evaluations: 24\n"
     ]
    },
    {
     "ename": "ValueError",
     "evalue": "diff requires input that is at least one dimensional",
     "output_type": "error",
     "traceback": [
      "\u001b[0;31m---------------------------------------------------------------------------\u001b[0m",
      "\u001b[0;31mValueError\u001b[0m                                Traceback (most recent call last)",
      "\u001b[0;32m<ipython-input-77-d7888c8cde56>\u001b[0m in \u001b[0;36m<module>\u001b[0;34m\u001b[0m\n\u001b[1;32m     44\u001b[0m \u001b[0;34m\u001b[0m\u001b[0m\n\u001b[1;32m     45\u001b[0m \u001b[0;31m#CLD to use the numerical technique to find the fisher uncert on the mean, first take the second deravitive of lnL\u001b[0m\u001b[0;34m\u001b[0m\u001b[0;34m\u001b[0m\u001b[0;34m\u001b[0m\u001b[0m\n\u001b[0;32m---> 46\u001b[0;31m \u001b[0msigma_mu\u001b[0m \u001b[0;34m=\u001b[0m \u001b[0mnp\u001b[0m\u001b[0;34m.\u001b[0m\u001b[0mdiff\u001b[0m\u001b[0;34m(\u001b[0m\u001b[0mlnL_hetero\u001b[0m\u001b[0;34m,\u001b[0m \u001b[0mn\u001b[0m\u001b[0;34m=\u001b[0m\u001b[0;36m2\u001b[0m\u001b[0;34m)\u001b[0m\u001b[0;34m\u001b[0m\u001b[0;34m\u001b[0m\u001b[0m\n\u001b[0m\u001b[1;32m     47\u001b[0m \u001b[0;34m\u001b[0m\u001b[0m\n\u001b[1;32m     48\u001b[0m \u001b[0;31m#CLD divide through by delta_parameter^2 for normalization\u001b[0m\u001b[0;34m\u001b[0m\u001b[0;34m\u001b[0m\u001b[0;34m\u001b[0m\u001b[0m\n",
      "\u001b[0;32m<__array_function__ internals>\u001b[0m in \u001b[0;36mdiff\u001b[0;34m(*args, **kwargs)\u001b[0m\n",
      "\u001b[0;32m~/opt/anaconda3/envs/astr8070/lib/python3.8/site-packages/numpy/lib/function_base.py\u001b[0m in \u001b[0;36mdiff\u001b[0;34m(a, n, axis, prepend, append)\u001b[0m\n\u001b[1;32m   1244\u001b[0m     \u001b[0mnd\u001b[0m \u001b[0;34m=\u001b[0m \u001b[0ma\u001b[0m\u001b[0;34m.\u001b[0m\u001b[0mndim\u001b[0m\u001b[0;34m\u001b[0m\u001b[0;34m\u001b[0m\u001b[0m\n\u001b[1;32m   1245\u001b[0m     \u001b[0;32mif\u001b[0m \u001b[0mnd\u001b[0m \u001b[0;34m==\u001b[0m \u001b[0;36m0\u001b[0m\u001b[0;34m:\u001b[0m\u001b[0;34m\u001b[0m\u001b[0;34m\u001b[0m\u001b[0m\n\u001b[0;32m-> 1246\u001b[0;31m         \u001b[0;32mraise\u001b[0m \u001b[0mValueError\u001b[0m\u001b[0;34m(\u001b[0m\u001b[0;34m\"diff requires input that is at least one dimensional\"\u001b[0m\u001b[0;34m)\u001b[0m\u001b[0;34m\u001b[0m\u001b[0;34m\u001b[0m\u001b[0m\n\u001b[0m\u001b[1;32m   1247\u001b[0m     \u001b[0maxis\u001b[0m \u001b[0;34m=\u001b[0m \u001b[0mnormalize_axis_index\u001b[0m\u001b[0;34m(\u001b[0m\u001b[0maxis\u001b[0m\u001b[0;34m,\u001b[0m \u001b[0mnd\u001b[0m\u001b[0;34m)\u001b[0m\u001b[0;34m\u001b[0m\u001b[0;34m\u001b[0m\u001b[0m\n\u001b[1;32m   1248\u001b[0m \u001b[0;34m\u001b[0m\u001b[0m\n",
      "\u001b[0;31mValueError\u001b[0m: diff requires input that is at least one dimensional"
     ]
    }
   ],
   "source": [
    "# IMPORTS\n",
    "##########\n",
    "##########\n",
    "import numpy as np\n",
    "import matplotlib.pyplot as plt\n",
    "from scipy import optimize\n",
    "from scipy.stats import norm\n",
    "import seaborn as sns\n",
    "%matplotlib inline\n",
    "\n",
    "# CODE\n",
    "#######\n",
    "#######\n",
    "\n",
    "#CLD loading in the data with np.load\n",
    "placeholder = np.load('../../../coursework/homeworks/hw_data/hw3_data_1.npy')\n",
    "\n",
    "#CLD seperating the data and the associated uncert for ease of manipulation ie i dont want to think about indexing\n",
    "data = placeholder[:,0]\n",
    "uncert = placeholder[:,1]\n",
    "\n",
    "#CLD from lecture 5 using the sample mean equation for heterodescadstic gaussian\n",
    "sample_mean = np.sum(data / (uncert**2)) / np.sum(1/(uncert**2))\n",
    "\n",
    "#CLD from same lecutre using the formula for std on sample mean\n",
    "std_sample_mean = 1 / np.sqrt(np.sum(1/(uncert**2)))\n",
    "\n",
    "print('This samples mean: '+str(sample_mean))\n",
    "print('The standard error on this sample mean: '+str(std_sample_mean))\n",
    "\n",
    "#CLD using the same technique as was established in lecture 6 but instead finding the best fit sample mean from the \n",
    "#CLD log likelihood function\n",
    "#CLD establishing the log likelihood function\n",
    "def lnL_hetero(mean_guess, x, sig):\n",
    "    return np.sum((x-mean_guess)**2/(sig**2), -1)\n",
    "\n",
    "#CLD creating a second function that runs it changing mu?\n",
    "f_lnL_hetero = lambda mu: lnL_hetero(mu, \n",
    "                                      x=data, sig=uncert)\n",
    "#CLD optimizing it to find the best sample mean\n",
    "mu = 4\n",
    "mu_squared = optimize.fmin(f_lnL_hetero, mu)\n",
    "\n",
    "#CLD to use the numerical technique to find the fisher uncert on the mean, first take the second deravitive of lnL\n",
    "sigma_mu = np.diff(lnL_hetero, n=2)\n",
    "\n",
    "#CLD divide through by delta_parameter^2 for normalization\n",
    "sigma_mu /= (data[1]-data[0])**2\n",
    "\n",
    "#CLD multiply by negative 1\n",
    "sigma_mu *= -1\n",
    "\n",
    "#CLD finally, take the square root. As we defined by the difference in the first set of parameters, will only be \n",
    "#looking at the first element of sigma_mu?d\n",
    "sigma_mu = 1/(np.sqrt(sigma_mu))[0]"
   ]
  },
  {
   "cell_type": "code",
   "execution_count": 86,
   "metadata": {},
   "outputs": [],
   "source": [
    "#CLD writing the bootstrap funciton\n",
    "#CLD to bootstrap, draw random samples equal in size to the original dataset from the original dataset N times\n",
    "#CLD in bootstrapping, you may redraw values\n",
    "#CLD then calculate whatever statistic you are interested in investigating\n",
    "#CLD this maps out uncertainity distributions in our statistics\n",
    "def bootstrap(y, dy, N):\n",
    "    #CLD creating empty array to store the calculated vaules in\n",
    "    means = np.array([])\n",
    "    \n",
    "    #CLD looping over N\n",
    "    for i in range(N):\n",
    "        #CLD creating fascimile \"draws\" by randomly creating an array of indices which should correspond\n",
    "        #to elements in the data. as it is ok to redraw, do not need to worry about repeat indices\n",
    "        sample_ind = np.random.randint(np.size(y), size=np.size(y))\n",
    "        sample_data = y[sample_ind]\n",
    "        sample_uncert = dy[sample_ind]\n",
    "        \n",
    "        #CLD calculating best fit mean for these bootstrap realizations\n",
    "        f_lnL_hetero = lambda mu: lnL_hetero(mu, \n",
    "                                      x=sample_data, sig=sample_uncert)\n",
    "        mu = 4\n",
    "        mu_fit = optimize.fmin(f_lnL_hetero, mu, disp=False) #CLD disp=False supresses output\n",
    "        means = np.append(means, mu_fit)\n",
    "    \n",
    "    return means\n"
   ]
  },
  {
   "cell_type": "code",
   "execution_count": 87,
   "metadata": {},
   "outputs": [],
   "source": [
    "#CLD running bootstrap code\n",
    "bootstrap_means = bootstrap(data, uncert, 1000)"
   ]
  },
  {
   "cell_type": "code",
   "execution_count": 90,
   "metadata": {},
   "outputs": [
    {
     "data": {
      "image/png": "[encoded data removed]",
      "text/plain": [
       "<Figure size 576x432 with 1 Axes>"
      ]
     },
     "metadata": {
      "needs_background": "light"
     },
     "output_type": "display_data"
    },
    {
     "name": "stdout",
     "output_type": "stream",
     "text": [
      "The sample mean and sample mean distribution found in step one does agree with that found through bootstrapping\n"
     ]
    }
   ],
   "source": [
    "#CLD creating a pdf based off of found sig and mean from (1)\n",
    "xgrid = np.linspace(2,6,100)\n",
    "distG = norm(sample_mean, std_sample_mean)\n",
    "distG_pdf = distG.pdf(xgrid)\n",
    "\n",
    "#CLD plotting the normalized histograms of means along with pdf based on found mean and sig\n",
    "fig, ax = plt.subplots(figsize=(8,6))\n",
    "ax.hist(bootstrap_means, density=True, histtype='step', ls='dashed', color='r')\n",
    "ax.plot(xgrid, distG_pdf, c='grey');\n",
    "plt.show()\n",
    "\n",
    "print('The sample mean and sample mean distribution found in step one does agree with that found through bootstrapping')\n"
   ]
  },
  {
   "cell_type": "code",
   "execution_count": null,
   "metadata": {},
   "outputs": [],
   "source": []
  }
 ],
 "metadata": {
  "anaconda-cloud": {},
  "kernelspec": {
   "display_name": "Python [conda env:astr8070] *",
   "language": "python",
   "name": "conda-env-astr8070-py"
  },
  "language_info": {
   "codemirror_mode": {
    "name": "ipython",
    "version": 3
   },
   "file_extension": ".py",
   "mimetype": "text/x-python",
   "name": "python",
   "nbconvert_exporter": "python",
   "pygments_lexer": "ipython3",
   "version": "3.8.6"
  }
 },
 "nbformat": 4,
 "nbformat_minor": 2
}
