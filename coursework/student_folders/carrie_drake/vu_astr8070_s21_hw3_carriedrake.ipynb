{
 "cells": [
  {
   "cell_type": "markdown",
   "metadata": {},
   "source": [
    "### ASTR 8070: Astrostatistics\n",
    "***S. R. Taylor***\n",
    "___\n",
    "\n",
    "# Homework 3\n",
    "### Due: Friday, Feb 19th at 11.59pm CST\n",
    "---"
   ]
  },
  {
   "cell_type": "markdown",
   "metadata": {},
   "source": [
    "## Only one problem this week\n",
    "\n",
    "This problem uses a dataset in `/coursework/homeworks/hw_data/`.\n",
    "\n",
    "#1) Read in `hw3_data_1.npy`. This is a (50 x 2) numpy array, with measurements in the first column and uncertainties in the second column. Using the analytic results for heteroscedastic Gaussian data from lectures, compute the sample mean and the standard error on the sample mean from for this data.\n",
    "\n",
    "#?2) Reusing some approaches and tools from `Lecture_6`, write a ln-likelihood function for heteroscedastic Gaussian data, and use it in a fitting algorithm to find the best-fit mean. *Remember that scipy optimizers are set up to minimize functions.*\n",
    "\n",
    "?3) Using the same numerical technique from `Lecture_5`, compute the Fisher uncertainty estimate on the mean.\n",
    "\n",
    "#4) Using the bootstrap method, generate $1000$ bootstrap realizations of this dataset. *DO NOT use the `astroML` code. Write your own bootstrap function from scratch. Also recall that when resampling data, measurements and uncertainties should stay paired together.*\n",
    "\n",
    "#5) Repeat (2) with all $1000$ boostrap datasets to find the distribution of the sample mean. Plot a normalized histogram of these bootstrap means, and overplot a Gaussian pdf with the mean and std found in (1). Do these agree?\n",
    "\n",
    "#6) While we have fitted a heteroscedastic Gaussian to this data, let's try something else. Write some code to define a ln-likelihood for a Laplace distribution evaluated on this data. Fit simultaneously for the Laplace location parameter $\\mu$ and scale parameter $\\Delta$.\n",
    "\n",
    "#7) Compute the AIC values for the heteroscedastic Gaussian model and the Laplacian model. Which model is favored by the data?\n",
    "\n",
    "#8) Using the $1000$ bootstrap datasets from before, fit for the Laplacian $\\mu$ and $\\Delta$ for each. Make a nice `corner` plot of the distributions of $\\mu$ and $\\Delta$ that shows both the marginal $1$D distributions and the joint $2$D distribution. Make sure the plot has labels, shows the titles on each $1$D marginal panel, and has $68\\%$ and $95\\%$ levels.\n",
    "\n",
    "?9) Let's finish with a Fisher uncertainty estimate of the Laplacian parameters. Use the following code to install `numdifftools` which provides a simple way to compute derivatives. We can then compute the Hessian matrix, which is the matrix of the second derivatives of the user's function. This should be computed at the best-fit Laplacian parameters $\\mu$ and $\\Delta$. To finish, invert the matrix, and then take the square root. The diagonal entries will then be the Fisher uncertainties on $\\mu$ and $\\Delta$. How does these compare to the bootstrap distribution widths found in (8)?"
   ]
  },
  {
   "cell_type": "code",
   "execution_count": 91,
   "metadata": {},
   "outputs": [
    {
     "name": "stdout",
     "output_type": "stream",
     "text": [
      "Requirement already satisfied: numdifftools in /Users/carriedrake/opt/anaconda3/envs/astr8070/lib/python3.8/site-packages (0.9.39)\n",
      "Requirement already satisfied: corner in /Users/carriedrake/opt/anaconda3/envs/astr8070/lib/python3.8/site-packages (2.1.0)\n",
      "Requirement already satisfied: matplotlib>=2.1 in /Users/carriedrake/opt/anaconda3/envs/astr8070/lib/python3.8/site-packages (from corner) (3.3.3)\n",
      "Requirement already satisfied: wheel in /Users/carriedrake/opt/anaconda3/envs/astr8070/lib/python3.8/site-packages (from corner) (0.36.2)\n",
      "Requirement already satisfied: setuptools>=40.6.0 in /Users/carriedrake/opt/anaconda3/envs/astr8070/lib/python3.8/site-packages (from corner) (49.6.0.post20210108)\n",
      "Requirement already satisfied: setuptools-scm in /Users/carriedrake/opt/anaconda3/envs/astr8070/lib/python3.8/site-packages (from corner) (5.0.1)\n",
      "Requirement already satisfied: pillow>=6.2.0 in /Users/carriedrake/opt/anaconda3/envs/astr8070/lib/python3.8/site-packages (from matplotlib>=2.1->corner) (8.1.0)\n",
      "Requirement already satisfied: numpy>=1.15 in /Users/carriedrake/opt/anaconda3/envs/astr8070/lib/python3.8/site-packages (from matplotlib>=2.1->corner) (1.19.5)\n",
      "Requirement already satisfied: kiwisolver>=1.0.1 in /Users/carriedrake/opt/anaconda3/envs/astr8070/lib/python3.8/site-packages (from matplotlib>=2.1->corner) (1.3.1)\n",
      "Requirement already satisfied: python-dateutil>=2.1 in /Users/carriedrake/opt/anaconda3/envs/astr8070/lib/python3.8/site-packages (from matplotlib>=2.1->corner) (2.8.1)\n",
      "Requirement already satisfied: pyparsing!=2.0.4,!=2.1.2,!=2.1.6,>=2.0.3 in /Users/carriedrake/opt/anaconda3/envs/astr8070/lib/python3.8/site-packages (from matplotlib>=2.1->corner) (2.4.7)\n",
      "Requirement already satisfied: cycler>=0.10 in /Users/carriedrake/opt/anaconda3/envs/astr8070/lib/python3.8/site-packages (from matplotlib>=2.1->corner) (0.10.0)\n",
      "Requirement already satisfied: six in /Users/carriedrake/opt/anaconda3/envs/astr8070/lib/python3.8/site-packages (from cycler>=0.10->matplotlib>=2.1->corner) (1.15.0)\n"
     ]
    }
   ],
   "source": [
    "!pip install numdifftools\n",
    "!pip install corner"
   ]
  },
  {
   "cell_type": "markdown",
   "metadata": {},
   "source": [
    "### Solution"
   ]
  },
  {
   "cell_type": "code",
   "execution_count": 295,
   "metadata": {},
   "outputs": [
    {
     "name": "stdout",
     "output_type": "stream",
     "text": [
      "This samples mean: 3.9179920346060557\n",
      "The standard error on this sample mean: 0.09481084100510956\n",
      "\n",
      "Optimization terminated successfully.\n",
      "         Current function value: 86.325091\n",
      "         Iterations: 12\n",
      "         Function evaluations: 24\n",
      "The fitted mu: 3.91796875\n",
      "\n",
      "The calculated Fisher estimate uncertaintiy is: 0.09481084100292582\n",
      "\n",
      "Optimization terminated successfully.\n",
      "         Current function value: 156.788916\n",
      "         Iterations: 67\n",
      "         Function evaluations: 122\n",
      "The fitted location parameter for the Laplace function: 4.081268817368361\n",
      "The fitted scale parameter for the Laplace function: 0.8822692393980376\n",
      "\n",
      "The AIC for the guassian model: 174.69099783302718\n",
      "The AIC for the Laplacian model: 315.6186486797107\n",
      "Based on the calculated AIC values, the heteroscedastic gaussian model is the better fit.\n"
     ]
    }
   ],
   "source": [
    "# IMPORTS\n",
    "##########\n",
    "##########\n",
    "import numpy as np\n",
    "import matplotlib.pyplot as plt\n",
    "from scipy import optimize\n",
    "from scipy.stats import norm\n",
    "from scipy.stats import laplace\n",
    "import seaborn as sns\n",
    "import corner\n",
    "%matplotlib inline\n",
    "\n",
    "# CODE\n",
    "#######\n",
    "#######\n",
    "\n",
    "#CLD loading in the data with np.load\n",
    "placeholder = np.load('../../../coursework/homeworks/hw_data/hw3_data_1.npy')\n",
    "\n",
    "#CLD seperating the data and the associated uncert for ease of manipulation ie i dont want to think about indexing\n",
    "data = placeholder[:,0]\n",
    "uncert = placeholder[:,1]\n",
    "\n",
    "#CLD from lecture 5 using the sample mean equation for heterodescadstic gaussian\n",
    "sample_mean = np.sum(data / (uncert**2)) / np.sum(1/(uncert**2))\n",
    "\n",
    "#CLD from same lecutre using the formula for std on sample mean\n",
    "std_sample_mean = 1 / np.sqrt(np.sum(1/(uncert**2)))\n",
    "\n",
    "print('This samples mean: '+str(sample_mean))\n",
    "print('The standard error on this sample mean: '+str(std_sample_mean))\n",
    "print(\"\")\n",
    "\n",
    "#CLD using the same technique as was established in lecture 6 but instead finding the best fit sample mean from the \n",
    "#CLD log likelihood function\n",
    "#CLD establishing the log likelihood function\n",
    "def lnL_hetero(mean_guess, y, sig):\n",
    "    return np.sum((y-mean_guess)**2/(sig**2), -1)\n",
    "\n",
    "#CLD creating a second function that runs it changing mu?\n",
    "f_lnL_hetero = lambda mu: lnL_hetero(mu, \n",
    "                                      y=data, sig=uncert)\n",
    "#CLD optimizing it to find the best sample mean\n",
    "mu = 4\n",
    "mu_squared = optimize.fmin(f_lnL_hetero, mu)\n",
    "\n",
    "print('The fitted mu: '+str(mu_squared[0]))\n",
    "print(\"\")\n",
    "\n",
    "#CLD creating pdf to use for the fisher estimate\n",
    "mugrid = np.linspace(1,8,1000)\n",
    "L_scan = []\n",
    "for mu in mugrid:\n",
    "    L = norm.logpdf(data, mu, uncert)\n",
    "    L = np.sum(L)\n",
    "    L_scan.append(L)\n",
    "    \n",
    "L_scan = np.array(L_scan)\n",
    "\n",
    "#CLD to use the numerical technique to find the fisher uncert on the mean, first take the second deravitive of lnL\n",
    "sigma_mu = np.diff(L_scan, n=2)\n",
    "\n",
    "#CLD divide through by delta_parameter^2 for normalization\n",
    "sigma_mu /= (mugrid[1]-mugrid[0])**2\n",
    "\n",
    "#CLD multiply by negative 1\n",
    "sigma_mu *= -1\n",
    "\n",
    "#CLD finally, take the square root. As we defined by the difference in the first set of parameters, will only be \n",
    "#looking at the first element of sigma_mu?\n",
    "sigma_mu = 1/(np.sqrt(sigma_mu))[0]\n",
    "\n",
    "print('The calculated Fisher estimate uncertaintiy is: '+str(sigma_mu))\n",
    "print(\"\")\n",
    "\n",
    "#CLD writing the Laplace minimization function\n",
    "#CLD essentially the same except this time fitting for mu and what would be sig but is the scale parameter\n",
    "def lnL_laplace(loc_guess, scale_guess, y):\n",
    "    p = laplace.logpdf(y, loc_guess, scale_guess)\n",
    "    p = np.sum(p)\n",
    "    return -p\n",
    "\n",
    "f_lnL_laplace = lambda omega: lnL_laplace(omega[0], omega[1],\n",
    "                                        y=data)\n",
    "omega = [3,0.2]\n",
    "omega_fit = optimize.fmin(f_lnL_laplace, omega)\n",
    "\n",
    "print('The fitted location parameter for the Laplace function: '+str(omega_fit[0]))\n",
    "print('The fitted scale parameter for the Laplace function: '+str(omega_fit[1]))\n",
    "\n",
    "#CLD computing the AIC for both models\n",
    "k_guass = 1 #fitting one parameter \n",
    "n = np.size(data)\n",
    "aic_guass = -2*(-lnL_hetero(mu_squared, data, uncert)) + (2*k_guass) + ((2*k_guass*(1+k_guass))/(n - k_guass - 1))\n",
    "\n",
    "k_laplace = 1 #fitting two parameters\n",
    "aic_laplace = -2*(-lnL_laplace(omega_fit[0], omega_fit[1],  data)) + (2*k_laplace) + ((2*k_laplace*(1+k_laplace))/(n - k_laplace - 1))\n",
    "\n",
    "print('\\nThe AIC for the guassian model: '+str(aic_guass))\n",
    "print('The AIC for the Laplacian model: '+str(aic_laplace))\n",
    "print('Based on the calculated AIC values, the heteroscedastic gaussian model is the better fit.')\n"
   ]
  },
  {
   "cell_type": "code",
   "execution_count": 277,
   "metadata": {},
   "outputs": [],
   "source": [
    "#CLD writing the bootstrap funciton\n",
    "#CLD to bootstrap, draw random samples equal in size to the original dataset from the original dataset N times\n",
    "#CLD in bootstrapping, you may redraw values\n",
    "#CLD then calculate whatever statistic you are interested in investigating\n",
    "#CLD this maps out uncertainity distributions in our statistics\n",
    "def bootstrap(y, dy, N):\n",
    "    #CLD creating empty array to store the calculated vaules in\n",
    "    means = np.array([])\n",
    "    loc = np.array([])\n",
    "    scale = np.array([])\n",
    "    \n",
    "    #CLD looping over N\n",
    "    for i in range(N):\n",
    "        #CLD creating fascimile \"draws\" by randomly creating an array of indices which should correspond\n",
    "        #to elements in the data. as it is ok to redraw, do not need to worry about repeat indices\n",
    "        sample_ind = np.random.randint(np.size(y), size=np.size(y))\n",
    "        sample_data = y[sample_ind]\n",
    "        sample_uncert = dy[sample_ind]\n",
    "        \n",
    "        #CLD calculating best fit mean for these bootstrap realizations\n",
    "        #CLD first for guassian and then for Laplace distributions\n",
    "        f_lnL_hetero = lambda mu: lnL_hetero(mu, \n",
    "                                      y=sample_data, sig=sample_uncert)\n",
    "        mu = 4\n",
    "        mu_fit = optimize.fmin(f_lnL_hetero, mu, disp=False) #CLD disp=False supresses output\n",
    "        means = np.append(means, mu_fit)\n",
    "        \n",
    "        f_lnL_laplace = lambda omega: lnL_laplace(omega[0], omega[1],\n",
    "                                                 y=sample_data)\n",
    "        params = [3,0.2]\n",
    "        params_fit = optimize.fmin(f_lnL_laplace, params, disp=False)\n",
    "        loc = np.append(loc, params_fit[0])\n",
    "        scale = np.append(scale, params_fit[1])\n",
    "            \n",
    "    return means, loc, scale\n"
   ]
  },
  {
   "cell_type": "code",
   "execution_count": 278,
   "metadata": {},
   "outputs": [],
   "source": [
    "#CLD running bootstrap code\n",
    "bootstrap_means, bootstrap_locs, bootstrap_scales = bootstrap(data, uncert, 1000)"
   ]
  },
  {
   "cell_type": "code",
   "execution_count": 279,
   "metadata": {},
   "outputs": [
    {
     "data": {
      "image/png": "[encoded data removed]",
      "text/plain": [
       "<Figure size 576x432 with 1 Axes>"
      ]
     },
     "metadata": {
      "needs_background": "light"
     },
     "output_type": "display_data"
    },
    {
     "name": "stdout",
     "output_type": "stream",
     "text": [
      "The sample mean and sample mean distribution found in step one does agree with that found through bootstrapping\n"
     ]
    }
   ],
   "source": [
    "#CLD creating a pdf based off of found sig and mean from (1)\n",
    "xgrid = np.linspace(2,6,100)\n",
    "distG = norm(sample_mean, std_sample_mean)\n",
    "distG_pdf = distG.pdf(xgrid)\n",
    "\n",
    "#CLD plotting the normalized histograms of means along with pdf based on found mean and sig\n",
    "fig, ax = plt.subplots(figsize=(8,6))\n",
    "ax.hist(bootstrap_means, density=True, histtype='step', ls='dashed', color='r')\n",
    "ax.plot(xgrid, distG_pdf, c='grey');\n",
    "plt.show()\n",
    "\n",
    "print('The sample mean and sample mean distribution found in step one does agree with that found through bootstrapping')\n"
   ]
  },
  {
   "cell_type": "code",
   "execution_count": 280,
   "metadata": {},
   "outputs": [
    {
     "data": {
      "image/png": "[encoded data removed]",
      "text/plain": [
       "<Figure size 396x396 with 4 Axes>"
      ]
     },
     "metadata": {
      "needs_background": "light"
     },
     "output_type": "display_data"
    }
   ],
   "source": [
    "ndim, nsamples = 1, 1000\n",
    "corner_data = np.hstack([bootstrap_locs.reshape([nsamples, ndim]), bootstrap_scales.reshape([nsamples, ndim])])\n",
    "figure = corner.corner(corner_data, labels=[r'$\\mu$', r'$\\Delta$'], quantiles=[0.68, 0.95], show_titles=True)"
   ]
  },
  {
   "cell_type": "code",
   "execution_count": 294,
   "metadata": {},
   "outputs": [
    {
     "name": "stdout",
     "output_type": "stream",
     "text": [
      "[[0.09250326        nan]\n",
      " [       nan 0.08823044]]\n",
      "Based on the error ranges given above, the off diagonal elements seem to be consistent with previous calculations\n"
     ]
    },
    {
     "name": "stderr",
     "output_type": "stream",
     "text": [
      "<ipython-input-294-afa5724f8300>:3: RuntimeWarning: invalid value encountered in sqrt\n",
      "  sigma_laplace = np.linalg.inv(H)**0.5\n"
     ]
    }
   ],
   "source": [
    "import numdifftools as nd\n",
    "H = nd.Hessian(f_lnL_laplace)([omega_fit[0], omega_fit[1]])\n",
    "sigma_laplace = np.linalg.inv(H)**0.5\n",
    "print(sigma_laplace)\n",
    "print('Based on the error ranges given above, the off diagonal elements seem to be consistent with previous calculations')\n"
   ]
  },
  {
   "cell_type": "code",
   "execution_count": null,
   "metadata": {},
   "outputs": [],
   "source": []
  }
 ],
 "metadata": {
  "anaconda-cloud": {},
  "kernelspec": {
   "display_name": "Python [conda env:astr8070] *",
   "language": "python",
   "name": "conda-env-astr8070-py"
  },
  "language_info": {
   "codemirror_mode": {
    "name": "ipython",
    "version": 3
   },
   "file_extension": ".py",
   "mimetype": "text/x-python",
   "name": "python",
   "nbconvert_exporter": "python",
   "pygments_lexer": "ipython3",
   "version": "3.8.6"
  }
 },
 "nbformat": 4,
 "nbformat_minor": 2
}
