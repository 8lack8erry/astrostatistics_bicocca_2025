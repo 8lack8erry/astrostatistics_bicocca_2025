{
 "cells": [
  {
   "cell_type": "markdown",
   "metadata": {},
   "source": [
    "### ASTR 8070: Astrostatistics\n",
    "***S. R. Taylor***\n",
    "___\n",
    "\n",
    "# Homework 4\n",
    "### Due: Friday, Mar 5th at 11.59pm CST\n",
    "---"
   ]
  },
  {
   "cell_type": "code",
   "execution_count": 14,
   "metadata": {},
   "outputs": [],
   "source": [
    "#CLD Imports for this hw\n",
    "import numpy as np\n",
    "import matplotlib.pyplot as plt\n",
    "%matplotlib inline\n",
    "\n",
    "import scipy\n",
    "from scipy.stats import norm\n",
    "from scipy.stats import uniform"
   ]
  },
  {
   "cell_type": "markdown",
   "metadata": {},
   "source": [
    "## Problem 1\n",
    "\n",
    "This problem uses a dataset in `/coursework/homeworks/hw_data/`.\n",
    "\n",
    "1) Read in `hw4_data_1.npy`. This is a (10 x 2) numpy array, with voltage measurements in the first column and heteroscedastic voltage uncertainties in the second column. Compute the sample mean and the standard error on the sample mean for this data.\n",
    "\n",
    "2) Fit the appropriate ln-likelihood function and find the best-fit mean voltage.\n",
    "\n",
    "3) Compute and plot the Bayesian posterior probability density (*not the log posterior*) for the mean voltage assuming a uniform prior for the mean in the range 3 to 7. Make sure this posterior pdf is normalized!\n",
    "\n",
    "4) By either drawing samples from this posterior, or using your gridded posterior pdf to make a cdf, find the equal-tailed 68.3% credible region for the mean, and compare the upper and lower boundaries to the sample mean plus/minus the standard error, respectively. *Also* find the MAP value of the mean.\n",
    "\n",
    "5) Repeat (3) and (4) this time with a prior on the mean that is uniform in the range 4.6 to 5.4. \n",
    "\n",
    "6) Now, imagine that we read an old paper about the experiment that gave us the voltage measurements, and they found that the mean was actually $6\\pm0.3$. Repeat (3) and (4) this time with a Gaussian prior on the mean centered at $6$ with standard deviation of $0.3$.\n",
    "\n",
    "7) Plot all of the normalized posterior pdfs for $\\mu$ from (3), (5), and (6) on the same plot, making sure that the xlim of the plot spans 0 to 10.\n",
    "\n",
    "8) You have made sure that the posterior pdfs are properly normalized, but until now you have ignored the meaning of that normalization constant. It is the Bayesian evidence for the particular model you have applied! Compute the evidence under a new model where the prior for the mean is a delta function at the best-fit value you found in (1) *(think about this and don't just immediately go looking for a `scipy.stats` delta function)*. Compare this to the evidence found under the prior in (3). Taking ratios to make a Bayes factor, which model is favored? Is there much of an Occam penalty by having the wide prior compared to knowing the mean exactly? "
   ]
  },
  {
   "cell_type": "markdown",
   "metadata": {},
   "source": [
    "### Solution"
   ]
  },
  {
   "cell_type": "code",
   "execution_count": 19,
   "metadata": {},
   "outputs": [],
   "source": [
    "#CLD reading in the data\n",
    "placeholder = np.load('../../../coursework/homeworks/hw_data/hw4_data_1.npy')\n",
    "data = placeholder[:,0]\n",
    "uncert = placeholder[:,1]"
   ]
  },
  {
   "cell_type": "code",
   "execution_count": 20,
   "metadata": {},
   "outputs": [
    {
     "name": "stdout",
     "output_type": "stream",
     "text": [
      "This samples mean: 4.942118214425304\n",
      "The standard error on this sample mean: 0.43024334605205083\n",
      "\n"
     ]
    }
   ],
   "source": [
    "#CLD calcing the sample mean and the standard error on the sample mean using the same method from hw3\n",
    "#CLD from lecture 5 using the sample mean equation for heterodescadstic gaussian\n",
    "sample_mean = np.sum(data / (uncert**2)) / np.sum(1/(uncert**2))\n",
    "\n",
    "#CLD from same lecutre using the formula for std on sample mean\n",
    "std_sample_mean = 1 / np.sqrt(np.sum(1/(uncert**2)))\n",
    "\n",
    "print('This samples mean: '+str(sample_mean))\n",
    "print('The standard error on this sample mean: '+str(std_sample_mean))\n",
    "print(\"\")"
   ]
  },
  {
   "cell_type": "code",
   "execution_count": 21,
   "metadata": {},
   "outputs": [
    {
     "name": "stdout",
     "output_type": "stream",
     "text": [
      "Optimization terminated successfully.\n",
      "         Current function value: 5.614502\n",
      "         Iterations: 15\n",
      "         Function evaluations: 30\n",
      "The fitted mu: 4.9420898437500025\n",
      "\n"
     ]
    }
   ],
   "source": [
    "#CLD otimizing the log likelihood to fit. Again method taken from hw3\n",
    "#CLD using the same technique as was established in lecture 6 but instead finding the best fit sample mean from the \n",
    "#CLD log likelihood function\n",
    "#CLD establishing the log likelihood function\n",
    "def lnL_hetero(mean_guess, y, sig):\n",
    "    return np.sum((y-mean_guess)**2/(sig**2), -1)\n",
    "\n",
    "#CLD creating a second function that runs it changing mu?\n",
    "f_lnL_hetero = lambda mu: lnL_hetero(mu, \n",
    "                                      y=data, sig=uncert)\n",
    "#CLD optimizing it to find the best sample mean\n",
    "mu = 4\n",
    "mu_squared = scipy.optimize.fmin(f_lnL_hetero, mu)\n",
    "\n",
    "print('The fitted mu: '+str(mu_squared[0]))\n",
    "print(\"\")"
   ]
  },
  {
   "cell_type": "code",
   "execution_count": 27,
   "metadata": {},
   "outputs": [
    {
     "data": {
      "image/png": "[encoded data removed]",
      "text/plain": [
       "<Figure size 576x432 with 1 Axes>"
      ]
     },
     "metadata": {
      "needs_background": "light"
     },
     "output_type": "display_data"
    }
   ],
   "source": [
    "#CLD the likelihood is the sum of the pdf at mu_guessed\n",
    "#CLD the prior is uniform dist centered at 3 with scale 4=(7-3)\n",
    "\n",
    "mu_grid = np.linspace(0,10,100)\n",
    "bayes_prob = []\n",
    "for mu in mu_grid:\n",
    "    L = np.prod(norm.pdf(data, mu, uncert)) * uniform.pdf(mu,3,4)\n",
    "    bayes_prob.append(L)\n",
    "    \n",
    "bayes_prob = np.array(bayes_prob)\n",
    "\n",
    "#CLD to normalize divide my the area under the graph, or the sum of bayes_prob\n",
    "bayes_prob_norm = bayes_prob / np.sum(bayes_prob)\n",
    "\n",
    "#CLD plotting\n",
    "fig, ax = plt.subplots(figsize=(8,6))\n",
    "ax.plot(mu_grid, bayes_prob_norm)\n",
    "ax.set_xlabel(r'$\\mu$')\n",
    "ax.set_ylabel('Bayes Psoterior')\n",
    "ax.set_xlim(2,8)\n",
    "plt.show(fig);"
   ]
  },
  {
   "cell_type": "code",
   "execution_count": 32,
   "metadata": {},
   "outputs": [
    {
     "name": "stdout",
     "output_type": "stream",
     "text": [
      "The MAP of this distribution is: 4.94949494949495\n",
      "The upper bound mu is: 5.454545454545454\n",
      "The lower bound mu is: 4.646464646464646\n",
      "\n",
      "Although not exact, this agree relatively well with the fitted mu and the sample mean errors found.\n"
     ]
    }
   ],
   "source": [
    "#CLD the MAP values is the easiest to find so will be doing that first\n",
    "#CLD the MAP should just be mu at which the maximum posterior value occurs\n",
    "\n",
    "max_ind = np.argmax(bayes_prob_norm)\n",
    "MAP = mu_grid[max_ind]\n",
    "\n",
    "#CLD to use the pdf to make a cdf iteratiely sum over x+dx of the normalized posterior function\n",
    "#CLD this works as the cdf is defined as the integral of the pdf and this is a way to approx the integral\n",
    "cdf = []\n",
    "for i in range(len(bayes_prob_norm)):\n",
    "    x = np.sum(bayes_prob_norm[:i])\n",
    "    cdf.append(x)\n",
    "\n",
    "cdf = np.array(cdf)\n",
    "\n",
    "#CLD the 68.3% credible region of equal tails will be repersented by the boundaries found at 16% and 84%\n",
    "#CLD there most likely will not be values exactly equal to the above in the cdf so will be using them as a lower \n",
    "#CLD boundary to mask to and then taking the first values in mask\n",
    "lower_mask = np.where(cdf > 0.16)\n",
    "upper_mask = np.where(cdf > 0.84)\n",
    "\n",
    "upper_mu = mu_grid[upper_mask]\n",
    "lower_mu = mu_grid[lower_mask]\n",
    "\n",
    "print('The MAP of this distribution is: '+str(MAP))\n",
    "print('The upper bound mu is: '+str(upper_mu[0]))\n",
    "print('The lower bound mu is: '+str(lower_mu[0]))\n",
    "print('\\nAlthough not exact, this agree relatively well with the fitted mu and the sample mean errors found.')"
   ]
  },
  {
   "cell_type": "code",
   "execution_count": 33,
   "metadata": {},
   "outputs": [
    {
     "data": {
      "image/png": "[encoded data removed]",
      "text/plain": [
       "<Figure size 576x432 with 1 Axes>"
      ]
     },
     "metadata": {
      "needs_background": "light"
     },
     "output_type": "display_data"
    }
   ],
   "source": [
    "#CLD redoing (3) but with a uniform prior in range of 4.6 o 5.4\n",
    "\n",
    "#CLD the likelihood is the sum of the pdf at mu_guessed\n",
    "#CLD the prior is uniform dist centered at 3 with scale 4=(7-3)\n",
    "\n",
    "mu_grid = np.linspace(0,10,100)\n",
    "bayes_prob2 = []\n",
    "for mu in mu_grid:\n",
    "    L = np.prod(norm.pdf(data, mu, uncert)) * uniform.pdf(mu,4.6,(5.4-4.6))\n",
    "    bayes_prob2.append(L)\n",
    "    \n",
    "bayes_prob2 = np.array(bayes_prob2)\n",
    "\n",
    "#CLD to normalize divide my the area under the graph, or the sum of bayes_prob\n",
    "bayes_prob_norm2 = bayes_prob2 / np.sum(bayes_prob2)\n",
    "\n",
    "#CLD plotting\n",
    "fig, ax = plt.subplots(figsize=(8,6))\n",
    "ax.plot(mu_grid, bayes_prob_norm2)\n",
    "ax.set_xlabel(r'$\\mu$')\n",
    "ax.set_ylabel('Bayes Psoterior')\n",
    "ax.set_xlim(2,8)\n",
    "plt.show(fig);"
   ]
  },
  {
   "cell_type": "code",
   "execution_count": 36,
   "metadata": {},
   "outputs": [
    {
     "name": "stdout",
     "output_type": "stream",
     "text": [
      "The MAP of this distribution is: 4.94949494949495\n",
      "The upper bound mu is: 5.353535353535354\n",
      "The lower bound mu is: 4.848484848484849\n"
     ]
    }
   ],
   "source": [
    "#CLD redoing (4) with this new bayes posterior pdf\n",
    "#CLD the MAP values is the easiest to find so will be doing that first\n",
    "#CLD the MAP should just be mu at which the maximum posterior value occurs\n",
    "\n",
    "max_ind = np.argmax(bayes_prob_norm2)\n",
    "MAP2 = mu_grid[max_ind]\n",
    "\n",
    "#CLD to use the pdf to make a cdf iteratiely sum over x+dx of the normalized posterior function\n",
    "#CLD this works as the cdf is defined as the integral of the pdf and this is a way to approx the integral\n",
    "cdf2 = []\n",
    "for i in range(len(bayes_prob_norm2)):\n",
    "    x = np.sum(bayes_prob_norm2[:i])\n",
    "    cdf2.append(x)\n",
    "\n",
    "cdf2 = np.array(cdf2)\n",
    "\n",
    "#CLD the 68.3% credible region of equal tails will be repersented by the boundaries found at 16% and 84%\n",
    "#CLD there most likely will not be values exactly equal to the above in the cdf so will be using them as a lower \n",
    "#CLD boundary to mask to and then taking the first values in mask\n",
    "lower_mask = np.where(cdf2 > 0.16)\n",
    "upper_mask = np.where(cdf2 > 0.84)\n",
    "\n",
    "upper_mu2 = mu_grid[upper_mask]\n",
    "lower_mu2 = mu_grid[lower_mask]\n",
    "\n",
    "print('The MAP of this distribution is: '+str(MAP2))\n",
    "print('The upper bound mu is: '+str(upper_mu2[0]))\n",
    "print('The lower bound mu is: '+str(lower_mu2[0]))"
   ]
  },
  {
   "cell_type": "code",
   "execution_count": 41,
   "metadata": {},
   "outputs": [
    {
     "data": {
      "image/png": "[encoded data removed]",
      "text/plain": [
       "<Figure size 576x432 with 1 Axes>"
      ]
     },
     "metadata": {
      "needs_background": "light"
     },
     "output_type": "display_data"
    }
   ],
   "source": [
    "#CLD repeating (3) again with new prior\n",
    "#CLD the guassian prior should be essentially the same but using the norm.pdf function\n",
    "#CLD all else will be directly transfered from (3)\n",
    "\n",
    "#CLD the likelihood is the sum of the pdf at mu_guessed\n",
    "#CLD the prior is uniform dist centered at 3 with scale 4=(7-3)\n",
    "\n",
    "mu_grid = np.linspace(0,10,100)\n",
    "bayes_prob3 = []\n",
    "for mu in mu_grid:\n",
    "    L = np.prod(norm.pdf(data, mu, uncert)) * norm.pdf(mu,6,0.3)\n",
    "    bayes_prob3.append(L)\n",
    "    \n",
    "bayes_prob3 = np.array(bayes_prob3)\n",
    "\n",
    "#CLD to normalize divide my the area under the graph, or the sum of bayes_prob\n",
    "bayes_prob_norm3 = bayes_prob3 / np.sum(bayes_prob3)\n",
    "\n",
    "#CLD plotting\n",
    "fig, ax = plt.subplots(figsize=(8,6))\n",
    "ax.plot(mu_grid, bayes_prob_norm3)\n",
    "ax.set_xlabel(r'$\\mu$')\n",
    "ax.set_ylabel('Bayes Psoterior')\n",
    "plt.show(fig);"
   ]
  },
  {
   "cell_type": "code",
   "execution_count": 43,
   "metadata": {},
   "outputs": [
    {
     "name": "stdout",
     "output_type": "stream",
     "text": [
      "The MAP of this distribution is: 5.656565656565657\n",
      "The upper bound mu is: 5.959595959595959\n",
      "The lower bound mu is: 5.555555555555555\n"
     ]
    }
   ],
   "source": [
    "#CLD again the same procedure as (4) and (6) but with new posterior distribution\n",
    "\n",
    "#CLD the MAP values is the easiest to find so will be doing that first\n",
    "#CLD the MAP should just be mu at which the maximum posterior value occurs\n",
    "\n",
    "max_ind = np.argmax(bayes_prob_norm3)\n",
    "MAP3 = mu_grid[max_ind]\n",
    "\n",
    "#CLD to use the pdf to make a cdf iteratiely sum over x+dx of the normalized posterior function\n",
    "#CLD this works as the cdf is defined as the integral of the pdf and this is a way to approx the integral\n",
    "cdf3 = []\n",
    "for i in range(len(bayes_prob_norm3)):\n",
    "    x = np.sum(bayes_prob_norm3[:i])\n",
    "    cdf3.append(x)\n",
    "\n",
    "cdf3 = np.array(cdf3)\n",
    "\n",
    "#CLD the 68.3% credible region of equal tails will be repersented by the boundaries found at 16% and 84%\n",
    "#CLD there most likely will not be values exactly equal to the above in the cdf so will be using them as a lower \n",
    "#CLD boundary to mask to and then taking the first values in mask\n",
    "lower_mask = np.where(cdf3 > 0.16)\n",
    "upper_mask = np.where(cdf3 > 0.84)\n",
    "\n",
    "upper_mu3 = mu_grid[upper_mask]\n",
    "lower_mu3 = mu_grid[lower_mask]\n",
    "\n",
    "print('The MAP of this distribution is: '+str(MAP3))\n",
    "print('The upper bound mu is: '+str(upper_mu3[0]))\n",
    "print('The lower bound mu is: '+str(lower_mu3[0]))\n"
   ]
  },
  {
   "cell_type": "code",
   "execution_count": 45,
   "metadata": {},
   "outputs": [
    {
     "data": {
      "image/png": "[encoded data removed]",
      "text/plain": [
       "<Figure size 576x432 with 1 Axes>"
      ]
     },
     "metadata": {
      "needs_background": "light"
     },
     "output_type": "display_data"
    }
   ],
   "source": [
    "#CLD plotting all of the normalized posterior pdfs together\n",
    "fig, ax = plt.subplots(figsize=(8,6))\n",
    "ax.plot(mu_grid, bayes_prob_norm3, label=r'Gaussian Prior, $\\mu$=6, $\\sigma$=0.3')\n",
    "ax.plot(mu_grid, bayes_prob_norm2, label=r'Uniform Prior, $\\mu$=[4.6,5.4]')\n",
    "ax.plot(mu_grid, bayes_prob_norm, label=r'Uniform Prior, $\\mu$=[3,7]')\n",
    "ax.set_xlabel(r'$\\mu$')\n",
    "ax.set_ylabel('Bayes Psoterior')\n",
    "ax.set_xlim(0,10)\n",
    "ax.legend()\n",
    "plt.show(fig);"
   ]
  },
  {
   "cell_type": "code",
   "execution_count": 49,
   "metadata": {},
   "outputs": [
    {
     "name": "stdout",
     "output_type": "stream",
     "text": [
      "The Bayesian evidence for the wide prior: 2.862955514389075e-07\n",
      "The Bayesian evidence for the narrow prior: 1.0725971348964461e-07\n",
      "The Bayes factor between these two models (unknown/known): 2.669180646902883\n",
      "\n",
      "There is not much of an Occam penatlty for the wide prior model. If anything, The Bayes factor favors it over the known mean model.\n"
     ]
    }
   ],
   "source": [
    "#CLD first storing the bayesian evidence for the unknown, wide range mean\n",
    "bayes_evid_wide = np.sum(bayes_prob)\n",
    "\n",
    "#CLD a delta prior means it is only one at that exact value and zero else where\n",
    "#CLD meaning if we find the likelihood at the sample mean (where the delta=1)\n",
    "#CLD thenn we have the evidence for this model as all other values would be 0 and have no effect on the sum\n",
    "bayes_evid_known = np.prod(norm.pdf(data, sample_mean, uncert))\n",
    "\n",
    "#CLD the Bayes factor is simply the ratio between the two\n",
    "bayes_factor = bayes_evid_wide / bayes_evid_known\n",
    "\n",
    "print('The Bayesian evidence for the wide prior: '+str(bayes_evid_wide))\n",
    "print('The Bayesian evidence for the narrow prior: '+str(bayes_evid_known))\n",
    "print('The Bayes factor between these two models (unknown/known): '+str(bayes_factor))\n",
    "print('\\nThere is not much of an Occam penatlty for the wide prior model. If anything, The Bayes factor favors it over the known mean model.')\n"
   ]
  },
  {
   "cell_type": "markdown",
   "metadata": {},
   "source": [
    "## Problem 2\n",
    "\n",
    "This problem uses a dataset in `/coursework/homeworks/hw_data/`.\n",
    "\n",
    "1) Read in `hw4_data_2.npy`, which is a (3 x 20) numpy array that you used in `Lecture_9`. Set `x, y, sigma_y = data`. \n",
    "\n",
    "We're going to do some polynomial fits to this data just like in the lecture. However, in all cases you should **keep the $y$-intercept fixed at $-0.23$**. \n",
    "\n",
    "2) Use the following code to compute the un-normalized posterior pdf (i.e. just the likelihood x prior) on a grid of the linear coefficient (i.e. the slope) of a linear model, with a uniform prior between 0.5 and 1.5. Plot this posterior pdf. Remember this is just a one-dimensional model because the $y$-intercept is fixed. I advise a grid size of 100."
   ]
  },
  {
   "cell_type": "code",
   "execution_count": 50,
   "metadata": {},
   "outputs": [],
   "source": [
    "#Functions to do a polynomial fit, and compute the likelihood\n",
    "def polynomial_fit(theta, x):\n",
    "    \"\"\"Polynomial model of degree (len(theta) - 1)\"\"\"\n",
    "    # For a polynomial with order 1, this gives theta_0 + theta_1*x\n",
    "    # For a polynomial with order 2, this gives theta_0 + theta_1*x + theta_2*x^2, etc.\n",
    "    return sum(t * x ** n for (n, t) in enumerate(theta))\n",
    "\n",
    "# compute the data log-likelihood given a model\n",
    "def logL(theta, data, model=polynomial_fit):\n",
    "    \"\"\"Gaussian log-likelihood of the model at theta\"\"\"\n",
    "    x, y, sigma_y = data\n",
    "    y_fit = model(theta, x)\n",
    "    return sum(scipy.stats.norm.logpdf(*args) \n",
    "               for args in zip(y, y_fit, sigma_y))"
   ]
  },
  {
   "cell_type": "markdown",
   "metadata": {},
   "source": [
    "3) Using your 1D gridded likelihood-x-prior, compute the Bayesian evidence of this linear model. This may be a big number!\n",
    "\n",
    "4) Now compute the joint 2D posterior pdf (again just the likelihood x prior) of linear and quadratic coefficients of a quadratic model. Give the linear coefficient a uniform prior between 0.5 and 1.5. Give the quadratic coefficient a uniform prior between -1 and 0.25. Plot this two-dimensional posterior. Remember this is a two-dimensional model because the $y$-intercept is fixed. I advise a grid size of 100 in each model dimension.\n",
    "\n",
    "5) Using your 2D gridded likelihood-x-prior, compute the Bayesian evidence of the quadratic model. \n",
    "\n",
    "6) Calculate the Bayes factor for a linear versus quadratic model. How does this compare/contrast with the BIC model comparison in the lecture? "
   ]
  },
  {
   "cell_type": "markdown",
   "metadata": {},
   "source": [
    "### Solution"
   ]
  },
  {
   "cell_type": "code",
   "execution_count": 52,
   "metadata": {},
   "outputs": [],
   "source": [
    "#CLD reading in the data\n",
    "data2 = np.load('../../../coursework/homeworks/hw_data/hw4_data_2.npy')\n",
    "x, y, sigma_y = data2"
   ]
  },
  {
   "cell_type": "code",
   "execution_count": 55,
   "metadata": {},
   "outputs": [
    {
     "data": {
      "image/png": "[encoded data removed]",
      "text/plain": [
       "<Figure size 576x432 with 1 Axes>"
      ]
     },
     "metadata": {
      "needs_background": "light"
     },
     "output_type": "display_data"
    }
   ],
   "source": [
    "#CLD begin by making a slope grid to iterate over\n",
    "slope_grid = np.linspace(0,2,100)\n",
    "\n",
    "#CLD will have to iteratie over the slope grid in order to get right fits with theta\n",
    "pdf = []\n",
    "for slope in slope_grid:\n",
    "    a = [-0.23, slope] #CLD first value is fixed y intercept\n",
    "    ln_pdf = logL(a, data2) + uniform.logpdf(slope, 0.5, 1) #CLD adding prior because in log space for this calc\n",
    "    pdf.append(np.exp(ln_pdf)) #CLD unlogging pdf\n",
    "\n",
    "#CLD plotting the pdf\n",
    "fig, ax = plt.subplots(figsize=(8,6))\n",
    "ax.plot(slope_grid, pdf)\n",
    "ax.set_xlabel('Slope')\n",
    "ax.set_ylabel('Bayes Psoterior')\n",
    "plt.show(fig);"
   ]
  },
  {
   "cell_type": "code",
   "execution_count": 56,
   "metadata": {},
   "outputs": [
    {
     "name": "stdout",
     "output_type": "stream",
     "text": [
      "The Bayesian evidence for this model is: 18101394291.452644\n"
     ]
    }
   ],
   "source": [
    "#CLD again the bayesian evidence is just the area under the graph, or the sum of the pdf\n",
    "bayes_evid = np.sum(pdf)\n",
    "print('The Bayesian evidence for this model is: '+str(bayes_evid))"
   ]
  },
  {
   "cell_type": "code",
   "execution_count": 89,
   "metadata": {},
   "outputs": [
    {
     "name": "stderr",
     "output_type": "stream",
     "text": [
      "<ipython-input-89-d243f6ce8619>:10: RuntimeWarning: divide by zero encountered in log\n",
      "  ln_pdf = logL(a, data2) + np.log(uniform.pdf(slope_grid[i], 0.5, 1) * uniform.pdf(quad_grid[j], -1, (0.25+1)))\n"
     ]
    }
   ],
   "source": [
    "#CLD begin by making a slope grid to iterate over along with the quadratic coeff grid\n",
    "slope_grid = np.linspace(0,2,100)\n",
    "quad_grid = np.linspace(-2,4,100)\n",
    "\n",
    "#CLD will have to iteratie over the slope grid in order to get right fits with theta\n",
    "pdf2 = np.zeros((100,100))\n",
    "for i in range(len(slope_grid)):\n",
    "    for j in range(len(quad_grid)):\n",
    "        a = [-0.23, slope_grid[i], quad_grid[j]] #CLD first value is fixed y intercept\n",
    "        ln_pdf = logL(a, data2) + np.log(uniform.pdf(slope_grid[i], 0.5, 1) * uniform.pdf(quad_grid[j], -1, (0.25+1)))\n",
    "        #CLD adding prior because in log space for this calc\n",
    "        #CLD as the two variables are indpendent can add them seperately (would be like multiplying them in nonlog space)\n",
    "        pdf2[i,j] = np.exp(ln_pdf) #CLD unlogging pdf"
   ]
  },
  {
   "cell_type": "code",
   "execution_count": 113,
   "metadata": {},
   "outputs": [
    {
     "data": {
      "image/png": "[encoded data removed]",
      "text/plain": [
       "<Figure size 1440x648 with 1 Axes>"
      ]
     },
     "metadata": {
      "needs_background": "light"
     },
     "output_type": "display_data"
    }
   ],
   "source": [
    "#CLD plotting the 2d pdf\n",
    "#CLD in imshow the (M,N) values of the array define the rows and columns of the image respectively\n",
    "#CLD so M is the linear coeff on y (the rows)\n",
    "#CLD and N is the quad coeff on x (the columns)\n",
    "plt.figure(figsize=(20,9))\n",
    "plt.imshow(pdf2)\n",
    "plt.ylim(25,85)\n",
    "plt.xlim(0,45)\n",
    "plt.xlabel('Quadratic Coefficient')\n",
    "plt.ylabel('Linear Coefficient');"
   ]
  },
  {
   "cell_type": "code",
   "execution_count": 114,
   "metadata": {},
   "outputs": [
    {
     "name": "stdout",
     "output_type": "stream",
     "text": [
      "The Bayes factor for linear model vs quadratic model: 0.04487705773808649\n"
     ]
    }
   ],
   "source": [
    "#CLD to calculate the Bayes factor for the 2d pdf, will be collapsing over columns, and the over rows\n",
    "pdf_collap_column = np.sum(pdf2, axis=1)\n",
    "bayes_evid_2d = np.sum(pdf_collap_column)\n",
    "\n",
    "#CLD the Bayes factor of these models will be the ratio of the evidence \n",
    "bayes_factor2 = bayes_evid / bayes_evid_2d\n",
    "print('The Bayes factor for linear model vs quadratic model: '+str(bayes_factor2))"
   ]
  },
  {
   "cell_type": "markdown",
   "metadata": {},
   "source": [
    "For this model, the quadratic version seems to be favored based on the Bayes factor. This is contrary to the BIC discussion seen in lecture 9, which favors the linear model. As this is different data, it is not surprising that this discrepancy arises between this model's ."
   ]
  },
  {
   "cell_type": "code",
   "execution_count": null,
   "metadata": {},
   "outputs": [],
   "source": []
  }
 ],
 "metadata": {
  "anaconda-cloud": {},
  "kernelspec": {
   "display_name": "Python [conda env:astr8070] *",
   "language": "python",
   "name": "conda-env-astr8070-py"
  },
  "language_info": {
   "codemirror_mode": {
    "name": "ipython",
    "version": 3
   },
   "file_extension": ".py",
   "mimetype": "text/x-python",
   "name": "python",
   "nbconvert_exporter": "python",
   "pygments_lexer": "ipython3",
   "version": "3.8.6"
  }
 },
 "nbformat": 4,
 "nbformat_minor": 2
}
