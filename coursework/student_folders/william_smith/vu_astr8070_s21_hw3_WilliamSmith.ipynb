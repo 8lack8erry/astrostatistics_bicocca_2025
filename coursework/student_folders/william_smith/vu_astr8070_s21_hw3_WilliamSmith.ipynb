{
 "cells": [
  {
   "cell_type": "markdown",
   "metadata": {},
   "source": [
    "### ASTR 8070: Astrostatistics\n",
    "***S. R. Taylor***\n",
    "___\n",
    "\n",
    "# Homework 3\n",
    "### Due: Friday, Feb 19th at 11.59pm CST\n",
    "---"
   ]
  },
  {
   "cell_type": "markdown",
   "metadata": {},
   "source": [
    "## Only one problem this week\n",
    "\n",
    "This problem uses a dataset in `/coursework/homeworks/hw_data/`.\n",
    "\n",
    "~~1) Read in `hw3_data_1.npy`. This is a (50 x 2) numpy array, with measurements in the first column and uncertainties in the second column. Using the analytic results for heteroscedastic Gaussian data from lectures, compute the sample mean and the standard error on the sample mean from for this data.~~\n",
    "\n",
    "~~2) Reusing some approaches and tools from `Lecture_6`, write a ln-likelihood function for heteroscedastic Gaussian data, and use it in a fitting algorithm to find the best-fit mean. *Remember that scipy optimizers are set up to minimize functions.*~~\n",
    "\n",
    "~~3) Using the same numerical technique from `Lecture_5`, compute the Fisher uncertainty estimate on the mean.~~\n",
    "\n",
    "~~4) Using the bootstrap method, generate $1000$ bootstrap realizations of this dataset. *DO NOT use the `astroML` code. Write your own bootstrap function from scratch. Also recall that when resampling data, measurements and uncertainties should stay paired together.*~~\n",
    "\n",
    "~~5) Repeat (2) with all $1000$ boostrap datasets to find the distribution of the sample mean. Plot a normalized histogram of these bootstrap means, and overplot a Gaussian pdf with the mean and std found in (1). Do these agree?~~\n",
    "\n",
    "~~6) While we have fitted a heteroscedastic Gaussian to this data, let's try something else. Write some code to define a ln-likelihood for a Laplace distribution evaluated on this data. Fit simultaneously for the Laplace location parameter $\\mu$ and scale parameter $\\Delta$.~~\n",
    "\n",
    "~~7) Compute the AIC values for the heteroscedastic Gaussian model and the Laplacian model. Which model is favored by the data?~~\n",
    "\n",
    "8~~) Using the $1000$ bootstrap datasets from before, fit for the Laplacian $\\mu$ and $\\Delta$ for each. Make a nice `corner` plot of the distributions of $\\mu$ and $\\Delta$ that shows both the marginal $1$D distributions and the joint $2$D distribution. Make sure the plot has labels, shows the titles on each $1$D marginal panel, and has $68\\%$ and $95\\%$ levels.~~\n",
    "\n",
    "9) Let's finish with a Fisher uncertainty estimate of the Laplacian parameters. Use the following code to install `numdifftools` which provides a simple way to compute derivatives. We can then compute the Hessian matrix, which is the matrix of the second derivatives of the user's function. This should be computed at the best-fit Laplacian parameters $\\mu$ and $\\Delta$. To finish, invert the matrix, and then take the square root. The diagonal entries will then be the Fisher uncertainties on $\\mu$ and $\\Delta$. How does these compare to the bootstrap distribution widths found in (8)?"
   ]
  },
  {
   "cell_type": "code",
   "execution_count": 13,
   "metadata": {},
   "outputs": [
    {
     "name": "stdout",
     "output_type": "stream",
     "text": [
      "Requirement already satisfied: numdifftools in /Users/smithwj/anaconda3/lib/python3.7/site-packages (0.9.39)\n"
     ]
    }
   ],
   "source": [
    "!pip install numdifftools"
   ]
  },
  {
   "cell_type": "code",
   "execution_count": null,
   "metadata": {},
   "outputs": [],
   "source": [
    "# BS - I was getting an error that numdifftools was not available\n",
    "# even after install and reopening my notebook, so I had to look up\n",
    "# a slightly fancier install.\n",
    "\n",
    "import sys\n",
    "sys.executable\n",
    "sys.path\n",
    "\n",
    "!{sys.executable} -m pip install numdifftools"
   ]
  },
  {
   "cell_type": "markdown",
   "metadata": {},
   "source": [
    "### Solution"
   ]
  },
  {
   "cell_type": "code",
   "execution_count": 15,
   "metadata": {},
   "outputs": [],
   "source": [
    "### PART 1\n",
    "\n",
    "### BS - First, the packages and data bookeeping for the assignment\n",
    "\n",
    "# BS - import the things\n",
    "import numpy as np\n",
    "from scipy import optimize\n",
    "from scipy.stats import norm\n",
    "from scipy.stats import laplace\n",
    "from matplotlib import pyplot as plt\n",
    "import numdifftools as nd\n",
    "%matplotlib inline\n",
    "%config InlineBackend.figure_format='retina'\n",
    "\n",
    "\n",
    "# BS - import the data using numpy\n",
    "data = np.load('/Users/smithwj/Box Sync/Astrostatistics/astr_8070_s21/coursework/homeworks/hw_data/hw3_data_1.npy')\n",
    "# BS - Data is a 100 x 2 array"
   ]
  },
  {
   "cell_type": "code",
   "execution_count": 7,
   "metadata": {},
   "outputs": [
    {
     "name": "stdout",
     "output_type": "stream",
     "text": [
      "The mean from the analytic result is: 3.91799\n",
      "The standard error from the analytic result is: 0.09481\n"
     ]
    }
   ],
   "source": [
    "### ACTUAL PART 1\n",
    "\n",
    "# BS - make arrays for each the data points and their associated uncertainties\n",
    "data_vals = data[:,0]\n",
    "data_uncerts = data[:,1]\n",
    "\n",
    "# BS - calculate the means using the formula in the cell below from lecture 5\n",
    "analytic_mean = np.sum(data_vals / data_uncerts**2) / np.sum(1 / data_uncerts**2)\n",
    "analytic_uncert = np.sum(1 / data_uncerts**2)**(-1/2)\n",
    "\n",
    "print(\"The mean from the analytic result is: %.5f\" % analytic_mean)\n",
    "print(\"The standard error from the analytic result is: %.5f\" % analytic_uncert)"
   ]
  },
  {
   "cell_type": "markdown",
   "metadata": {},
   "source": [
    "For heteroskedastic distributions: \n",
    "\n",
    "$$\\hat \\mu = \\frac{\\sum_i^N (x_i/\\sigma_i^2)}{\\sum_i^N (1/\\sigma_i^2)},$$\n",
    "\n",
    "and \n",
    "\n",
    "$$\\sigma_{\\mu} = \\left( \\sum_{i=1}^N \\frac{1}{\\sigma_i^2}\\right)^{-1/2}$$"
   ]
  },
  {
   "cell_type": "markdown",
   "metadata": {},
   "source": [
    "### Part 2\n",
    "\n",
    "The formula for a Gaussian is: \n",
    "\n",
    "$$p(x|\\mu,\\sigma) = \\frac{1}{\\sigma\\sqrt{2\\pi}} \\exp\\left(\\frac{-(x-\\mu)^2}{2\\sigma^2}\\right)$$\n",
    "\n",
    "And to find the maximum likelihood for a set of data points, we take the product of the likelihood for each point: \n",
    "\n",
    "$$L \\equiv p(\\{x_i\\}|\\mu,\\sigma) = \\prod_{i=1}^N \\frac{1}{\\sigma\\sqrt{2\\pi}} \\exp\\left(\\frac{-(x_i-\\mu)^2}{2\\sigma^2}\\right).$$\n",
    "\n",
    "To turn this into a more manageable minimization problem, we can take the log (to make the product more manageable) and make it negative (to turn a maximization problem into a minimization problem)\n",
    "\n",
    "$$-\\ln(L) = -\\ln \\left(\\prod_{i=1}^N \\frac{1}{\\sigma\\sqrt{2\\pi}} \\exp\\left(\\frac{-(x_i-\\mu)^2}{2\\sigma^2}\\right)\\right) $$\n",
    "\n",
    "Which is the function I am going to minimize here."
   ]
  },
  {
   "cell_type": "code",
   "execution_count": 8,
   "metadata": {},
   "outputs": [
    {
     "name": "stdout",
     "output_type": "stream",
     "text": [
      "Optimization terminated successfully.\n",
      "         Current function value: 147.257863\n",
      "         Iterations: 16\n",
      "         Function evaluations: 32\n",
      "The mean value that gives us the maximum value of the likelhood function is: 3.91802\n"
     ]
    }
   ],
   "source": [
    "def gaussian (mu, sigma, x_i):\n",
    "    \n",
    "    #BS write out the Gaussian function\n",
    "    \n",
    "    p_fit = (1 / (sigma * np.sqrt(2*np.pi))) * np.exp((-(x_i - mu)**2) / (2*sigma**2))\n",
    "    \n",
    "    \n",
    "    #BS - return the negative log of the product of each likelihood\n",
    "    \n",
    "    return -np.log((np.prod(p_fit)))\n",
    "\n",
    "# BS - make a lambda function for likelihood ease of use\n",
    "lkhd = lambda beta : gaussian(mu=beta, sigma=data_uncerts, x_i=data_vals)\n",
    "\n",
    "\n",
    "# BS - take a guess at mu\n",
    "beta = 3\n",
    "\n",
    "#BS - call the optimization function to find the minimum\n",
    "max_lkhd = optimize.fmin(lkhd, beta)\n",
    "\n",
    "print(\"The mean value that gives us the maximum value of the likelhood function is: %.5f\" % max_lkhd)"
   ]
  },
  {
   "cell_type": "markdown",
   "metadata": {},
   "source": [
    "NOTE: I wasn't sure if this was correct until our office hours conversation because I was working through how differing $\\sigma$'s worked. So I also did it this way that started further in the derivation. I also found the likelihood through:\n",
    "\n",
    "$$\\ln L = {\\rm constant} - \\sum_{i=1}^N \\frac{(x_i - \\mu)^2}{2\\sigma_i^2}$$\n",
    "\n",
    "\n",
    "So now I do what i did above, but with a slightly different python function:"
   ]
  },
  {
   "cell_type": "code",
   "execution_count": 9,
   "metadata": {},
   "outputs": [
    {
     "name": "stdout",
     "output_type": "stream",
     "text": [
      "Optimization terminated successfully.\n",
      "         Current function value: 43.162545\n",
      "         Iterations: 20\n",
      "         Function evaluations: 40\n",
      "The mean value that gives us the maximum value of the likelhood function (done my second way) is: 3.91797\n"
     ]
    }
   ],
   "source": [
    "def gaussian2 (mu, sigma_i, x_i):\n",
    "    \n",
    "    #BS - definition of the log-likelihood function. I just kind of ignored the constant, and \n",
    "    # this optimization function worked out without the negative. With the negative, it goes\n",
    "    # off to -inf instead of converging. I'm not sure why\n",
    "    \n",
    "    ln_L = np.sum((x_i - mu)**2 / (2 * sigma_i**2))\n",
    "    \n",
    "    return ln_L\n",
    "\n",
    "# BS - lambda function helper\n",
    "likelihood = lambda beta : gaussian2(mu = beta, sigma_i = data_uncerts, x_i = data_vals)\n",
    "\n",
    "# BS - take a guess\n",
    "beta = 10\n",
    "\n",
    "# BS - optimize! Find that min!\n",
    "max_likelihood = optimize.fmin(likelihood, beta)\n",
    "\n",
    "print(\"The mean value that gives us the maximum value of the likelhood function (done my second way) is: %.5f\" % max_likelihood)\n",
    "\n"
   ]
  },
  {
   "cell_type": "code",
   "execution_count": 30,
   "metadata": {},
   "outputs": [
    {
     "name": "stdout",
     "output_type": "stream",
     "text": [
      "Warning: Maximum number of function evaluations has been exceeded.\n",
      "[1.875    0.565625]\n"
     ]
    },
    {
     "name": "stderr",
     "output_type": "stream",
     "text": [
      "/Users/smithwj/anaconda3/envs/astr8070/lib/python3.8/site-packages/numpy/core/fromnumeric.py:87: RuntimeWarning: overflow encountered in reduce\n",
      "  return ufunc.reduce(obj, axis, dtype, out, **passkwargs)\n",
      "/Users/smithwj/anaconda3/envs/astr8070/lib/python3.8/site-packages/scipy/optimize/optimize.py:734: RuntimeWarning: invalid value encountered in subtract\n",
      "  np.max(np.abs(fsim[0] - fsim[1:])) <= fatol):\n"
     ]
    }
   ],
   "source": [
    "### NOTE: AT THIS POINT, THE ABOVE IS WHAT I HAVE COMPLETED FOR PART 2\n",
    "### BELOW I KEPT SOME OF THE OTHER THINGS I WAS PLAYING WITH JUST FOR \n",
    "### REFERENCE EVEN THOUGH IT DOESN'T QUITE WORK AND THE CODE IS WAY \n",
    "### CLUNKIER (AND COMMENTED OUT SO IT DOESN'T ACCIDENTALLY INTERFERE).\n",
    "\n",
    "# BS - Here I wasn't sure if I could solve the Gaussian as a one\n",
    "# parameter model, so I tried to solve it as a two parameter model for\n",
    "# mu and sigma. The optimization function doesn't converge. I also think\n",
    "# this is wrong because solving this as a two parameter model conflates the\n",
    "# two different sigmas, one which is the error on each of the measurements, \n",
    "# and one which is the sigma of the model we are fitting to the distribution\n",
    "# of measurements\n",
    "\n",
    "'''\n",
    "def gaussian (mu, sigma, x_i):\n",
    "    \n",
    "    x_i = np.array(x_i)\n",
    "\n",
    "    p_fit = 1 / ( (sigma * np.sqrt(2*np.pi)) * np.exp((-(x_i - mu)**2) / (2*sigma**2)))\n",
    "    #print('\\n', mu, '\\n', sigma, '\\n')\n",
    "    \n",
    "    #print(1 / (sigma * np.sqrt(2*np.pi)), '\\n')\n",
    "    #print(np.exp((-(x_i - mu)**2) / (2*sigma**2)), '\\n')\n",
    "    \n",
    "    #getting ridiculously low values for e ^ stuff, basically 0, for sigma = 0.1. Getting e ^-24 for sigma = 1\n",
    "    #when multiplying these together, product -> 0\n",
    "    \n",
    "    #print(p_fit)\n",
    "    #print(np.prod(p_fit))\n",
    "    \n",
    "    #Product gets so big, np.array becomes inf. and log cant read inf as an array\n",
    "    \n",
    "    #print(np.log(np.prod(p_fit), \"\\n\"))\n",
    "    \n",
    "    return -np.log((np.prod(p_fit)))\n",
    "\n",
    "\n",
    "lkhd = lambda beta : gaussian(mu=beta[0], sigma=beta[1], x_i=data_vals)\n",
    "\n",
    "\n",
    "#testpfit = gaussian(5, 1, data_vals)\n",
    "testpfit2 = gaussian(10, 1, data_vals)\n",
    "#print(testpfit2)\n",
    "beta = [3, .5]\n",
    "\n",
    "max_lkhd = optimize.fmin(lkhd, beta)\n",
    "\n",
    "print(max_lkhd)\n",
    "'''"
   ]
  },
  {
   "cell_type": "code",
   "execution_count": 44,
   "metadata": {},
   "outputs": [],
   "source": [
    "### BS - second way\n",
    "\n",
    "### Here I was trying to ind the likelihood by \n",
    "### creating a normal distribution for each point\n",
    "### in the data (given the measured mu and sigma)\n",
    "### and multiplying them as we did with L1, L2, and L3\n",
    "### in the lecture notebook. From that, I could find the\n",
    "### max likelihood. Trying to multiply this many\n",
    "### distributions rapidly pushes the computer past\n",
    "### its limits, though.\n",
    "\n",
    "'''\n",
    "xgrid = np.linspace(-5, 10, 1000)\n",
    "\n",
    "all_ls = []\n",
    "\n",
    "for i in range(len(data_vals)):\n",
    "    L = norm.pdf(xgrid, data_vals[i], data_uncerts[i])\n",
    "    #plt.plot(xgrid, L)\n",
    "    all_ls.append(L)\n",
    "    \n",
    "L_tot = np.prod(all_ls, axis=1)\n",
    "\n",
    "L_tot_test = all_ls[0]*all_ls[1]*all_ls[2]*all_ls[3]*all_ls[4]*all_ls[5]*all_ls[6]*all_ls[7]*all_ls[8]*all_ls[9]\n",
    "\n",
    "#print(L_tot)\n",
    "\n",
    "#get multiplications that blow up (down?) to zero\n",
    "'''"
   ]
  },
  {
   "cell_type": "markdown",
   "metadata": {},
   "source": [
    "### Part 3\n",
    "\n",
    "The Fisher Uncertainty on the mean can be found by: \n",
    "\n",
    "$$\\sigma_{\\mu} = \\left( - \\frac{d^2\\ln L(\\mu)}{d\\mu^2}\\Biggr\\rvert_{\\hat \\mu}\\right)^{-1/2}$$\n",
    "\n",
    "Because we have heteroskedastic uncertainties, we *cannot* just follow this derivation to\n",
    "\n",
    "$$\\sigma_{\\mu} = \\frac{\\sigma}{\\sqrt{N}}$$\n",
    "\n",
    "Instead, we can approximate this second derivative numerically and directly. First make an array of possible $\\mu$ values and their $ln$-likelihoods. From that, we can take the second derivative as we did in lecture 5 to find $\\frac{d^{2}ln(\\mu)}{d\\mu^{2}}$. From that, some arithmetic gets us to $\\sigma_{\\mu}$"
   ]
  },
  {
   "cell_type": "code",
   "execution_count": 10,
   "metadata": {},
   "outputs": [
    {
     "name": "stdout",
     "output_type": "stream",
     "text": [
      "Fisher matrix error on estimated mean is 0.09481\n"
     ]
    }
   ],
   "source": [
    "# PART 3 - Fisher Uncertainty\n",
    "\n",
    "# BS - make a grid of mu's\n",
    "mu_grid = np.linspace(2, 6, 1000)\n",
    "\n",
    "# BS - create an array for likelihoods for each mu\n",
    "likelihoods = []\n",
    "\n",
    "\n",
    "#BS - for each mu, calculate the -ln(likelihood) and append it\n",
    "\n",
    "for i in range(len(mu_grid)):\n",
    "    \n",
    "    likelihood = gaussian2(mu_grid[i], data_uncerts, data_vals)\n",
    "    \n",
    "    likelihoods.append(likelihood)\n",
    "    \n",
    "# BS - bookkeeping, keep everything in numpy\n",
    "likelihoods = np.array(likelihoods)\n",
    "\n",
    "# BS - find our d^2 L\n",
    "sigma_mu = np.diff(likelihoods, n=2)\n",
    "\n",
    "# BS - find our d mu^2\n",
    "sigma_mu /= (mu_grid[1]-mu_grid[0])**2 #BS - Note: /= is divide and reassign (haven't seen that one before but makes sense)\n",
    "\n",
    "# BS - we don't need to multiply by -1 in this case\n",
    "#sigma_mu *= -1\n",
    "\n",
    "# BS - take our 1 / sqrt and take the first element\n",
    "sigma_mu = 1/np.sqrt(sigma_mu)[0]\n",
    "\n",
    "print(\"Fisher matrix error on estimated mean is %.5f\" % sigma_mu)\n"
   ]
  },
  {
   "cell_type": "markdown",
   "metadata": {},
   "source": [
    "### Part 4"
   ]
  },
  {
   "cell_type": "code",
   "execution_count": 11,
   "metadata": {},
   "outputs": [],
   "source": [
    "### BOOTSTRAP\n",
    "\n",
    "\n",
    "def bootstrap_means(sample_ary, sample_uncerts, N):\n",
    "    \n",
    "    '''The bootstrap_means function takes the sample data, the \n",
    "    sample uncertanties, and a number for the number of bootstraps\n",
    "    to calculate and returns\n",
    "    \n",
    "    means - an array with the means of each of the bootstrap\n",
    "    samples\n",
    "    \n",
    "    realiz - a 2-D array of the raw data for all of the\n",
    "    bootstrap realizations\n",
    "    \n",
    "    realiz_uncerts - a 2-D array of the raw data for every \n",
    "    uncertainty associated with each realization measurement\n",
    "    '''\n",
    "    \n",
    "    # BS - arrays to store everything\n",
    "    means = []\n",
    "    realiz = []\n",
    "    realiz_uncerts = []\n",
    "    \n",
    "    \n",
    "    # BS - outer loop. Make N bootstrap samples\n",
    "    \n",
    "    for i in range(N):\n",
    "        \n",
    "        # BS - arrays for each full bootstrap realization and \n",
    "        # uncertainty. One per inner loop\n",
    "        vals = []\n",
    "        val_uncerts = []\n",
    "        \n",
    "        \n",
    "        # BS - inner loop - make each individual bootstrap. \n",
    "        # Each inner loop runs over the length of the data array\n",
    "            \n",
    "        for j in range(len(sample_ary)):\n",
    "            \n",
    "            # BS - pick a random integer that represents an\n",
    "            # index choice of the data point to be chose\n",
    "            rand_idx = np.random.randint(0, len(sample_ary))\n",
    "            \n",
    "            # BS - pick the random value and its uncertainty\n",
    "            # from the data\n",
    "            rand_val = sample_ary[rand_idx]\n",
    "            rand_uncert = sample_uncerts[rand_idx]\n",
    "            \n",
    "            # BS - append each to the outer loop\n",
    "            vals.append(rand_val)\n",
    "            val_uncerts.append(rand_uncert)\n",
    "        \n",
    "        # BS - Back to the outter loop - append the bootstrap\n",
    "        # realization and uncertainty to the main array\n",
    "        realiz.append(vals)\n",
    "        realiz_uncerts.append(val_uncerts)\n",
    "        \n",
    "        # BS - calculate the mean of the realization and append\n",
    "        mean = np.mean(vals)\n",
    "        means.append(mean)\n",
    "        \n",
    "    # BS - Make it numpy\n",
    "    means = np.array(means)\n",
    "    realiz = np.array(realiz)\n",
    "    realiz_uncerts = np.array(realiz_uncerts)\n",
    "    \n",
    "    return means, realiz, realiz_uncerts\n",
    "\n",
    "means, realizations, realiz_uncertainties = bootstrap_means(data_vals, data_uncerts, 1000)\n"
   ]
  },
  {
   "cell_type": "markdown",
   "metadata": {},
   "source": [
    "### Part 5"
   ]
  },
  {
   "cell_type": "code",
   "execution_count": 12,
   "metadata": {},
   "outputs": [
    {
     "data": {
      "image/png": "[encoded data removed]",
      "text/plain": [
       "<Figure size 432x288 with 1 Axes>"
      ]
     },
     "metadata": {
      "image/png": {
       "height": 278,
       "width": 387
      },
      "needs_background": "light"
     },
     "output_type": "display_data"
    }
   ],
   "source": [
    "mu_bootstrapped = []\n",
    "\n",
    "for i in range(len(realizations)):\n",
    "    \n",
    "    # BS - lambda function helper, do for each realization in the loop\n",
    "    likelihood = lambda beta : gaussian2(mu = beta, sigma_i = realiz_uncertainties[i], x_i = realizations[i])\n",
    "\n",
    "    # BS - take a guess\n",
    "    beta = 10\n",
    "\n",
    "    # BS - optimize! Find that min!\n",
    "    max_likelihood = optimize.fmin(likelihood, beta, disp=False)\n",
    "    \n",
    "    # BS - append the max likelihood for this realization\n",
    "    mu_bootstrapped.append(max_likelihood[0])\n",
    "\n",
    "# BS - create the distribution and grid to overlay\n",
    "analytic_dist = norm(analytic_mean, analytic_uncert)\n",
    "xgrid=np.linspace(3.5, 4.5, 100)\n",
    "\n",
    "\n",
    "# BS - plot both\n",
    "plt.hist(mu_bootstrapped, bins=\"scott\", density=True, label=r\"bootstrapped $\\mu$'s\")\n",
    "plt.plot(xgrid, analytic_dist.pdf(xgrid), label=r\"$\\mu = %.3f$, $\\sigma = %.3f$\" % (analytic_mean, analytic_uncert))\n",
    "plt.xlabel(r\"$\\mu$\")\n",
    "plt.ylabel(r\"$p(\\mu)$\")\n",
    "plt.title(r\"Distribution of bootstrapped maximum likelihood $\\mu$'s\")\n",
    "plt.legend()\n",
    "plt.show()\n",
    "\n",
    "#BS - Do they agree? - yeah, I'd say so...\n"
   ]
  },
  {
   "cell_type": "markdown",
   "metadata": {},
   "source": [
    "### Part 6"
   ]
  },
  {
   "cell_type": "markdown",
   "metadata": {},
   "source": [
    "#### Laplace distribution\n",
    "\n",
    "The Laplace distribution is given by: \n",
    "\n",
    "$$ f(x\\mid\\mu,\\Delta) = \\frac{1}{2\\Delta} \\exp \\left( -\\frac{|x-\\mu|}{\\Delta} \\right) $$\n",
    "\n",
    "To minimize, I take the $-ln$ of the product of each individual likelihood, as above.\n"
   ]
  },
  {
   "cell_type": "code",
   "execution_count": 13,
   "metadata": {},
   "outputs": [
    {
     "name": "stdout",
     "output_type": "stream",
     "text": [
      "Optimization terminated successfully.\n",
      "         Current function value: 156.788916\n",
      "         Iterations: 54\n",
      "         Function evaluations: 100\n",
      "The max likelihood location is 4.086, and the max likelihood scale is 0.882\n"
     ]
    }
   ],
   "source": [
    "# BS - make the function\n",
    "\n",
    "def laplacian(mu, delta, x_i):\n",
    "    \n",
    "    p = 1 / (2*delta) * np.exp(-(np.absolute(x_i - mu)) / delta)\n",
    "    \n",
    "    return -np.log(np.prod(p))\n",
    "\n",
    "\n",
    "# BS - use the handy lambda function\n",
    "lkhd_lap = lambda beta : laplacian(mu=beta[0], delta=beta[1], x_i=data_vals)\n",
    "\n",
    "# BS - two parameter fit, so guesses for [mu, delta]\n",
    "beta = [3, 1]\n",
    "\n",
    "# BS - optimize function\n",
    "max_lkhd_lap = optimize.fmin(lkhd_lap, beta)\n",
    "\n",
    "print(\"The max likelihood location is %.3f, and the max likelihood scale is %.3f\" % (max_lkhd_lap[0], max_lkhd_lap[1]))\n",
    "\n"
   ]
  },
  {
   "cell_type": "markdown",
   "metadata": {},
   "source": [
    "#### Part 7\n",
    "\n",
    "The AIC is given by: \n",
    "\n",
    "$$ \\mathrm{AIC}_M \\equiv -2\\ln[L^0(M)] + 2k + \\frac{2k(k+1)}{N-k-1} $$\n",
    "\n",
    "Where:\n",
    "<br>\n",
    "$L^{0}(M)$ is the maximum likelihood of the model\n",
    "<br>\n",
    "$k$ is the number of model parameters\n",
    "<br>\n",
    "$N$ is the number of data points\n",
    "\n",
    "First, I have to find those actual maximum likelihoods for each model:"
   ]
  },
  {
   "cell_type": "code",
   "execution_count": 16,
   "metadata": {},
   "outputs": [],
   "source": [
    "# BS - find the maximum likelihood for each model:\n",
    "\n",
    "# BS - first, a grid\n",
    "xgrid = np.linspace(0, 6, 1000)\n",
    "\n",
    "# BS - create each distribution using the loc and scale parameters given\n",
    "gauss_dist = norm(analytic_mean, analytic_uncert)\n",
    "laplace_dist = laplace(max_lkhd_lap[0], max_lkhd_lap[1])\n",
    "\n",
    "# BS - get the probability densities for each\n",
    "p_gauss = gauss_dist.pdf(xgrid)\n",
    "p_laplace = laplace_dist.pdf(xgrid)\n",
    "\n",
    "# BS - for gauss, find the max propability density\n",
    "gauss_sort = np.argsort(p_gauss)\n",
    "max_idx_g = gauss_sort[-1]\n",
    "max_p_gauss = p_gauss[max_idx_g]\n",
    "\n",
    "# BS - for laplace, find the max probability density\n",
    "laplace_sort = np.argsort(p_laplace)\n",
    "max_idx_l = laplace_sort[-1]\n",
    "max_p_laplace = p_laplace[max_idx_l]\n",
    "\n"
   ]
  },
  {
   "cell_type": "markdown",
   "metadata": {},
   "source": [
    "Now I can make an AIC function and call it for each:"
   ]
  },
  {
   "cell_type": "code",
   "execution_count": 17,
   "metadata": {},
   "outputs": [
    {
     "name": "stdout",
     "output_type": "stream",
     "text": [
      "The AIC value of the Gaussian fit is -0.83257, and the AIC value of the Laplacian fit is 5.26336\n",
      "The Gaussian fit has the lower value and is the preferred choice\n"
     ]
    }
   ],
   "source": [
    "def AIC(max_like, param_num, data_pt_num):\n",
    "    \n",
    "    '''AIC function takes three arguments, the maximium likelihood for a distribution,\n",
    "    the number of parameters in the model, and the number of data points to fit the model\n",
    "    \n",
    "    returns - AIC goodness of fit'''\n",
    "    \n",
    "    AIC = -2 * np.log(max_like) + 2*param_num + (2*param_num*(param_num+1)) / (data_pt_num - param_num - 1)\n",
    "    \n",
    "    return AIC\n",
    "\n",
    "# BS - call function for each.\n",
    "AIC_gauss = AIC(max_p_gauss, 1, 100)\n",
    "AIC_lap = AIC(max_p_laplace, 2, 100)\n",
    "\n",
    "print(\"The AIC value of the Gaussian fit is %.5f, and the AIC value of the Laplacian fit is %.5f\" % (AIC_gauss, AIC_lap))\n",
    "print(\"The Gaussian fit has the lower value and is the preferred choice\")\n",
    "\n"
   ]
  },
  {
   "cell_type": "markdown",
   "metadata": {},
   "source": [
    "#### Part 8"
   ]
  },
  {
   "cell_type": "code",
   "execution_count": 18,
   "metadata": {},
   "outputs": [
    {
     "data": {
      "image/png": "[encoded data removed]",
      "text/plain": [
       "<Figure size 396x396 with 4 Axes>"
      ]
     },
     "metadata": {
      "image/png": {
       "height": 380,
       "width": 368
      },
      "needs_background": "light"
     },
     "output_type": "display_data"
    }
   ],
   "source": [
    "## Part 8\n",
    "\n",
    "import corner\n",
    "\n",
    "# BS - create arrays to save each mu and delta for each bootstrap realization\n",
    "laplacian_mus = []\n",
    "laplacian_deltas = []\n",
    "\n",
    "# BS - loop through each realization and find the maximum likelihood fit\n",
    "for i in range(len(realizations)):\n",
    "    \n",
    "    lap_likelihood = lambda lp_beta : laplacian(mu = lp_beta[0], delta = lp_beta[1], x_i = realizations[i])\n",
    "    \n",
    "    # BS - guess, same for each loop\n",
    "    lp_beta = [3, 1]\n",
    "    \n",
    "    max_likelihood_laplacian = optimize.fmin(lap_likelihood, lp_beta, disp=False)\n",
    "    \n",
    "    max_likelihood_laplacian = np.array(max_likelihood_laplacian)\n",
    "    \n",
    "    # BS - append the mu to the mu array, and the delta to the delta array\n",
    "    laplacian_mus.append(max_likelihood_laplacian[0])\n",
    "    laplacian_deltas.append(max_likelihood_laplacian[1])\n",
    "  \n",
    " # BS - bookeeping, numpy array conversion\n",
    "laplacian_mus = np.array(laplacian_mus)\n",
    "laplacian_deltas = np.array(laplacian_deltas)\n",
    "\n",
    "#BS - stack and transform the data for proper corner plot\n",
    "lap_data = np.vstack([laplacian_mus, laplacian_deltas])\n",
    "lap_data = np.transpose(lap_data)\n",
    "\n",
    "#BS - make the corner plot\n",
    "fig = corner.corner(lap_data, labels=[r\"$\\mu$\", r\"$\\Delta$\"], quantiles=[0.025, 0.16, 0.84, .975], show_titles=True)"
   ]
  },
  {
   "cell_type": "markdown",
   "metadata": {},
   "source": [
    "If we define the Fisher Matrix as: \n",
    "\n",
    "$$ F_{jk} = - \\frac{d^2}{d\\theta_j} \\frac{\\ln L}{d\\theta_k} \\Biggr\\rvert_{\\theta=\\hat \\theta}$$\n",
    "\n",
    "We can calculate the covariance matrix:\n",
    "\n",
    "$$\\sigma_{jk} = \\sqrt{[F^{-1}]_{jk}}, $$\n",
    "\n",
    "Where each element of the diagonal gives us the marginal error for each of our parameters $\\theta$. In this case, we have a two-parameter model $\\theta = \\theta(\\mu, \\Delta)$. Using numdifftools, we can take the second derivatives of our likelihood function with respect to each of these parameters, assembled in a $2 \\times 2$ matrix called the Hessian matrix. From this Hessian, we can invert and square root, giving us the covariance matrix, of which the diagonals will give us uncertanties in $\\mu$ and $\\Delta$"
   ]
  },
  {
   "cell_type": "code",
   "execution_count": 37,
   "metadata": {},
   "outputs": [
    {
     "name": "stdout",
     "output_type": "stream",
     "text": [
      "[[0.19762189]]\n"
     ]
    }
   ],
   "source": [
    "## PART 9\n",
    "\n",
    "# BS - use mu and delta from best fit as args for beta \n",
    "beta = (max_lkhd_lap[0], max_lkhd_lap[1])\n",
    "\n",
    "# BS - call the Laplacian function from above to\n",
    "# calculate the Hessian starting with mu and lambda \n",
    "H = nd.Hessian(laplacian)(beta[0], beta[1], x_i = data_vals)\n",
    "\n",
    "# BS - invert and square root\n",
    "sigma_laplace = np.linalg.inv(H)**0.5\n",
    "\n",
    "print(sigma_laplace)\n",
    "\n",
    "# BS - ADDITIONAL COMMENTS\n",
    "# I'm not particularly confident I calculated the Hessian correctly. These few line of code\n",
    "# understate the hours of tinkering I did with numdifftools trying to figure out\n",
    "# the mechanics of how this Hessian object works with multiple test functions and parameters\n",
    "# even though I think I understand what is going on theoretically pretty well. \n",
    "# (I spent most of my Friday afternoon deconstructing these simple examples in excrutiating detail: \n",
    "# https://numdifftools.readthedocs.io/en/latest/reference/generated/numdifftools.core.Hessian.html)\n",
    "# The above was literally the only thing I could come up with code-wise that didn't result in \n",
    "# an error. I still can't figure out why I am getting a 1 element array instead of a 2 x 2."
   ]
  },
  {
   "cell_type": "code",
   "execution_count": null,
   "metadata": {},
   "outputs": [],
   "source": []
  }
 ],
 "metadata": {
  "anaconda-cloud": {},
  "kernelspec": {
   "display_name": "astr8070",
   "language": "python",
   "name": "astr8070"
  },
  "language_info": {
   "codemirror_mode": {
    "name": "ipython",
    "version": 3
   },
   "file_extension": ".py",
   "mimetype": "text/x-python",
   "name": "python",
   "nbconvert_exporter": "python",
   "pygments_lexer": "ipython3",
   "version": "3.8.6"
  }
 },
 "nbformat": 4,
 "nbformat_minor": 4
}
