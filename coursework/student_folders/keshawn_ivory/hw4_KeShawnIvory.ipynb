{
 "cells": [
  {
   "cell_type": "markdown",
   "metadata": {},
   "source": [
    "### ASTR 8070: Astrostatistics\n",
    "***S. R. Taylor***\n",
    "___\n",
    "\n",
    "# Homework 4\n",
    "### Due: Friday, Mar 5th at 11.59pm CST\n",
    "---"
   ]
  },
  {
   "cell_type": "markdown",
   "metadata": {},
   "source": [
    "## Problem 1\n",
    "\n",
    "This problem uses a dataset in `/coursework/homeworks/hw_data/`.\n",
    "\n",
    "1) Read in `hw4_data_1.npy`. This is a (10 x 2) numpy array, with voltage measurements in the first column and heteroscedastic voltage uncertainties in the second column. Compute the sample mean and the standard error on the sample mean for this data.\n",
    "\n",
    "2) Fit the appropriate ln-likelihood function and find the best-fit mean voltage.\n",
    "\n",
    "3) Compute and plot the Bayesian posterior probability density (*not the log posterior*) for the mean voltage assuming a uniform prior for the mean in the range 3 to 7. Make sure this posterior pdf is normalized!\n",
    "\n",
    "4) By either drawing samples from this posterior, or using your gridded posterior pdf to make a cdf, find the equal-tailed 68.3% credible region for the mean, and compare the upper and lower boundaries to the sample mean plus/minus the standard error, respectively. *Also* find the MAP value of the mean.\n",
    "\n",
    "5) Repeat (3) and (4) this time with a prior on the mean that is uniform in the range 4.6 to 5.4. \n",
    "\n",
    "6) Now, imagine that we read an old paper about the experiment that gave us the voltage measurements, and they found that the mean was actually $6\\pm0.3$. Repeat (3) and (4) this time with a Gaussian prior on the mean centered at $6$ with standard deviation of $0.3$.\n",
    "\n",
    "7) Plot all of the normalized posterior pdfs for $\\mu$ from (3), (5), and (6) on the same plot, making sure that the xlim of the plot spans 0 to 10.\n",
    "\n",
    "8) You have made sure that the posterior pdfs are properly normalized, but until now you have ignored the meaning of that normalization constant. It is the Bayesian evidence for the particular model you have applied! Compute the evidence under a new model where the prior for the mean is a delta function at the best-fit value you found in (1) *(think about this and don't just immediately go looking for a `scipy.stats` delta function)*. Compare this to the evidence found under the prior in (3). Taking ratios to make a Bayes factor, which model is favored? Is there much of an Occam penalty by having the wide prior compared to knowing the mean exactly? "
   ]
  },
  {
   "cell_type": "markdown",
   "metadata": {},
   "source": [
    "### Solution"
   ]
  },
  {
   "cell_type": "code",
   "execution_count": 54,
   "metadata": {},
   "outputs": [],
   "source": [
    "import numpy as np\n",
    "%matplotlib inline\n",
    "import matplotlib.pyplot as plt\n",
    "import scipy.stats\n",
    "from scipy import optimize\n",
    "data1= np.load('../../homeworks/hw_data/hw4_data_1.npy')"
   ]
  },
  {
   "cell_type": "code",
   "execution_count": 55,
   "metadata": {},
   "outputs": [
    {
     "name": "stdout",
     "output_type": "stream",
     "text": [
      "sample mean = 4.942118214425304, uncertainty on sample mean = 0.43024334605205083\n"
     ]
    }
   ],
   "source": [
    "#1\n",
    "smean= (np.sum(data1[:,0]/data1[:,1]**2))/(np.sum(1/data1[:,1]**2))\n",
    "ssigma= (np.sum(1/data1[:,1]**2))**-.5\n",
    "print('sample mean = '+str(smean)+',','uncertainty on sample mean = '+str(ssigma))"
   ]
  },
  {
   "cell_type": "code",
   "execution_count": 56,
   "metadata": {},
   "outputs": [
    {
     "name": "stdout",
     "output_type": "stream",
     "text": [
      "Optimization terminated successfully.\n",
      "         Current function value: 5.614502\n",
      "         Iterations: 13\n",
      "         Function evaluations: 26\n",
      "Best fit mean = [4.94213867]\n"
     ]
    }
   ],
   "source": [
    "#2\n",
    "#Gonna go with the maximizing logL/minimizing chisq route using a Gaussian\n",
    "def chi_sq(mu, sigma,x):\n",
    "    return np.sum(((x - mu) / sigma) ** 2, -1)\n",
    "f = lambda mu: chi_sq(mu,sigma=data1[:,1],x=data1[:,0])\n",
    "mu= 5\n",
    "bestmu= optimize.fmin(f,mu)\n",
    "print('Best fit mean = '+ str(bestmu))\n",
    "\n"
   ]
  },
  {
   "cell_type": "code",
   "execution_count": 57,
   "metadata": {},
   "outputs": [
    {
     "data": {
      "image/png": "[encoded data removed]",
      "text/plain": [
       "<Figure size 432x288 with 1 Axes>"
      ]
     },
     "metadata": {
      "needs_background": "light"
     },
     "output_type": "display_data"
    }
   ],
   "source": [
    "#3\n",
    "xgrid= np.linspace(3,7,100)\n",
    "xpdf= np.empty([100])\n",
    "\n",
    "#likelihood\n",
    "for i in range(100):\n",
    "    xpdf[i]= np.prod((1/(data1[:,1]*np.sqrt(2*np.pi)))*np.exp(-.5*((data1[:,0]-xgrid[i])/data1[:,1])**2))\n",
    "#prior\n",
    "prior= scipy.stats.uniform(loc=3,scale=4).pdf(xgrid)\n",
    "#pdf\n",
    "xppdf= xpdf*prior\n",
    "\n",
    "#I wrote this normalizing function for pdfs as part of my research actually so I thought I'd use it here\n",
    "def Pnorm(P,dm):\n",
    "        dn= P*dm\n",
    "        n= np.sum(dn)\n",
    "        Pn= dn/n\n",
    "        return Pn\n",
    "dm= xgrid[1]-xgrid[0]\n",
    "xppdf= Pnorm(xppdf,dm)\n",
    "\n",
    "plt.plot(xgrid,xppdf)\n",
    "plt.title('Bayesian PDF')\n",
    "plt.show()\n"
   ]
  },
  {
   "cell_type": "code",
   "execution_count": 58,
   "metadata": {},
   "outputs": [
    {
     "name": "stdout",
     "output_type": "stream",
     "text": [
      "68.3% credible region = [4.49140678 5.35261036]\n",
      "Mean +/- standard error = 4.511874868373253, 5.372361560477355\n",
      "MAP = [4.93939394]\n"
     ]
    }
   ],
   "source": [
    "#4\n",
    "xppdfcumu= np.cumsum(xppdf)\n",
    "limits= np.interp([.1585,.8415],xppdfcumu,xgrid)\n",
    "print('68.3% credible region = '+str(limits))\n",
    "print('Mean +/- standard error = '+str(smean-ssigma)+ ', ' + str(smean+ssigma))\n",
    "print('MAP = '+str(xgrid[np.nonzero(xppdf==np.amax(xppdf))]))"
   ]
  },
  {
   "cell_type": "code",
   "execution_count": 59,
   "metadata": {},
   "outputs": [
    {
     "data": {
      "image/png": "[encoded data removed]",
      "text/plain": [
       "<Figure size 432x288 with 1 Axes>"
      ]
     },
     "metadata": {
      "needs_background": "light"
     },
     "output_type": "display_data"
    },
    {
     "name": "stdout",
     "output_type": "stream",
     "text": [
      "68.3% credible region = [4.71231239 5.22005538]\n",
      "Mean +/- standard error = 4.511874868373253, 5.372361560477355\n",
      "MAP = [4.93939394]\n"
     ]
    }
   ],
   "source": [
    "#5\n",
    "prior2= scipy.stats.uniform(loc=4.6,scale=0.8).pdf(xgrid)\n",
    "#pdf\n",
    "xppdf2= xpdf*prior2\n",
    "xppdf2= Pnorm(xppdf2,dm)\n",
    "\n",
    "plt.plot(xgrid,xppdf2)\n",
    "plt.title('Bayesian PDF')\n",
    "plt.show()\n",
    "\n",
    "xppdfcumu2= np.cumsum(xppdf2)\n",
    "limits2= np.interp([.1585,.8415],xppdfcumu2,xgrid)\n",
    "print('68.3% credible region = '+str(limits2))\n",
    "print('Mean +/- standard error = '+str(smean-ssigma)+ ', ' + str(smean+ssigma))\n",
    "print('MAP = '+str(xgrid[np.nonzero(xppdf2==np.amax(xppdf2))]))"
   ]
  },
  {
   "cell_type": "code",
   "execution_count": 60,
   "metadata": {},
   "outputs": [
    {
     "data": {
      "image/png": "[encoded data removed]",
      "text/plain": [
       "<Figure size 432x288 with 1 Axes>"
      ]
     },
     "metadata": {
      "needs_background": "light"
     },
     "output_type": "display_data"
    },
    {
     "name": "stdout",
     "output_type": "stream",
     "text": [
      "68.3% credible region = [5.71408594 6.20759475]\n",
      "Mean +/- standard error = 4.511874868373253, 5.372361560477355\n",
      "MAP = [5.97979798]\n"
     ]
    }
   ],
   "source": [
    "#6\n",
    "xgrid2= np.linspace(4,8,100)\n",
    "prior3= scipy.stats.norm(6,.3).pdf(xgrid2)\n",
    "#pdf\n",
    "xppdf3= xpdf*prior3\n",
    "xppdf3= Pnorm(xppdf3,dm)\n",
    "\n",
    "plt.plot(xgrid2,xppdf3)\n",
    "plt.title('Bayesian PDF')\n",
    "plt.show()\n",
    "\n",
    "xppdfcumu3= np.cumsum(xppdf3)\n",
    "limits3= np.interp([.1585,.8415],xppdfcumu3,xgrid2)\n",
    "print('68.3% credible region = '+str(limits3))\n",
    "print('Mean +/- standard error = '+str(smean-ssigma)+ ', ' + str(smean+ssigma))\n",
    "print('MAP = '+str(xgrid2[np.nonzero(xppdf3==np.amax(xppdf3))]))"
   ]
  },
  {
   "cell_type": "code",
   "execution_count": 61,
   "metadata": {},
   "outputs": [
    {
     "data": {
      "image/png": "[encoded data removed]",
      "text/plain": [
       "<Figure size 432x288 with 1 Axes>"
      ]
     },
     "metadata": {
      "needs_background": "light"
     },
     "output_type": "display_data"
    }
   ],
   "source": [
    "#7\n",
    "plt.plot(xgrid,xppdf)\n",
    "plt.plot(xgrid,xppdf2)\n",
    "plt.plot(xgrid2,xppdf3)\n",
    "plt.xlim(0,10)\n",
    "plt.title('All PDFs')\n",
    "plt.show()"
   ]
  },
  {
   "cell_type": "code",
   "execution_count": 62,
   "metadata": {},
   "outputs": [
    {
     "name": "stdout",
     "output_type": "stream",
     "text": [
      "Uniform Prior Evidence = 2.8918738694743654e-08\n",
      "Delta Prior Evidence = [1.0722982e-07]\n",
      "Bayes Factor Delta/Uniform = [3.70797016]\n"
     ]
    }
   ],
   "source": [
    "#8\n",
    "uniformevidence= np.sum(xpdf*prior*dm)\n",
    "print('Uniform Prior Evidence = '+str(uniformevidence))\n",
    "# Integral of gaussian*delta function at best fit is just the pdf of the gaussian at the best fit so:\n",
    "deltaevidence= np.interp(bestmu,xgrid,xpdf)\n",
    "print('Delta Prior Evidence = '+str(deltaevidence))\n",
    "#The evidence for the delta function prior is greater.\n",
    "print('Bayes Factor Delta/Uniform = '+str(deltaevidence/uniformevidence))\n",
    "#The model where we know the mean is significantly preferred, so decreasing the number of parameters does make \n",
    "#a real difference here. You just have to actually be comfortable saying you know what the mean is, that's the caveat."
   ]
  },
  {
   "cell_type": "markdown",
   "metadata": {},
   "source": [
    "## Problem 2\n",
    "\n",
    "This problem uses a dataset in `/coursework/homeworks/hw_data/`.\n",
    "\n",
    "1) Read in `hw4_data_2.npy`, which is a (3 x 20) numpy array that you used in `Lecture_9`. Set `x, y, sigma_y = data`. \n",
    "\n",
    "We're going to do some polynomial fits to this data just like in the lecture. However, in all cases you should **keep the $y$-intercept fixed at $-0.23$**. \n",
    "\n",
    "2) Use the following code to compute the un-normalized posterior pdf (i.e. just the likelihood x prior) on a grid of the linear coefficient (i.e. the slope) of a linear model, with a uniform prior between 0.5 and 1.5. Plot this posterior pdf. Remember this is just a one-dimensional model because the $y$-intercept is fixed. I advise a grid size of 100."
   ]
  },
  {
   "cell_type": "markdown",
   "metadata": {},
   "source": [
    "### Solution"
   ]
  },
  {
   "cell_type": "code",
   "execution_count": 63,
   "metadata": {},
   "outputs": [],
   "source": [
    "#1\n",
    "data2= np.load('../../homeworks/hw_data/hw4_data_2.npy')\n",
    "x, y, sigma_y = data2"
   ]
  },
  {
   "cell_type": "code",
   "execution_count": 64,
   "metadata": {},
   "outputs": [],
   "source": [
    "#Functions to do a polynomial fit, and compute the likelihood\n",
    "def polynomial_fit(theta, x):\n",
    "    \"\"\"Polynomial model of degree (len(theta) - 1)\"\"\"\n",
    "    # For a polynomial with order 1, this gives theta_0 + theta_1*x\n",
    "    # For a polynomial with order 2, this gives theta_0 + theta_1*x + theta_2*x^2, etc.\n",
    "    return sum(t * x ** n for (n, t) in enumerate(theta))\n",
    "\n",
    "# compute the data log-likelihood given a model\n",
    "def logL(theta, data, model=polynomial_fit):\n",
    "    \"\"\"Gaussian log-likelihood of the model at theta\"\"\"\n",
    "    x, y, sigma_y = data\n",
    "    y_fit = model(theta, x)\n",
    "    return sum(scipy.stats.norm.logpdf(*args) \n",
    "               for args in zip(y, y_fit, sigma_y))"
   ]
  },
  {
   "cell_type": "code",
   "execution_count": 65,
   "metadata": {},
   "outputs": [
    {
     "data": {
      "image/png": "[encoded data removed]",
      "text/plain": [
       "<Figure size 432x288 with 1 Axes>"
      ]
     },
     "metadata": {
      "needs_background": "light"
     },
     "output_type": "display_data"
    }
   ],
   "source": [
    "#2\n",
    "xgrid2= np.ones([2,100])\n",
    "xgrid2[0,:]= -0.23\n",
    "xgrid2[1,:]= np.linspace(0,2,100)\n",
    "\n",
    "logs= np.empty([100])\n",
    "for i in range(100):\n",
    "    logs[i]= logL((xgrid2[:,i]),data2)\n",
    "prior= scipy.stats.uniform(0.5,1).pdf(xgrid2[1,:])\n",
    "posterior= np.exp(logs)*prior\n",
    "\n",
    "plt.plot(xgrid2[1,:],posterior)\n",
    "plt.show()"
   ]
  },
  {
   "cell_type": "markdown",
   "metadata": {},
   "source": [
    "3) Using your 1D gridded likelihood-x-prior, compute the Bayesian evidence of this linear model. This may be a big number!\n",
    "\n",
    "4) Now compute the joint 2D posterior pdf (again just the likelihood x prior) of linear and quadratic coefficients of a quadratic model. Give the linear coefficient a uniform prior between 0.5 and 1.5. Give the quadratic coefficient a uniform prior between -1 and 0.25. Plot this two-dimensional posterior. Remember this is a two-dimensional model because the $y$-intercept is fixed. I advise a grid size of 100 in each model dimension.\n",
    "\n",
    "5) Using your 2D gridded likelihood-x-prior, compute the Bayesian evidence of the quadratic model. \n",
    "\n",
    "6) Calculate the Bayes factor for a linear versus quadratic model. How does this compare/contrast with the BIC model comparison in the lecture? "
   ]
  },
  {
   "cell_type": "code",
   "execution_count": 66,
   "metadata": {},
   "outputs": [
    {
     "name": "stdout",
     "output_type": "stream",
     "text": [
      "Evidence = 362027885.82905287\n"
     ]
    }
   ],
   "source": [
    "#3\n",
    "evidence= np.sum(posterior*0.02)\n",
    "print('Evidence = '+str(evidence))"
   ]
  },
  {
   "cell_type": "code",
   "execution_count": 67,
   "metadata": {},
   "outputs": [
    {
     "data": {
      "text/plain": [
       "<matplotlib.contour.QuadContourSet at 0x7febfb7b44c0>"
      ]
     },
     "execution_count": 67,
     "metadata": {},
     "output_type": "execute_result"
    },
    {
     "data": {
      "image/png": "[encoded data removed]",
      "text/plain": [
       "<Figure size 432x288 with 1 Axes>"
      ]
     },
     "metadata": {
      "needs_background": "light"
     },
     "output_type": "display_data"
    }
   ],
   "source": [
    "#4\n",
    "#quadratic coefficient grid\n",
    "ygrid= np.linspace(-1.1,0.35,100)\n",
    "#meshgrid to get yfit for all combos of coefficients\n",
    "aa,bb= np.meshgrid(xgrid2[1,:],ygrid)\n",
    "#all the yfits will go in this cube\n",
    "yfits= np.empty([100,100,20])\n",
    "x,y,sigma_y=data2\n",
    "#filling up the cube\n",
    "for i in range(100):\n",
    "    for j in range(100):\n",
    "        yfits[i,j,:]= -0.23 + aa[i,j]*x + bb[i,j]*x**2\n",
    "#getting the likelihoods\n",
    "like = np.empty([100,100])\n",
    "for i in range(100):\n",
    "    for j in range(100):\n",
    "        like[i,j]= np.prod(scipy.stats.norm(yfits[i,j,:],sigma_y).pdf(y))\n",
    "\n",
    "posterior2= like*scipy.stats.uniform(0.5,1).pdf(aa)*scipy.stats.uniform(-1,1.25).pdf(bb)\n",
    "plt.contour(aa,bb,posterior2,colors='k')\n",
    "\n",
    "\n",
    "\n",
    "    \n"
   ]
  },
  {
   "cell_type": "code",
   "execution_count": 68,
   "metadata": {},
   "outputs": [
    {
     "name": "stdout",
     "output_type": "stream",
     "text": [
      "Evidence = 493040402.79746175\n"
     ]
    }
   ],
   "source": [
    "#5\n",
    "xdm= xgrid2[1,1]-xgrid2[1,0]\n",
    "ydm= ygrid[1]-ygrid[0]\n",
    "evidence2= np.sum(posterior2*xdm*ydm)\n",
    "print('Evidence = '+str(evidence2))"
   ]
  },
  {
   "cell_type": "code",
   "execution_count": 69,
   "metadata": {},
   "outputs": [
    {
     "name": "stdout",
     "output_type": "stream",
     "text": [
      "Bayes Factor Linear/Quadratic = 0.7342763063127139\n",
      "Bayes Factor Quadratic/Linear = 1.3618851533173666\n"
     ]
    }
   ],
   "source": [
    "#6\n",
    "bf= evidence/evidence2\n",
    "print('Bayes Factor Linear/Quadratic = '+str(bf))\n",
    "print('Bayes Factor Quadratic/Linear = '+str(1/bf))\n",
    "#Unlike the BIC example, this favors the quadratic model. However, according to the Jeffreys scale it's barely\n",
    "#worth mentioning."
   ]
  },
  {
   "cell_type": "code",
   "execution_count": null,
   "metadata": {},
   "outputs": [],
   "source": []
  }
 ],
 "metadata": {
  "anaconda-cloud": {},
  "kernelspec": {
   "display_name": "Python 3",
   "language": "python",
   "name": "python3"
  },
  "language_info": {
   "codemirror_mode": {
    "name": "ipython",
    "version": 3
   },
   "file_extension": ".py",
   "mimetype": "text/x-python",
   "name": "python",
   "nbconvert_exporter": "python",
   "pygments_lexer": "ipython3",
   "version": "3.8.6"
  }
 },
 "nbformat": 4,
 "nbformat_minor": 2
}
