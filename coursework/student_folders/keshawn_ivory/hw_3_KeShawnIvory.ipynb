{
 "cells": [
  {
   "cell_type": "markdown",
   "metadata": {},
   "source": [
    "### ASTR 8070: Astrostatistics\n",
    "***S. R. Taylor***\n",
    "___\n",
    "\n",
    "# Homework 3\n",
    "### Due: Friday, Feb 19th at 11.59pm CST\n",
    "---"
   ]
  },
  {
   "cell_type": "markdown",
   "metadata": {},
   "source": [
    "## Only one problem this week\n",
    "\n",
    "This problem uses a dataset in `/coursework/homeworks/hw_data/`.\n",
    "\n",
    "1) Read in `hw3_data_1.npy`. This is a (50 x 2) numpy array, with measurements in the first column and uncertainties in the second column. Using the analytic results for heteroscedastic Gaussian data from lectures, compute the sample mean and the standard error on the sample mean from for this data.\n",
    "\n",
    "2) Reusing some approaches and tools from `Lecture_6`, write a ln-likelihood function for heteroscedastic Gaussian data, and use it in a fitting algorithm to find the best-fit mean. *Remember that scipy optimizers are set up to minimize functions.*\n",
    "\n",
    "3) Using the same numerical technique from `Lecture_5`, compute the Fisher uncertainty estimate on the mean.\n",
    "\n",
    "4) Using the bootstrap method, generate $1000$ bootstrap realizations of this dataset. *DO NOT use the `astroML` code. Write your own bootstrap function from scratch. Also recall that when resampling data, measurements and uncertainties should stay paired together.*\n",
    "\n",
    "5) Repeat (2) with all $1000$ boostrap datasets to find the distribution of the sample mean. Plot a normalized histogram of these bootstrap means, and overplot a Gaussian pdf with the mean and std found in (1). Do these agree?\n",
    "\n",
    "6) While we have fitted a heteroscedastic Gaussian to this data, let's try something else. Write some code to define a ln-likelihood for a Laplace distribution evaluated on this data. Fit simultaneously for the Laplace location parameter $\\mu$ and scale parameter $\\Delta$.\n",
    "\n",
    "7) Compute the AIC values for the heteroscedastic Gaussian model and the Laplacian model. Which model is favored by the data?\n",
    "\n",
    "8) Using the $1000$ bootstrap datasets from before, fit for the Laplacian $\\mu$ and $\\Delta$ for each. Make a nice `corner` plot of the distributions of $\\mu$ and $\\Delta$ that shows both the marginal $1$D distributions and the joint $2$D distribution. Make sure the plot has labels, shows the titles on each $1$D marginal panel, and has $68\\%$ and $95\\%$ levels.\n",
    "\n",
    "9) Let's finish with a Fisher uncertainty estimate of the Laplacian parameters. Use the following code to install `numdifftools` which provides a simple way to compute derivatives. We can then compute the Hessian matrix, which is the matrix of the second derivatives of the user's function. This should be computed at the best-fit Laplacian parameters $\\mu$ and $\\Delta$. To finish, invert the matrix, and then take the square root. The diagonal entries will then be the Fisher uncertainties on $\\mu$ and $\\Delta$. How does these compare to the bootstrap distribution widths found in (8)?"
   ]
  },
  {
   "cell_type": "markdown",
   "metadata": {},
   "source": [
    "### Solution"
   ]
  },
  {
   "cell_type": "code",
   "execution_count": 174,
   "metadata": {},
   "outputs": [],
   "source": [
    "import numpy as np\n",
    "from scipy import stats\n",
    "from scipy import optimize\n",
    "%matplotlib inline\n",
    "import matplotlib.pyplot as plt\n",
    "import corner"
   ]
  },
  {
   "cell_type": "code",
   "execution_count": 32,
   "metadata": {},
   "outputs": [
    {
     "name": "stdout",
     "output_type": "stream",
     "text": [
      "sample mean is 3.937547512109005\n",
      "standard error on sample mean is 0.11565177228177984\n"
     ]
    }
   ],
   "source": [
    "#1 \n",
    "data= np.load('hw3_data_1.npy')\n",
    "smean= np.sum(data[:,0])/100\n",
    "print('sample mean is '+ str(smean))\n",
    "svar= (np.sum((data[:,0]-smean)**2))/99 #N-1 because we used the sample mean to get here\n",
    "sstd= np.sqrt(svar) #From earlier lessons\n",
    "ssx= sstd/10\n",
    "print('standard error on sample mean is '+ str(ssx)) "
   ]
  },
  {
   "cell_type": "code",
   "execution_count": 31,
   "metadata": {},
   "outputs": [
    {
     "name": "stdout",
     "output_type": "stream",
     "text": [
      "Optimization terminated successfully.\n",
      "         Current function value: 86.325091\n",
      "         Iterations: 12\n",
      "         Function evaluations: 24\n",
      "MLE mean = [3.91803281]\n"
     ]
    }
   ],
   "source": [
    "#2\n",
    "def chi2(x,mu,sigma):\n",
    "    chi2= np.sum(((x-mu)/sigma)**2)\n",
    "    return chi2\n",
    "#logL= -0.5*chi2(x,mu,sigma) + constant which we don't need\n",
    "#we learned maximizing logL is just minimizing chi2 so let's do that\n",
    "chi_squared = lambda mu: chi2(data[:,0],mu,data[:,1])\n",
    "chi2min= optimize.fmin(chi_squared,smean)\n",
    "print('MLE mean = '+str(chi2min))"
   ]
  },
  {
   "cell_type": "code",
   "execution_count": 59,
   "metadata": {},
   "outputs": [
    {
     "name": "stdout",
     "output_type": "stream",
     "text": [
      "Fisher uncertainty = 0.09481084100552237\n"
     ]
    },
    {
     "data": {
      "image/png": "[encoded data removed]",
      "text/plain": [
       "<Figure size 432x288 with 1 Axes>"
      ]
     },
     "metadata": {
      "needs_background": "light"
     },
     "output_type": "display_data"
    }
   ],
   "source": [
    "#3\n",
    "#rewriting logL the same way we did in Lecture 5, by products of each Gaussian\n",
    "xgrid= np.linspace(np.amin(data[:,0]),np.amax(data[:,0]),1000)\n",
    "Ltot= 1\n",
    "for i in range(len(data[:,0])):\n",
    "    Ltot= Ltot*stats.norm.pdf(xgrid,loc=data[i,0],scale=data[i,1])\n",
    "plt.plot(xgrid,Ltot)\n",
    "\n",
    "#now we can calculate the Fisher matrix from here exactly as we did\n",
    "sigma_mu = np.diff(np.log(Ltot[400:600]), n=2)\n",
    "sigma_mu /= (xgrid[1]-xgrid[0])**2\n",
    "sigma_mu *= -1\n",
    "sigma_mu = 1/np.sqrt(sigma_mu)[0]\n",
    "print('Fisher uncertainty = '+str(sigma_mu))\n",
    "#So I had to restrict calculation to the middle part where the peak is, otherwise I got NaN."
   ]
  },
  {
   "cell_type": "code",
   "execution_count": 118,
   "metadata": {},
   "outputs": [],
   "source": [
    "#4\n",
    "#I am going to resample each point knowing the mean and standard deviation and get 1000 different sets of draws\n",
    "databoot= np.empty([1000,100])\n",
    "for i in range(1000):\n",
    "    for j in range(100):\n",
    "        databoot[i,j]= stats.norm.rvs(data[j,0],data[j,1]) \n",
    "#each row is a new realization of 100 points"
   ]
  },
  {
   "cell_type": "code",
   "execution_count": 120,
   "metadata": {},
   "outputs": [
    {
     "data": {
      "image/png": "[encoded data removed]",
      "text/plain": [
       "<Figure size 432x288 with 1 Axes>"
      ]
     },
     "metadata": {
      "needs_background": "light"
     },
     "output_type": "display_data"
    }
   ],
   "source": [
    "#5\n",
    "#we learned maximizing logL is just minimizing chi2 so let's do that\n",
    "smeans= np.empty(1000)\n",
    "mlemeans= np.empty(1000)\n",
    "for i in range(1000):\n",
    "        smeans[i]= np.sum(databoot[i,:])/100\n",
    "        chi_squared_boot = lambda mu: chi2(databoot[i,:],mu,data[:,1])\n",
    "        chi2min_boot= optimize.fmin(chi_squared_boot,smeans[i],disp=False) #doing the same fitting for each realization\n",
    "        mlemeans[i]= chi2min_boot\n",
    "newxgrid=np.linspace(3.4,4.6,1000)\n",
    "plt.hist(mlemeans,density=True)\n",
    "plt.plot(newxgrid,stats.norm.pdf(newxgrid,3.9375,.11565))\n",
    "plt.show()\n",
    "\n",
    "#They definitely match-ish!\n"
   ]
  },
  {
   "cell_type": "code",
   "execution_count": 164,
   "metadata": {},
   "outputs": [
    {
     "name": "stdout",
     "output_type": "stream",
     "text": [
      "Optimization terminated successfully.\n",
      "         Current function value: 6.268913\n",
      "         Iterations: 23\n",
      "         Function evaluations: 39\n",
      "[ 3.7445154  14.66482422]\n"
     ]
    }
   ],
   "source": [
    "#6\n",
    "#It looks really similar but we're minimizing a different thing\n",
    "\n",
    "def laplace_loss(m,b,x):\n",
    "    la_loss=np.sum(np.abs((x-m)/b))\n",
    "    return la_loss\n",
    "#logL= -laplace_loss + constant we don't need yet again   \n",
    "laplace = lambda lap: laplace_loss(lap[0],lap[1],data[:,0])\n",
    "lap= (smean,.1)\n",
    "laplace_min= optimize.fmin(laplace,lap,xtol=4,ftol=4)\n",
    "print(laplace_min)\n",
    "\n",
    "#This was the smallest tolerance at which I could get everything to converge."
   ]
  },
  {
   "cell_type": "code",
   "execution_count": 168,
   "metadata": {},
   "outputs": [
    {
     "name": "stdout",
     "output_type": "stream",
     "text": [
      "90.12371134020619 82.74951134020617\n",
      "88.04081632653062\n"
     ]
    }
   ],
   "source": [
    "#7\n",
    "#chi sq from the Gaussian fit was 86\n",
    "AICGauss= 86+4+(12/97)\n",
    "#L for Laplace was 6.27 but since it's not Gaussian I think the way to get something comparable to chi square, which\n",
    "#for Gaussian dist is the first term of the AIC, would be to square it since it then would have the same form as chi sq\n",
    "AICLaplace= 2*(6.27**2)+4+(12/97)\n",
    "\n",
    "print(AICGauss,AICLaplace)\n",
    "#So this says that Laplace is preferential but this is using my approximation for the first term of the AIC since I\n",
    "#minimized the sum of residuals instead of maximizing the entire log likelihood expression, so it could totally be \n",
    "#too small.I also realize that we only fitted the Gaussian for the mean so if I had used 1 for my k value I would get a\n",
    "# Gauss AIC of:\n",
    "\n",
    "AICGauss1p= 86+2+(4/98)\n",
    "print(AICGauss1p)"
   ]
  },
  {
   "cell_type": "code",
   "execution_count": 200,
   "metadata": {},
   "outputs": [
    {
     "data": {
      "image/png": "[encoded data removed]",
      "text/plain": [
       "<Figure size 396x396 with 4 Axes>"
      ]
     },
     "execution_count": 200,
     "metadata": {},
     "output_type": "execute_result"
    },
    {
     "data": {
      "image/png": "[encoded data removed]",
      "text/plain": [
       "<Figure size 396x396 with 4 Axes>"
      ]
     },
     "metadata": {
      "needs_background": "light"
     },
     "output_type": "display_data"
    }
   ],
   "source": [
    "#8\n",
    "mus= np.empty(1000)\n",
    "bs= np.empty(1000)\n",
    "for i in range(1000):\n",
    "        laplace_boot = lambda lap: laplace_loss(lap[0],lap[1],data[:,0])\n",
    "        lap=(smeans[i],1)\n",
    "        laplacemin_boot= optimize.fmin(laplace_boot,lap,xtol=7,ftol=7,disp=False) #doing the same fitting for each realization\n",
    "        mus[i]= laplacemin_boot[0]\n",
    "        bs[i]= laplacemin_boot[1]\n",
    "cornerdata=np.array([mus,bs])\n",
    "corner.corner(cornerdata.T,labels=['mu','b'],titles=['mu dist','b dist'],quantiles=[.025,.16,.84,.975],show_titles=True)"
   ]
  },
  {
   "cell_type": "code",
   "execution_count": 169,
   "metadata": {},
   "outputs": [
    {
     "name": "stdout",
     "output_type": "stream",
     "text": [
      "Collecting numdifftools\n",
      "  Downloading numdifftools-0.9.39-py2.py3-none-any.whl (953 kB)\n",
      "\u001b[K     |████████████████████████████████| 953 kB 406 kB/s eta 0:00:01\n",
      "\u001b[?25hInstalling collected packages: numdifftools\n",
      "Successfully installed numdifftools-0.9.39\n"
     ]
    }
   ],
   "source": [
    "!pip install numdifftools"
   ]
  },
  {
   "cell_type": "code",
   "execution_count": 199,
   "metadata": {},
   "outputs": [
    {
     "name": "stdout",
     "output_type": "stream",
     "text": [
      "[[       nan 0.69139893]\n",
      " [0.69139893        nan]]\n"
     ]
    },
    {
     "name": "stderr",
     "output_type": "stream",
     "text": [
      "<ipython-input-199-4565704f5f8a>:8: RuntimeWarning: invalid value encountered in sqrt\n",
      "  sigma_laplace = np.linalg.inv(H)**0.5\n"
     ]
    }
   ],
   "source": [
    "def logL(m,b,x):\n",
    "    loglaplace=-1*(np.sum(np.abs((x-m)/b)))+np.log(1/(2*b))\n",
    "    return loglaplace\n",
    "laplacelog = lambda laplog: logL(laplog[0],laplog[1],data[:,0])\n",
    "\n",
    "import numdifftools as nd\n",
    "H = nd.Hessian(laplacelog)([laplace_min[0], laplace_min[1]])\n",
    "sigma_laplace = np.linalg.inv(H)**0.5\n",
    "print(sigma_laplace)"
   ]
  },
  {
   "cell_type": "code",
   "execution_count": null,
   "metadata": {},
   "outputs": [],
   "source": [
    "#9 \n",
    "#The diagonals corresponding to covariances are showing, but the nonexistent uncertainty in the b parameter is making\n",
    "#issues with the uncertainties, I had to tweak the tolerance a lot to even get it to converge. \n"
   ]
  },
  {
   "cell_type": "code",
   "execution_count": null,
   "metadata": {},
   "outputs": [],
   "source": []
  }
 ],
 "metadata": {
  "anaconda-cloud": {},
  "kernelspec": {
   "display_name": "Python 3",
   "language": "python",
   "name": "python3"
  },
  "language_info": {
   "codemirror_mode": {
    "name": "ipython",
    "version": 3
   },
   "file_extension": ".py",
   "mimetype": "text/x-python",
   "name": "python",
   "nbconvert_exporter": "python",
   "pygments_lexer": "ipython3",
   "version": "3.8.6"
  }
 },
 "nbformat": 4,
 "nbformat_minor": 2
}
