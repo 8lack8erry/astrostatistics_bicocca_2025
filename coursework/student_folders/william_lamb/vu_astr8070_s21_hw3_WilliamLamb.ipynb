{
 "cells": [
  {
   "cell_type": "markdown",
   "metadata": {},
   "source": [
    "### ASTR 8070: Astrostatistics\n",
    "***S. R. Taylor***\n",
    "___\n",
    "\n",
    "# Homework 3\n",
    "### Due: Friday, Feb 19th at 11.59pm CST\n",
    "---"
   ]
  },
  {
   "cell_type": "markdown",
   "metadata": {},
   "source": [
    "## Only one problem this week\n",
    "\n",
    "This problem uses a dataset in `/coursework/homeworks/hw_data/`.\n",
    "\n",
    "1) Read in `hw3_data_1.npy`. This is a (50 x 2) numpy array, with measurements in the first column and uncertainties in the second column. Using the analytic results for heteroscedastic Gaussian data from lectures, compute the sample mean and the standard error on the sample mean from for this data.\n",
    "\n",
    "2) Reusing some approaches and tools from `Lecture_6`, write a ln-likelihood function for heteroscedastic Gaussian data, and use it in a fitting algorithm to find the best-fit mean. *Remember that scipy optimizers are set up to minimize functions.*\n",
    "\n",
    "3) Using the same numerical technique from `Lecture_5`, compute the Fisher uncertainty estimate on the mean.\n",
    "\n",
    "4) Using the bootstrap method, generate $1000$ bootstrap realizations of this dataset. *DO NOT use the `astroML` code. Write your own bootstrap function from scratch. Also recall that when resampling data, measurements and uncertainties should stay paired together.*\n",
    "\n",
    "5) Repeat (2) with all $1000$ boostrap datasets to find the distribution of the sample mean. Plot a normalized histogram of these bootstrap means, and overplot a Gaussian pdf with the mean and std found in (1). Do these agree?\n",
    "\n",
    "6) While we have fitted a heteroscedastic Gaussian to this data, let's try something else. Write some code to define a ln-likelihood for a Laplace distribution evaluated on this data. Fit simultaneously for the Laplace location parameter $\\mu$ and scale parameter $\\Delta$.\n",
    "\n",
    "7) Compute the AIC values for the heteroscedastic Gaussian model and the Laplacian model. Which model is favored by the data?\n",
    "\n",
    "8) Using the $1000$ bootstrap datasets from before, fit for the Laplacian $\\mu$ and $\\Delta$ for each. Make a nice `corner` plot of the distributions of $\\mu$ and $\\Delta$ that shows both the marginal $1$D distributions and the joint $2$D distribution. Make sure the plot has labels, shows the titles on each $1$D marginal panel, and has $68\\%$ and $95\\%$ levels.\n",
    "\n",
    "9) Let's finish with a Fisher uncertainty estimate of the Laplacian parameters. Use the following code to install `numdifftools` which provides a simple way to compute derivatives. We can then compute the Hessian matrix, which is the matrix of the second derivatives of the user's function. This should be computed at the best-fit Laplacian parameters $\\mu$ and $\\Delta$. To finish, invert the matrix, and then take the square root. The diagonal entries will then be the Fisher uncertainties on $\\mu$ and $\\Delta$. How does these compare to the bootstrap distribution widths found in (8)?"
   ]
  },
  {
   "cell_type": "code",
   "execution_count": 1,
   "metadata": {},
   "outputs": [
    {
     "name": "stdout",
     "output_type": "stream",
     "text": [
      "Collecting numdifftools\n",
      "  Downloading numdifftools-0.9.39-py2.py3-none-any.whl (953 kB)\n",
      "\u001b[K     |████████████████████████████████| 953 kB 1.8 MB/s eta 0:00:01\n",
      "\u001b[?25hInstalling collected packages: numdifftools\n",
      "Successfully installed numdifftools-0.9.39\n"
     ]
    }
   ],
   "source": [
    "!pip install numdifftools"
   ]
  },
  {
   "cell_type": "markdown",
   "metadata": {},
   "source": [
    "### Solution"
   ]
  },
  {
   "cell_type": "code",
   "execution_count": 33,
   "metadata": {},
   "outputs": [],
   "source": [
    "import numpy as np\n",
    "import matplotlib.pyplot as plt\n",
    "\n",
    "import scipy.stats\n",
    "from scipy import optimize"
   ]
  },
  {
   "cell_type": "markdown",
   "metadata": {},
   "source": [
    "1."
   ]
  },
  {
   "cell_type": "code",
   "execution_count": 28,
   "metadata": {},
   "outputs": [],
   "source": [
    "# import data file\n",
    "filepath = '../../homeworks/hw_data/hw3_data_1.npy'\n",
    "data = np.load(filepath)\n",
    "\n",
    "obs, unc = data[:,0], data[:,1]"
   ]
  },
  {
   "cell_type": "code",
   "execution_count": 29,
   "metadata": {},
   "outputs": [],
   "source": [
    "sample_mean = np.sum(obs/unc**2)/np.sum(1/unc**2)\n",
    "sigmax = np.sum(1/unc**2)**-0.5"
   ]
  },
  {
   "cell_type": "code",
   "execution_count": 30,
   "metadata": {},
   "outputs": [
    {
     "name": "stdout",
     "output_type": "stream",
     "text": [
      "sample mean =  3.9179920346060557\n",
      "standard error on sample mean = 0.09481084100510954\n"
     ]
    }
   ],
   "source": [
    "print('sample mean = ', sample_mean)\n",
    "print('standard error on sample mean =', sigmax)"
   ]
  },
  {
   "cell_type": "markdown",
   "metadata": {},
   "source": [
    "2. \n",
    "For the likelihood:\n",
    "\n",
    "$$L = p(\\{x_i\\}|\\mu,I) = \\prod_{i=1}^N \\frac{1}{\\sigma_i\\sqrt{2\\pi}} \\exp\\left(\\frac{-(x_i-\\mu)^2}\n",
    "{2\\sigma_i^2}\\right).$$\n",
    "\n",
    "Taking log:\n",
    "\n",
    "$$\\ln L = {\\rm constant} - \\sum_{i=1}^N \\frac{(x_i - \\mu)^2}{2\\sigma_i^2} = {\\rm constant} - \\frac{1}{2}\\sum_{i=1}^N \\chi^2 $$\n",
    "\n",
    "Maximising $\\ln L$ requires minimising $\\chi^2$ because constant $>0$"
   ]
  },
  {
   "cell_type": "code",
   "execution_count": 376,
   "metadata": {},
   "outputs": [
    {
     "name": "stdout",
     "output_type": "stream",
     "text": [
      "Optimization terminated successfully.\n",
      "         Current function value: 0.000003\n",
      "         Iterations: 16\n",
      "         Function evaluations: 32\n",
      "\n",
      "optimised mu = 3.928\n"
     ]
    }
   ],
   "source": [
    "# defining function to search over mu\n",
    "def chi2(mu, x=obs, sigma=unc):\n",
    "    # calculating chi2\n",
    "    return np.sum((x-mu)/sigma)**2\n",
    "\n",
    "mu0 = 3.\n",
    "mu_op = optimize.fmin(chi2, mu0)[0]\n",
    "print(f'\\noptimised mu = {mu_op:.3f}')"
   ]
  },
  {
   "cell_type": "markdown",
   "metadata": {},
   "source": [
    "3."
   ]
  },
  {
   "cell_type": "code",
   "execution_count": 375,
   "metadata": {},
   "outputs": [
    {
     "name": "stdout",
     "output_type": "stream",
     "text": [
      "Fisher matrix error on estimated mean: 0.095\n"
     ]
    }
   ],
   "source": [
    "# creating the likelihood\n",
    "from scipy.stats import norm\n",
    "\n",
    "# array of proposed mus\n",
    "mu_prop = np.linspace(1,5,100)\n",
    "\n",
    "# array of likelihoods for each mu\n",
    "L = np.array([np.prod([norm.pdf(obs[i], loc=mu, scale=unc[i]) for i in range(len(obs))]) for mu in mu_prop])\n",
    "\n",
    "# differentiate twice over mus and sqrt\n",
    "sigma_mu = np.diff(np.log(L), n=2)\n",
    "sigma_mu /= (mu_prop[1]-mu_prop[0])**2\n",
    "sigma_mu *= -1\n",
    "sigma_mu = 1/np.sqrt(sigma_mu)\n",
    "\n",
    "print(f\"Fisher matrix error on estimated mean: {sigma_mu[0]:.3f}\")"
   ]
  },
  {
   "cell_type": "markdown",
   "metadata": {},
   "source": [
    "4. "
   ]
  },
  {
   "cell_type": "code",
   "execution_count": 259,
   "metadata": {},
   "outputs": [],
   "source": [
    "np.random.seed(123)\n",
    "\n",
    "m = 1000 # number of bootstraps\n",
    "n = 100 # number of resamples\n",
    "\n",
    "# bootstrap realisations\n",
    "def bootstrap(n):\n",
    "    # random ints to draw from samples\n",
    "    ints = np.random.randint(0, len(data), n)\n",
    "    resamples = data[ints]\n",
    "    \n",
    "    return resamples\n",
    "\n",
    "# creating realisations\n",
    "realisations = np.array([bootstrap(n) for i in range(m)])"
   ]
  },
  {
   "cell_type": "markdown",
   "metadata": {},
   "source": [
    "5."
   ]
  },
  {
   "cell_type": "code",
   "execution_count": 246,
   "metadata": {},
   "outputs": [],
   "source": [
    "mu0 = 3.\n",
    "mu_op_b = [optimize.fmin(chi2, mu0, args=(realisations[i][:,0], realisations[i][:,1]), disp=False)[0] for i in range(m)]"
   ]
  },
  {
   "cell_type": "code",
   "execution_count": 247,
   "metadata": {},
   "outputs": [
    {
     "data": {
      "image/png": "[encoded data removed]",
      "text/plain": [
       "<Figure size 432x288 with 1 Axes>"
      ]
     },
     "metadata": {
      "needs_background": "light"
     },
     "output_type": "display_data"
    }
   ],
   "source": [
    "plt.hist(mu_op_b, bins = 40, density=True, alpha=0.5, histtype='stepfilled', label='bootstrap')\n",
    "\n",
    "xgrid = np.linspace(3.5, 4.3, 1000)\n",
    "norm_data = norm(loc=sample_mean, scale=sigmax)\n",
    "\n",
    "plt.plot(xgrid, norm_data.pdf(xgrid), label='$\\mathcal{N}(\\overline{x}, \\sigma_\\overline{x})$');\n",
    "plt.legend(loc='upper right');\n",
    "plt.annotate(f'n={n}', (3.5,5));"
   ]
  },
  {
   "cell_type": "markdown",
   "metadata": {},
   "source": [
    "The bootstrap method only agrees if the number of samples in each bootstrap realisation $n=100$. Increasing $n$ reduces the error on the bootstrap method, and so the std dev of the bootstrap samples decreases resulting in a higher, sharper normal distribution."
   ]
  },
  {
   "cell_type": "code",
   "execution_count": 248,
   "metadata": {},
   "outputs": [
    {
     "data": {
      "image/png": "[encoded data removed]",
      "text/plain": [
       "<Figure size 432x288 with 1 Axes>"
      ]
     },
     "metadata": {
      "needs_background": "light"
     },
     "output_type": "display_data"
    }
   ],
   "source": [
    "n=1000\n",
    "realisations2 = np.array([bootstrap(n) for i in range(m)])\n",
    "\n",
    "mu0 = 3.\n",
    "mu_op_b2 = [optimize.fmin(chi2, mu0, args=(realisations2[i][:,0], realisations2[i][:,1]), disp=False)[0] for i in range(m)]\n",
    "\n",
    "plt.hist(mu_op_b2, bins = 40, density=True, alpha=0.5, histtype='stepfilled', label='bootstrap')\n",
    "\n",
    "xgrid = np.linspace(3.5, 4.3, 1000)\n",
    "norm_data = norm(loc=sample_mean, scale=sigmax)\n",
    "\n",
    "plt.plot(xgrid, norm_data.pdf(xgrid), label='$\\mathcal{N}(\\overline{x}, \\sigma_\\mu)$');\n",
    "plt.legend(loc='upper right');\n",
    "plt.annotate(f'n={n}', (3.5,13));"
   ]
  },
  {
   "cell_type": "markdown",
   "metadata": {},
   "source": [
    "6.\n",
    "From wikipedia for Laplacian distribution:\n",
    "\n",
    "$$ L = \\frac{1}{2b}\\exp\\left(-\\frac{|x-\\mu|}{b}\\right) $$"
   ]
  },
  {
   "cell_type": "code",
   "execution_count": 335,
   "metadata": {},
   "outputs": [
    {
     "name": "stdout",
     "output_type": "stream",
     "text": [
      "loc parameter = 4.071\n",
      "scale parameter = 0.874\n"
     ]
    }
   ],
   "source": [
    "from scipy.stats import laplace\n",
    "\n",
    "# array of proposed mus\n",
    "mu_prop_l = np.linspace(1,5,100)\n",
    "delta_prop = np.linspace(0.01,2,100)\n",
    "\n",
    "# array of likelihoods for each proposed mu\n",
    "lnL = np.array([[np.sum(laplace.logpdf(obs, loc=mu, scale=delta)) for delta in delta_prop] for mu in mu_prop_l])\n",
    "\n",
    "# finding max lnL\n",
    "idx_max = np.where(lnL == np.max(lnL))\n",
    "max_mu_a = mu_prop_l[idx_max[0]][0]\n",
    "max_delta_a = delta_prop[idx_max[1]][0]\n",
    "\n",
    "print(f'loc parameter = {max_mu:.3f}\\nscale parameter = {max_delta:.3f}')"
   ]
  },
  {
   "cell_type": "markdown",
   "metadata": {},
   "source": [
    "7. $$ \\mathrm{AIC}_M \\equiv -2\\ln[L^0(M)] + 2k + \\frac{2k(k+1)}{N-k-1}, $$"
   ]
  },
  {
   "cell_type": "code",
   "execution_count": 359,
   "metadata": {},
   "outputs": [
    {
     "name": "stdout",
     "output_type": "stream",
     "text": [
      "AIC for Gaussian: 14448.533\n",
      "AIC for Laplace distribution: 317.742\n",
      "AIC for Laplace smallest - Laplace is favoured model\n"
     ]
    }
   ],
   "source": [
    "lnL_G = np.sum(norm.logpdf(obs, loc=mu_op, scale=sigmax))\n",
    "lnL_L = np.sum(laplace.logpdf(obs, loc=max_mu, scale=max_delta))\n",
    "\n",
    "k, N = 2, len(obs)\n",
    "\n",
    "AIC_G = -2*lnL_G + 2*k + 2*k*(k+1)/(N-k-1)\n",
    "AIC_L = -2*lnL_L + 2*k + 2*k*(k+1)/(N-k-1)\n",
    "\n",
    "print(f'AIC for Gaussian: {AIC_G:.3f}\\nAIC for Laplace distribution: {AIC_L:.3f}')\n",
    "print('AIC for Laplace smallest - Laplace is favoured model')"
   ]
  },
  {
   "cell_type": "markdown",
   "metadata": {},
   "source": [
    "8."
   ]
  },
  {
   "cell_type": "code",
   "execution_count": 286,
   "metadata": {
    "collapsed": true
   },
   "outputs": [
    {
     "name": "stdout",
     "output_type": "stream",
     "text": [
      "Iteration  0\n",
      "Iteration  20\n",
      "Iteration  40\n",
      "Iteration  60\n",
      "Iteration  80\n",
      "Iteration  100\n",
      "Iteration  120\n",
      "Iteration  140\n",
      "Iteration  160\n",
      "Iteration  180\n",
      "Iteration  200\n",
      "Iteration  220\n",
      "Iteration  240\n",
      "Iteration  260\n",
      "Iteration  280\n",
      "Iteration  300\n",
      "Iteration  320\n",
      "Iteration  340\n",
      "Iteration  360\n",
      "Iteration  380\n",
      "Iteration  400\n",
      "Iteration  420\n",
      "Iteration  440\n",
      "Iteration  460\n",
      "Iteration  480\n",
      "Iteration  500\n",
      "Iteration  520\n",
      "Iteration  540\n",
      "Iteration  560\n",
      "Iteration  580\n",
      "Iteration  600\n",
      "Iteration  620\n",
      "Iteration  640\n",
      "Iteration  660\n",
      "Iteration  680\n",
      "Iteration  700\n",
      "Iteration  720\n",
      "Iteration  740\n",
      "Iteration  760\n",
      "Iteration  780\n",
      "Iteration  800\n",
      "Iteration  820\n",
      "Iteration  840\n",
      "Iteration  860\n",
      "Iteration  880\n",
      "Iteration  900\n",
      "Iteration  920\n",
      "Iteration  940\n",
      "Iteration  960\n",
      "Iteration  980\n"
     ]
    }
   ],
   "source": [
    "# loop over realisations\n",
    "bf_mu = []\n",
    "bf_delta = []\n",
    "for i in range(m):\n",
    "    # array of likelihoods for each proposed mu\n",
    "    lnL = np.array([[np.sum(laplace.logpdf(realisations[i][:,0], loc=mu, scale=delta)) for delta in delta_prop] for mu in mu_prop_l])\n",
    "\n",
    "    # finding max lnL\n",
    "    idx_max = np.where(lnL == np.max(lnL))\n",
    "    max_mu = mu_prop_l[idx_max[0]][0]\n",
    "    max_delta = delta_prop[idx_max[1]][0]\n",
    "    \n",
    "    bf_mu.append(max_mu)\n",
    "    bf_delta.append(max_delta)\n",
    "    \n",
    "    if(i%20==0):\n",
    "        print('Iteration ', i)"
   ]
  },
  {
   "cell_type": "code",
   "execution_count": 313,
   "metadata": {},
   "outputs": [],
   "source": [
    "samples=[[mu, delta] for mu, delta in zip(bf_mu, bf_delta)]"
   ]
  },
  {
   "cell_type": "code",
   "execution_count": 332,
   "metadata": {},
   "outputs": [
    {
     "data": {
      "image/png": "[encoded data removed]",
      "text/plain": [
       "<Figure size 396x396 with 4 Axes>"
      ]
     },
     "metadata": {
      "needs_background": "light"
     },
     "output_type": "display_data"
    }
   ],
   "source": [
    "corner.corner(samples, bins=20, smooth=True, smooth1d=True, labels=[r'$\\mu$',r'$\\Delta$'], show_titles=True, levels=[0.16, 0.84], color='C1');"
   ]
  },
  {
   "cell_type": "markdown",
   "metadata": {},
   "source": [
    "9."
   ]
  },
  {
   "cell_type": "code",
   "execution_count": 360,
   "metadata": {},
   "outputs": [],
   "source": [
    "import numdifftools as nd\n",
    "\n",
    "f_lnlaplace = lambda params: np.sum(laplace.logpdf(obs, loc=params[0], scale=params[1]))"
   ]
  },
  {
   "cell_type": "code",
   "execution_count": 364,
   "metadata": {},
   "outputs": [
    {
     "name": "stderr",
     "output_type": "stream",
     "text": [
      "<ipython-input-364-847800b277e9>:2: RuntimeWarning: invalid value encountered in sqrt\n",
      "  sigma_laplace = np.linalg.inv(-H)**0.5\n"
     ]
    }
   ],
   "source": [
    "H = nd.Hessian(f_lnlaplace)([max_mu_a, max_delta_a])\n",
    "sigma_laplace = np.linalg.inv(-H)**0.5 # hessian should have negative sign"
   ]
  },
  {
   "cell_type": "code",
   "execution_count": 383,
   "metadata": {},
   "outputs": [
    {
     "name": "stdout",
     "output_type": "stream",
     "text": [
      "Fisher estimate on mu: 0.094\n",
      "(This is the same as the standard error on the sample mean we first calculated!)\n",
      "Std dev on bootstrap mu distribution: 0.135\n",
      "\n",
      "Fisher estimate on Delta: 0.087\n",
      "Std dev on bootstrap Delta distribution: 0.072\n"
     ]
    }
   ],
   "source": [
    "fisher = np.diag(sigma_laplace)\n",
    "print(f'Fisher estimate on mu: {fisher[0]:.3f}\\n(This is the same as the standard error on the sample mean we first calculated!)')\n",
    "print(f'Std dev on bootstrap mu distribution: {np.std(bf_mu):.3f}')\n",
    "print(f'\\nFisher estimate on Delta: {fisher[1]:.3f}')\n",
    "print(f'Std dev on bootstrap Delta distribution: {np.std(bf_delta):.3f}')"
   ]
  },
  {
   "cell_type": "code",
   "execution_count": null,
   "metadata": {},
   "outputs": [],
   "source": []
  }
 ],
 "metadata": {
  "anaconda-cloud": {},
  "kernelspec": {
   "display_name": "Python [conda env:astr8070] *",
   "language": "python",
   "name": "conda-env-astr8070-py"
  },
  "language_info": {
   "codemirror_mode": {
    "name": "ipython",
    "version": 3
   },
   "file_extension": ".py",
   "mimetype": "text/x-python",
   "name": "python",
   "nbconvert_exporter": "python",
   "pygments_lexer": "ipython3",
   "version": "3.8.6"
  }
 },
 "nbformat": 4,
 "nbformat_minor": 2
}
