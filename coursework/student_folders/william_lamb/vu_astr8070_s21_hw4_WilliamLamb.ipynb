{
 "cells": [
  {
   "cell_type": "markdown",
   "metadata": {},
   "source": [
    "### ASTR 8070: Astrostatistics\n",
    "***S. R. Taylor***\n",
    "___\n",
    "\n",
    "# Homework 4\n",
    "### Due: Friday, Mar 5th at 11.59pm CST\n",
    "---"
   ]
  },
  {
   "cell_type": "markdown",
   "metadata": {},
   "source": [
    "## Problem 1\n",
    "\n",
    "This problem uses a dataset in `/coursework/homeworks/hw_data/`.\n",
    "\n",
    "1) Read in `hw4_data_1.npy`. This is a (10 x 2) numpy array, with voltage measurements in the first column and heteroscedastic voltage uncertainties in the second column. Compute the sample mean and the standard error on the sample mean for this data.\n",
    "\n",
    "2) Fit the appropriate ln-likelihood function and find the best-fit mean voltage.\n",
    "\n",
    "3) Compute and plot the Bayesian posterior probability density (*not the log posterior*) for the mean voltage assuming a uniform prior for the mean in the range 3 to 7. Make sure this posterior pdf is normalized!\n",
    "\n",
    "4) By either drawing samples from this posterior, or using your gridded posterior pdf to make a cdf, find the equal-tailed 68.3% credible region for the mean, and compare the upper and lower boundaries to the sample mean plus/minus the standard error, respectively. *Also* find the MAP value of the mean.\n",
    "\n",
    "5) Repeat (3) and (4) this time with a prior on the mean that is uniform in the range 4.6 to 5.4. \n",
    "\n",
    "6) Now, imagine that we read an old paper about the experiment that gave us the voltage measurements, and they found that the mean was actually $6\\pm0.3$. Repeat (3) and (4) this time with a Gaussian prior on the mean centered at $6$ with standard deviation of $0.3$.\n",
    "\n",
    "7) Plot all of the normalized posterior pdfs for $\\mu$ from (3), (5), and (6) on the same plot, making sure that the xlim of the plot spans 0 to 10.\n",
    "\n",
    "8) You have made sure that the posterior pdfs are properly normalized, but until now you have ignored the meaning of that normalization constant. It is the Bayesian evidence for the particular model you have applied! Compute the evidence under a new model where the prior for the mean is a delta function at the best-fit value you found in (1) *(think about this and don't just immediately go looking for a `scipy.stats` delta function)*. Compare this to the evidence found under the prior in (3). Taking ratios to make a Bayes factor, which model is favored? Is there much of an Occam penalty by having the wide prior compared to knowing the mean exactly? "
   ]
  },
  {
   "cell_type": "markdown",
   "metadata": {},
   "source": [
    "### Solution"
   ]
  },
  {
   "cell_type": "code",
   "execution_count": 1,
   "metadata": {},
   "outputs": [],
   "source": [
    "import numpy as np\n",
    "import matplotlib.pyplot as plt\n",
    "import scipy.stats"
   ]
  },
  {
   "cell_type": "markdown",
   "metadata": {},
   "source": [
    "1."
   ]
  },
  {
   "cell_type": "code",
   "execution_count": 2,
   "metadata": {},
   "outputs": [
    {
     "name": "stdout",
     "output_type": "stream",
     "text": [
      "Sample mean = 4.94212\n",
      "Std error on sample mean = 0.43024\n"
     ]
    }
   ],
   "source": [
    "# filepath to dataset\n",
    "filepath = '../../homeworks/hw_data/hw4_data_1.npy'\n",
    "\n",
    "# reading in dataset\n",
    "data = np.load(filepath)\n",
    "volt = data[:,0]\n",
    "unc  = data[:,1]\n",
    "\n",
    "w = np.power(unc, -2)\n",
    "samp_mean = np.sum(volt*w)/np.sum(w)\n",
    "std_error = np.power(np.sum(w), -0.5) # std error on sample mean\n",
    "\n",
    "print(f'Sample mean = {samp_mean:.5f}')\n",
    "print(f'Std error on sample mean = {std_error:.5f}')"
   ]
  },
  {
   "cell_type": "markdown",
   "metadata": {},
   "source": [
    "2. "
   ]
  },
  {
   "cell_type": "code",
   "execution_count": 3,
   "metadata": {},
   "outputs": [
    {
     "name": "stdout",
     "output_type": "stream",
     "text": [
      "Optimization terminated successfully.\n",
      "         Current function value: 5.614502\n",
      "         Iterations: 13\n",
      "         Function evaluations: 26\n",
      "Best fit mean voltage = 4.94214\n"
     ]
    }
   ],
   "source": [
    "from scipy import optimize\n",
    "\n",
    "# defining a function to calculate chi^2 for given parameters\n",
    "def chi2(mu, x, sigma):\n",
    "    return np.sum(((x-mu)/sigma)**2)\n",
    "\n",
    "# defining a lambda function to loop through proposed mus\n",
    "f_squared = lambda beta: chi2(beta, volt, unc)\n",
    "\n",
    "# optimize mu - minimise chi2\n",
    "beta0 = 5\n",
    "mu_bf = optimize.fmin(f_squared, beta0)[0]\n",
    "print(f'Best fit mean voltage = {mu_bf:.5f}')"
   ]
  },
  {
   "cell_type": "markdown",
   "metadata": {},
   "source": [
    "3. "
   ]
  },
  {
   "cell_type": "code",
   "execution_count": 6,
   "metadata": {},
   "outputs": [],
   "source": [
    "from scipy.stats import norm\n",
    "\n",
    "# defining of grid of potential means\n",
    "gs = 10000 # mugrid size\n",
    "mugrid = np.linspace(0, 10, gs)\n",
    "dx = 10/gs\n",
    "\n",
    "# defining a uniform prior mu between 3 and 7\n",
    "prior = np.ones(gs)/(7-3)\n",
    "prior[mugrid < 3] = 0\n",
    "prior[mugrid > 7] = 0\n",
    "\n",
    "# likelihood at each mu given volt, uncertainty\n",
    "# assuming gaussian likelihood\n",
    "L = np.array([np.prod(norm(loc=volt, scale=unc).pdf(mu))\n",
    "                  for mu in mugrid])"
   ]
  },
  {
   "cell_type": "code",
   "execution_count": 7,
   "metadata": {},
   "outputs": [],
   "source": [
    "# calculating posterior\n",
    "posterior = L * prior\n",
    "\n",
    "# normalising posterior by\n",
    "# calculating area using trapezoid rule\n",
    "post_area = np.trapz(posterior, mugrid, dx)\n",
    "post_normal = posterior/post_area"
   ]
  },
  {
   "cell_type": "code",
   "execution_count": 10,
   "metadata": {},
   "outputs": [
    {
     "data": {
      "image/png": "[encoded data removed]",
      "text/plain": [
       "<Figure size 432x288 with 1 Axes>"
      ]
     },
     "metadata": {
      "needs_background": "light"
     },
     "output_type": "display_data"
    }
   ],
   "source": [
    "plt.plot(mugrid, post_normal)\n",
    "plt.ylim(0,1)\n",
    "plt.xlabel(r'$\\mu$')\n",
    "plt.ylabel('pdf');"
   ]
  },
  {
   "cell_type": "markdown",
   "metadata": {},
   "source": [
    "SRT: All correct. Removing a point due to the prior function-- it would generalize better and be more efficient if it were a scipy.stats uniform instance. -1"
   ]
  },
  {
   "cell_type": "markdown",
   "metadata": {},
   "source": [
    "4."
   ]
  },
  {
   "cell_type": "code",
   "execution_count": 12,
   "metadata": {},
   "outputs": [
    {
     "name": "stdout",
     "output_type": "stream",
     "text": [
      "MAP = 4.94249\n",
      "68% credible region is 4.51145 < mu < 5.37354\n",
      "Sample mean +/- std error = 4.51187 < mu < 5.37236\n"
     ]
    }
   ],
   "source": [
    "# calculating MAP for posterior\n",
    "map_idx = np.argmax(posterior)\n",
    "MAP = mugrid[map_idx]\n",
    "\n",
    "# calculating 68.3% credible region\n",
    "X = (1-68.3/100)/2\n",
    "post_cumulative = np.cumsum(post_normal)*dx\n",
    "ltail = post_cumulative[post_cumulative < X] # lower tail\n",
    "utail = post_cumulative[post_cumulative > 1-X] # upper tail\n",
    "lb = mugrid[len(ltail)] # using length of ltail as required idx\n",
    "ub = mugrid[1 - len(utail)] # using length of utail as required idx\n",
    "    \n",
    "print(f'MAP = {MAP:.5f}')\n",
    "print(f'68% credible region is {lb:.5f} < mu < {ub:.5f}')\n",
    "print(f'Sample mean +/- std error = {samp_mean-std_error:.5f} < mu < {samp_mean+std_error:.5f}')"
   ]
  },
  {
   "cell_type": "markdown",
   "metadata": {},
   "source": [
    "Both the upper and lower boundaries of $\\bar{x}\\pm\\sigma_\\bar{x}$ are within the 68% credible region"
   ]
  },
  {
   "cell_type": "markdown",
   "metadata": {},
   "source": [
    "5. "
   ]
  },
  {
   "cell_type": "code",
   "execution_count": 14,
   "metadata": {},
   "outputs": [
    {
     "name": "stdout",
     "output_type": "stream",
     "text": [
      "MAP = 4.94249\n",
      "68% credible region is 4.73547 < mu < 5.23952\n",
      "Sample mean +/- std error = 4.51187 < mu < 5.37236\n"
     ]
    },
    {
     "data": {
      "image/png": "[encoded data removed]",
      "text/plain": [
       "<Figure size 432x288 with 1 Axes>"
      ]
     },
     "metadata": {
      "needs_background": "light"
     },
     "output_type": "display_data"
    }
   ],
   "source": [
    "# calculating prior prop\n",
    "prior2 = np.ones(gs)/(5.4-4.6)\n",
    "prior2[mugrid<4.6] = 0\n",
    "prior2[mugrid>5.4] = 0\n",
    "\n",
    "# calculating posterior (same L)\n",
    "posterior2 = L * prior2\n",
    "\n",
    "# normalising posterior (trap rule)\n",
    "post_area2 = np.trapz(posterior2, mugrid, dx)\n",
    "post_normal2 = posterior2/post_area2\n",
    "\n",
    "plt.plot(mugrid, post_normal2)\n",
    "#plt.ylim(0,1)\n",
    "plt.xlabel(r'$\\mu$')\n",
    "plt.ylabel('pdf');\n",
    "\n",
    "# calculating MAP for posterior\n",
    "map_idx = np.argmax(posterior2)\n",
    "MAP = mugrid[map_idx]\n",
    "\n",
    "# calculating 68.3% credible region\n",
    "X = (1-68.3/100)/2\n",
    "post_cumulative = np.cumsum(post_normal2)*dx\n",
    "ltail = post_cumulative[post_cumulative < X] # lower tail\n",
    "utail = post_cumulative[post_cumulative > 1-X] # upper tail\n",
    "lb = mugrid[len(ltail)] # using length of ltail as required idx\n",
    "ub = mugrid[1 - len(utail)] # using length of utail as required idx\n",
    "    \n",
    "print(f'MAP = {MAP:.5f}')\n",
    "print(f'68% credible region is {lb:.5f} < mu < {ub:.5f}')\n",
    "print(f'Sample mean +/- std error = {samp_mean-std_error:.5f} < mu < {samp_mean+std_error:.5f}')"
   ]
  },
  {
   "cell_type": "markdown",
   "metadata": {},
   "source": [
    "Neither the upper and lower boundaries of $\\bar{x}\\pm\\sigma_\\bar{x}$ are within the 68% credible region"
   ]
  },
  {
   "cell_type": "markdown",
   "metadata": {},
   "source": [
    "6."
   ]
  },
  {
   "cell_type": "code",
   "execution_count": 15,
   "metadata": {},
   "outputs": [
    {
     "name": "stdout",
     "output_type": "stream",
     "text": [
      "MAP = 5.65357\n",
      "68% credible region is 5.40754 < mu < 5.90159\n",
      "Sample mean +/- std error = 4.51187 < mu < 5.37236\n",
      "Neither the upper or lower bounds of the sample is within the credible region\n"
     ]
    },
    {
     "data": {
      "image/png": "[encoded data removed]",
      "text/plain": [
       "<Figure size 432x288 with 1 Axes>"
      ]
     },
     "metadata": {
      "needs_background": "light"
     },
     "output_type": "display_data"
    }
   ],
   "source": [
    "# creating a gaussian object\n",
    "mu = 6\n",
    "sigma = 0.3\n",
    "priorN = norm(mu, sigma).pdf(mugrid)\n",
    "\n",
    "# calculating posterior (same L)\n",
    "posterior3 = L * priorN\n",
    "\n",
    "# normalising posterior (dividing by posterior pdf*mu bin width)\n",
    "post_area3 = np.trapz(posterior3, mugrid, dx)\n",
    "post_normal3 = posterior3/post_area3\n",
    "\n",
    "plt.plot(mugrid, post_normal3)\n",
    "#plt.ylim(0,1)\n",
    "plt.xlabel(r'$\\mu$')\n",
    "plt.ylabel('pdf');\n",
    "\n",
    "# calculating MAP for posterior\n",
    "map_idx = np.argmax(posterior3)\n",
    "MAP = mugrid[map_idx]\n",
    "\n",
    "# calculating 68.3% credible region\n",
    "X = (1-68.3/100)/2\n",
    "post_cumulative = np.cumsum(post_normal3)*dx\n",
    "ltail = post_cumulative[post_cumulative < X] # lower tail\n",
    "utail = post_cumulative[post_cumulative > 1-X] # upper tail\n",
    "lb = mugrid[len(ltail)] # using length of ltail as required idx\n",
    "ub = mugrid[1 - len(utail)] # using length of utail as required idx\n",
    "    \n",
    "print(f'MAP = {MAP:.5f}')\n",
    "print(f'68% credible region is {lb:.5f} < mu < {ub:.5f}')\n",
    "print(f'Sample mean +/- std error = {samp_mean-std_error:.5f} < mu < {samp_mean+std_error:.5f}')\n",
    "print(f'Neither the upper or lower bounds of the sample is within the credible region')"
   ]
  },
  {
   "cell_type": "markdown",
   "metadata": {},
   "source": [
    "7."
   ]
  },
  {
   "cell_type": "code",
   "execution_count": 16,
   "metadata": {},
   "outputs": [
    {
     "data": {
      "image/png": "[encoded data removed]",
      "text/plain": [
       "<Figure size 432x288 with 1 Axes>"
      ]
     },
     "metadata": {
      "needs_background": "light"
     },
     "output_type": "display_data"
    }
   ],
   "source": [
    "plt.plot(mugrid, post_normal, label='Q3 model')\n",
    "plt.plot(mugrid, post_normal2, label='Q5 model')\n",
    "plt.plot(mugrid, post_normal3, label='Q7 model')\n",
    "plt.xlim(0,10)\n",
    "plt.xlabel(r'$\\mu$')\n",
    "plt.ylabel('pdf')\n",
    "plt.legend(loc='best');"
   ]
  },
  {
   "cell_type": "markdown",
   "metadata": {},
   "source": [
    "8."
   ]
  },
  {
   "cell_type": "code",
   "execution_count": 17,
   "metadata": {},
   "outputs": [
    {
     "name": "stdout",
     "output_type": "stream",
     "text": [
      "Bayes factor, Q3/Q7 = 0.13479\n",
      "The ratio < 1, disfavouring the model in Q3. Delta prior is favoured\n",
      "This is because there is a large Occam's penalty for a wider prior due to increased model complexity\n"
     ]
    }
   ],
   "source": [
    "# prior for delta function - has size dx\n",
    "# it can't be infinitessimal in python!\n",
    "priord = np.ones(gs)/dx\n",
    "\n",
    "# searching for bin the best-fit mean is in\n",
    "# we want this index and the one to its left\n",
    "# to produce our delta prior\n",
    "bf_idx = np.searchsorted(mugrid, mu_bf)\n",
    "priord[np.arange(gs) < bf_idx-1] = 0\n",
    "priord[np.arange(gs) > bf_idx] = 0\n",
    "\n",
    "# calculating posterior\n",
    "posterior_delta = L*priord\n",
    "\n",
    "# normalising posterior\n",
    "post_aread = np.trapz(posterior_delta, mugrid, dx)\n",
    "\n",
    "# calculating bayes factor\n",
    "bayes_fact = post_area/post_aread\n",
    "print(f'Bayes factor, Q3/Q7 = {bayes_fact:.5f}')\n",
    "print(f'The ratio < 1, disfavouring the model in Q3. Delta prior is favoured')\n",
    "print(f\"This is because there is a large Occam's penalty for a wider prior \"+\n",
    "          \"due to increased model complexity\")"
   ]
  },
  {
   "cell_type": "markdown",
   "metadata": {},
   "source": [
    "SRT: Afraid not. The numerical answer isn't correct, and the method doesn't work I don't think. It's not a normalized prior. The correct approach is to remember that the integral of a function against a delta function is just the value of the function at the position of the delta function. So you just needed to evaluate the likelihood at the relevant location. -3"
   ]
  },
  {
   "cell_type": "markdown",
   "metadata": {},
   "source": [
    "## Problem 2\n",
    "\n",
    "This problem uses a dataset in `/coursework/homeworks/hw_data/`.\n",
    "\n",
    "1) Read in `hw4_data_2.npy`, which is a (3 x 20) numpy array that you used in `Lecture_9`. Set `x, y, sigma_y = data`. \n",
    "\n",
    "We're going to do some polynomial fits to this data just like in the lecture. However, in all cases you should **keep the $y$-intercept fixed at $-0.23$**. \n",
    "\n",
    "2) Use the following code to compute the un-normalized posterior pdf (i.e. just the likelihood x prior) on a grid of the linear coefficient (i.e. the slope) of a linear model, with a uniform prior between 0.5 and 1.5. Plot this posterior pdf. Remember this is just a one-dimensional model because the $y$-intercept is fixed. I advise a grid size of 100."
   ]
  },
  {
   "cell_type": "code",
   "execution_count": 18,
   "metadata": {},
   "outputs": [],
   "source": [
    "#Functions to do a polynomial fit, and compute the likelihood\n",
    "def polynomial_fit(theta, x):\n",
    "    \"\"\"Polynomial model of degree (len(theta) - 1)\"\"\"\n",
    "    # For a polynomial with order 1, this gives theta_0 + theta_1*x\n",
    "    # For a polynomial with order 2, this gives theta_0 + theta_1*x + theta_2*x^2, etc.\n",
    "    return sum(t * x ** n for (n, t) in enumerate(theta))\n",
    "\n",
    "# compute the data log-likelihood given a model\n",
    "def logL(theta, data, model=polynomial_fit):\n",
    "    \"\"\"Gaussian log-likelihood of the model at theta\"\"\"\n",
    "    x, y, sigma_y = data\n",
    "    y_fit = model(theta, x)\n",
    "    return sum(scipy.stats.norm.logpdf(*args) \n",
    "               for args in zip(y, y_fit, sigma_y))"
   ]
  },
  {
   "cell_type": "markdown",
   "metadata": {},
   "source": [
    "3) Using your 1D gridded likelihood-x-prior, compute the Bayesian evidence of this linear model. This may be a big number!\n",
    "\n",
    "4) Now compute the joint 2D posterior pdf (again just the likelihood x prior) of linear and quadratic coefficients of a quadratic model. Give the linear coefficient a uniform prior between 0.5 and 1.5. Give the quadratic coefficient a uniform prior between -1 and 0.25. Plot this two-dimensional posterior. Remember this is a two-dimensional model because the $y$-intercept is fixed. I advise a grid size of 100 in each model dimension.\n",
    "\n",
    "5) Using your 2D gridded likelihood-x-prior, compute the Bayesian evidence of the quadratic model. \n",
    "\n",
    "6) Calculate the Bayes factor for a linear versus quadratic model. How does this compare/contrast with the BIC model comparison in the lecture? "
   ]
  },
  {
   "cell_type": "markdown",
   "metadata": {},
   "source": [
    "### Solution"
   ]
  },
  {
   "cell_type": "markdown",
   "metadata": {},
   "source": [
    "1."
   ]
  },
  {
   "cell_type": "code",
   "execution_count": 19,
   "metadata": {},
   "outputs": [],
   "source": [
    "# filepath to dataset\n",
    "filepath = '../../homeworks/hw_data/hw4_data_2.npy'\n",
    "\n",
    "# reading in dataset\n",
    "data = np.load(filepath)\n",
    "x, y, sigma_y = data\n",
    "\n",
    "# setting y-intercept as y=-0.23\n",
    "theta0 = -0.23"
   ]
  },
  {
   "cell_type": "markdown",
   "metadata": {},
   "source": [
    "2."
   ]
  },
  {
   "cell_type": "code",
   "execution_count": 20,
   "metadata": {},
   "outputs": [],
   "source": [
    "# creating grid of x values\n",
    "xgrid = np.linspace(0.5, 1.5, 100)\n",
    "dx = xgrid[1]-xgrid[0]\n",
    "\n",
    "# calculating log likely\n",
    "logLikely = np.array([logL([theta0, theta1], data) for theta1 in xgrid])"
   ]
  },
  {
   "cell_type": "code",
   "execution_count": 21,
   "metadata": {},
   "outputs": [
    {
     "data": {
      "image/png": "[encoded data removed]",
      "text/plain": [
       "<Figure size 432x288 with 1 Axes>"
      ]
     },
     "metadata": {
      "needs_background": "light"
     },
     "output_type": "display_data"
    }
   ],
   "source": [
    "# prior already 1. Finding posterior\n",
    "post = np.exp(logLikely)\n",
    "\n",
    "plt.plot(xgrid, post)\n",
    "plt.xlabel(r'$x$')\n",
    "plt.ylabel('posterior pdf (unnormalised)');"
   ]
  },
  {
   "cell_type": "markdown",
   "metadata": {},
   "source": [
    "3."
   ]
  },
  {
   "cell_type": "code",
   "execution_count": 22,
   "metadata": {},
   "outputs": [
    {
     "name": "stdout",
     "output_type": "stream",
     "text": [
      "evidence = 3.66e+08\n"
     ]
    }
   ],
   "source": [
    "# calculating normalisation constant\n",
    "evidence1d = np.trapz(post, xgrid, dx)\n",
    "print(f'evidence = {evidence1d:.2e}')"
   ]
  },
  {
   "cell_type": "markdown",
   "metadata": {},
   "source": [
    "4."
   ]
  },
  {
   "cell_type": "code",
   "execution_count": 23,
   "metadata": {},
   "outputs": [],
   "source": [
    "# creating grid of x values\n",
    "x2grid = np.linspace(-1, 0.25, 100)\n",
    "\n",
    "# calculating log likely\n",
    "logLikely2 = np.array([[logL([theta0, theta1, theta2], data) \n",
    "                           for theta2 in x2grid] for theta1 in xgrid])"
   ]
  },
  {
   "cell_type": "code",
   "execution_count": 24,
   "metadata": {},
   "outputs": [
    {
     "data": {
      "image/png": "[encoded data removed]",
      "text/plain": [
       "<Figure size 720x540 with 2 Axes>"
      ]
     },
     "metadata": {
      "needs_background": "light"
     },
     "output_type": "display_data"
    }
   ],
   "source": [
    "# Plot the results (using code from Lecture 9)\n",
    "prior2d = 1/(1.25)\n",
    "post2d = np.exp(logLikely2)*prior2d\n",
    "\n",
    "fig = plt.figure(figsize=(10, 7.5))\n",
    "con = plt.contourf(xgrid, x2grid, post2d)\n",
    "plt.colorbar(con, label='unnormalised posterior pdf')\n",
    "plt.xlabel('Linear coefficient')\n",
    "plt.ylabel('Quadratic coefficient');"
   ]
  },
  {
   "cell_type": "markdown",
   "metadata": {},
   "source": [
    "5."
   ]
  },
  {
   "cell_type": "code",
   "execution_count": 25,
   "metadata": {},
   "outputs": [
    {
     "name": "stdout",
     "output_type": "stream",
     "text": [
      "Bayesian evidence for quadratic model = 4.90e+08\n"
     ]
    }
   ],
   "source": [
    "# evidence is normalising constant\n",
    "# integrate over 2d array\n",
    "evidence2d = np.trapz(np.trapz(post2d, xgrid, dx), x2grid, x2grid[1]-x2grid[0])\n",
    "\n",
    "print(f'Bayesian evidence for quadratic model = {evidence2d:.2e}')"
   ]
  },
  {
   "cell_type": "markdown",
   "metadata": {},
   "source": [
    "6."
   ]
  },
  {
   "cell_type": "code",
   "execution_count": 26,
   "metadata": {},
   "outputs": [
    {
     "name": "stdout",
     "output_type": "stream",
     "text": [
      "Bayes factor, linear/quadratic = 0.746\n",
      "Quadratic model favoured from Bayesian evidence\n"
     ]
    }
   ],
   "source": [
    "print(f'Bayes factor, linear/quadratic = {evidence1d/evidence2d:.3f}')\n",
    "print(f'Quadratic model favoured from Bayesian evidence')"
   ]
  },
  {
   "cell_type": "markdown",
   "metadata": {},
   "source": [
    "The Bayes factor is a ratio that compares how well two models averaged over all allowed values fit the data. For two models M1 and M2, model M1 is favoured is the ratio between M1 and M2 is greater than 1.\n",
    "\n",
    "The BIC is easier to compute because it only requires the maximum likelihood of the model, rather than integrating the likelihood over all of parameter space. It also takes into account the number of parameters and the number of data points used in each model. The least complicated model is favoured. The best model has the smallest BIC."
   ]
  },
  {
   "cell_type": "markdown",
   "metadata": {},
   "source": [
    "SRT: All correct. But specifically, the model comparison for this analysis performed in the lecture found that the linear was favored. This is because the BIC penalized the quadratic coefficient too much. "
   ]
  },
  {
   "cell_type": "code",
   "execution_count": null,
   "metadata": {},
   "outputs": [],
   "source": []
  }
 ],
 "metadata": {
  "anaconda-cloud": {},
  "kernelspec": {
   "display_name": "Python [conda env:astr8070] *",
   "language": "python",
   "name": "conda-env-astr8070-py"
  },
  "language_info": {
   "codemirror_mode": {
    "name": "ipython",
    "version": 3
   },
   "file_extension": ".py",
   "mimetype": "text/x-python",
   "name": "python",
   "nbconvert_exporter": "python",
   "pygments_lexer": "ipython3",
   "version": "3.8.5"
  }
 },
 "nbformat": 4,
 "nbformat_minor": 2
}
