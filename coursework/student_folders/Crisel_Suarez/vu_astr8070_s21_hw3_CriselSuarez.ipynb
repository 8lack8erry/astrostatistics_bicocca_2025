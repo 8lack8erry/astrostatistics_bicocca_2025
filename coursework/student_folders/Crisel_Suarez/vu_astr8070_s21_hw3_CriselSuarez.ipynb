{
 "cells": [
  {
   "cell_type": "markdown",
   "metadata": {},
   "source": [
    "### ASTR 8070: Astrostatistics\n",
    "***S. R. Taylor***\n",
    "___\n",
    "\n",
    "# Homework 3\n",
    "### Due: Friday, Feb 19th at 11.59pm CST\n",
    "---"
   ]
  },
  {
   "cell_type": "markdown",
   "metadata": {},
   "source": [
    "## Only one problem this week\n",
    "\n",
    "This problem uses a dataset in `/coursework/homeworks/hw_data/`.\n",
    "\n",
    "1) Read in `hw3_data_1.npy`. This is a (50 x 2) numpy array, with measurements in the first column and uncertainties in the second column. Using the analytic results for heteroscedastic Gaussian data from lectures, compute the sample mean and the standard error on the sample mean from for this data.\n",
    "\n",
    "2) Reusing some approaches and tools from `Lecture_6`, write a ln-likelihood function for heteroscedastic Gaussian data, and use it in a fitting algorithm to find the best-fit mean. *Remember that scipy optimizers are set up to minimize functions.*\n",
    "\n",
    "3) Using the same numerical technique from `Lecture_5`, compute the Fisher uncertainty estimate on the mean.\n",
    "\n",
    "4) Using the bootstrap method, generate $1000$ bootstrap realizations of this dataset. *DO NOT use the `astroML` code. Write your own bootstrap function from scratch. Also recall that when resampling data, measurements and uncertainties should stay paired together.*\n",
    "\n",
    "5) Repeat (2) with all $1000$ boostrap datasets to find the distribution of the sample mean. Plot a normalized histogram of these bootstrap means, and overplot a Gaussian pdf with the mean and std found in (1). Do these agree?\n",
    "\n",
    "6) While we have fitted a heteroscedastic Gaussian to this data, let's try something else. Write some code to define a ln-likelihood for a Laplace distribution evaluated on this data. Fit simultaneously for the Laplace location parameter $\\mu$ and scale parameter $\\Delta$.\n",
    "\n",
    "7) Compute the AIC values for the heteroscedastic Gaussian model and the Laplacian model. Which model is favored by the data?\n",
    "\n",
    "8) Using the $1000$ bootstrap datasets from before, fit for the Laplacian $\\mu$ and $\\Delta$ for each. Make a nice `corner` plot of the distributions of $\\mu$ and $\\Delta$ that shows both the marginal $1$D distributions and the joint $2$D distribution. Make sure the plot has labels, shows the titles on each $1$D marginal panel, and has $68\\%$ and $95\\%$ levels.\n",
    "\n",
    "9) Let's finish with a Fisher uncertainty estimate of the Laplacian parameters. Use the following code to install `numdifftools` which provides a simple way to compute derivatives. We can then compute the Hessian matrix, which is the matrix of the second derivatives of the user's function. This should be computed at the best-fit Laplacian parameters $\\mu$ and $\\Delta$. To finish, invert the matrix, and then take the square root. The diagonal entries will then be the Fisher uncertainties on $\\mu$ and $\\Delta$. How does these compare to the bootstrap distribution widths found in (8)?"
   ]
  },
  {
   "cell_type": "code",
   "execution_count": 1,
   "metadata": {},
   "outputs": [],
   "source": [
    "#IMPORTS\n",
    "import numpy as np\n",
    "from matplotlib import pyplot as plt\n",
    "import pandas as pd\n",
    "%matplotlib inline\n",
    "%config InlineBackend.figure_format='retina'\n",
    "\n",
    "import scipy.stats as stats\n",
    "from scipy.stats import norm\n",
    "from scipy.stats import uniform\n",
    "from scipy import optimize\n",
    "from astroML import stats as astroMLstats\n",
    "from scipy.stats import laplace\n",
    "\n",
    "import corner\n"
   ]
  },
  {
   "cell_type": "code",
   "execution_count": 2,
   "metadata": {},
   "outputs": [],
   "source": [
    "filename = '../../homeworks/hw_data/hw3_data_1.npy' \n",
    "data = np.load(filename)\n",
    "#print(len(data))\n",
    "measurments = np.array(data[:,0])\n",
    "uncertainties = np.array(data[:,1])"
   ]
  },
  {
   "cell_type": "markdown",
   "metadata": {},
   "source": [
    "1) Read in hw3_data_1.npy. This is a (50 x 2) numpy array, with measurements in the first column and uncertainties in the second column. Using the analytic results for heteroscedastic Gaussian data from lectures, compute the sample mean and the standard error on the sample mean from for this data."
   ]
  },
  {
   "cell_type": "markdown",
   "metadata": {},
   "source": [
    "From Lecture 5: \n",
    "$$\\hat \\mu = \\frac{\\sum_i^N (x_i/\\sigma_i^2)}{\\sum_i^N (1/\\sigma_i^2)},$$\n",
    "\n",
    "with uncertainty\n",
    "$$\\sigma_{\\mu} = \\left( \\sum_{i=1}^N \\frac{1}{\\sigma_i^2}\\right)^{-1/2}.$$\n"
   ]
  },
  {
   "cell_type": "code",
   "execution_count": 3,
   "metadata": {},
   "outputs": [
    {
     "name": "stdout",
     "output_type": "stream",
     "text": [
      "The sample mean is : 3.92\n",
      "The standard error of the sample mean is : 0.09\n"
     ]
    }
   ],
   "source": [
    "#Sample Mean is  sample arithmetic mean of all the measurements.\n",
    "#Std_error on the sample mean is sigma_mu = \\sum_{i=1}^N (1/sigma_i^2)^(-1/2\n",
    "\n",
    "sample_mean= np.sum(measurments/uncertainties**2)/np.sum(1/uncertainties**2)\n",
    "std_error_mean = 1/np.sqrt(np.sum(1/(uncertainties**2)))\n",
    "\n",
    "print('The sample mean is : {:.2f}'.format(sample_mean))\n",
    "print('The standard error of the sample mean is : {:.2f}'.format(std_error_mean))\n"
   ]
  },
  {
   "cell_type": "markdown",
   "metadata": {},
   "source": [
    "2) Reusing some approaches and tools from Lecture_6, write a ln-likelihood function for heteroscedastic Gaussian data, and use it in a fitting algorithm to find the best-fit mean. Remember that scipy optimizers are set up to minimize functions."
   ]
  },
  {
   "cell_type": "markdown",
   "metadata": {},
   "source": [
    "$$\\ln L = {\\rm constant} - \\sum_{i=1}^N \\frac{(x_i - \\mu)^2}{2\\sigma_i^2}.$$"
   ]
  },
  {
   "cell_type": "code",
   "execution_count": 6,
   "metadata": {},
   "outputs": [
    {
     "name": "stdout",
     "output_type": "stream",
     "text": [
      "Optimization terminated successfully.\n",
      "         Current function value: 0.000008\n",
      "         Iterations: 18\n",
      "         Function evaluations: 36\n",
      "\n",
      "Best-fit mean : 3.95\n"
     ]
    }
   ],
   "source": [
    "#Function calculating ln likelihood function for heteroscedastic Gaussian \n",
    "#Using scipy.optimize to find best fit mean \n",
    "\n",
    "def lnL_func(mu,x,sigma):\n",
    "    mu_hat = np.sum((x-mu)/2*sigma)**2\n",
    "    return mu_hat\n",
    "\n",
    "f_lnL = lambda mu : lnL_func(mu,x=measurments, sigma=uncertainties)\n",
    "\n",
    "mu_guess = 2.0\n",
    "mu_fit = optimize.fmin(f_lnL, mu_guess)\n",
    "print('')\n",
    "print('Best-fit mean : {:.2f}'.format(mu_fit[0]))\n"
   ]
  },
  {
   "cell_type": "markdown",
   "metadata": {},
   "source": [
    "SRT: Very close to the right answer, Crisel. The only error is the factor of `/2*sigma` which should be `/(2*sigma)`. The order of operations is not being interpreted correctly by python. -2"
   ]
  },
  {
   "cell_type": "markdown",
   "metadata": {},
   "source": [
    "3) Using the same numerical technique from Lecture_5, compute the Fisher uncertainty estimate on the mean."
   ]
  },
  {
   "cell_type": "markdown",
   "metadata": {},
   "source": [
    "$$\\sigma_{\\mu} = \\left( - \\frac{d^2\\ln L(\\mu)}{d\\mu^2}\\Biggr\\rvert_{\\hat \\mu}\\right)^{-1/2}$$\n",
    "\n",
    "We find\n",
    "\n",
    "$$\\frac{d^2\\ln L(\\mu)}{d\\mu^2}\\Biggr\\rvert_{\\hat \\mu} = - \\sum_{i=1}^N\\frac{1}{\\sigma^2} = -\\frac{N}{\\sigma^2},$$\n",
    "\n",
    "since, again, $\\sigma = {\\rm constant}$.  \n",
    "\n",
    "Then \n",
    "\n",
    "$$\\sigma_{\\mu} = \\frac{\\sigma}{\\sqrt{N}}.$$"
   ]
  },
  {
   "cell_type": "markdown",
   "metadata": {},
   "source": [
    "A -  do a rough $2^\\mathrm{nd}$ order differentation of our log-likelihood function with `np.diff`,\n",
    "\n",
    "B - divide through by our $\\Delta \\theta^2$ to get the correct normalization, \n",
    "\n",
    "C -  multiply by $-1$, \n",
    "\n",
    "D - then take the square root."
   ]
  },
  {
   "cell_type": "code",
   "execution_count": 7,
   "metadata": {},
   "outputs": [
    {
     "name": "stdout",
     "output_type": "stream",
     "text": [
      "Fisher Matrix Error is   :  0.09481084100511059\n"
     ]
    }
   ],
   "source": [
    "#proposed mu\n",
    "mu_grid = np.linspace(1,10,100)\n",
    "\n",
    "likelihoods = np.array([])\n",
    "temp = np.array([])\n",
    "for ii in range(len(mu_grid)):\n",
    "    mu = mu_grid[ii]\n",
    "    L = norm.logpdf(measurments, mu, uncertainties)\n",
    "    L = np.sum(L)\n",
    "    likelihoods= np.append(likelihoods, L)\n",
    "    \n",
    "    #Not sure why this code does not work instead of using the logpdf\n",
    "   # temp = np.array([])\n",
    "   # for iii in range(len(measurments)):\n",
    "    #    lkhood = lnL_func(mu_grid[ii],measurments[iii],uncertainties[iii])\n",
    "     #   temp = np.append(temp, lkhood)\n",
    "   # L = np.prod(temp)\n",
    "   # likelihoods= np.append(likelihoods, L)\n",
    "\n",
    "\n",
    "#A\n",
    "sigma_mu = np.diff((likelihoods), n=2)\n",
    "\n",
    "#B\n",
    "sigma_mu /= (mu_grid[1]-mu_grid[0])**2\n",
    "\n",
    "#C vals already positive\n",
    "sigma_mu *= -1\n",
    "\n",
    "#D\n",
    "sigma_mu = 1/np.sqrt(sigma_mu)[0]\n",
    "print('Fisher Matrix Error is   : ', sigma_mu)\n",
    "\n"
   ]
  },
  {
   "cell_type": "markdown",
   "metadata": {},
   "source": [
    "4) Using the bootstrap method, generate  1000  bootstrap realizations of this dataset. DO NOT use the astroML code. Write your own bootstrap function from scratch. Also recall that when resampling data, measurements and uncertainties should stay paired together."
   ]
  },
  {
   "cell_type": "code",
   "execution_count": 8,
   "metadata": {},
   "outputs": [
    {
     "name": "stdout",
     "output_type": "stream",
     "text": [
      "100\n"
     ]
    },
    {
     "data": {
      "text/plain": [
       "(array([0.02831277, 0.07078192, 0.05662554, 0.25481493, 0.24065854,\n",
       "        0.43884793, 0.24065854, 0.01415638, 0.02831277, 0.04246915]),\n",
       " array([0.41036839, 1.11676343, 1.82315846, 2.5295535 , 3.23594854,\n",
       "        3.94234358, 4.64873862, 5.35513365, 6.06152869, 6.76792373,\n",
       "        7.47431877]),\n",
       " <BarContainer object of 10 artists>)"
      ]
     },
     "execution_count": 8,
     "metadata": {},
     "output_type": "execute_result"
    },
    {
     "data": {
      "image/png": "[encoded data removed]",
      "text/plain": [
       "<Figure size 432x288 with 1 Axes>"
      ]
     },
     "metadata": {
      "image/png": {
       "height": 248,
       "width": 372
      },
      "needs_background": "light"
     },
     "output_type": "display_data"
    }
   ],
   "source": [
    "bootstraps = 1000\n",
    "resample = 100 \n",
    "\n",
    "#creates fake data/bootstraps data \n",
    "\n",
    "def bootstrap1(mu_data,sigma_data):\n",
    "    samples=np.zeros(shape=(bootstraps,resample,2))\n",
    "    for i in range(bootstraps):\n",
    "        all_data=np.arange(resample) \n",
    "        replace_ind=np.random.randint(100,size=100)\n",
    "        sample_measurment = mu_data[replace_ind]\n",
    "        sample_uncenrt = sigma_data[replace_ind]\n",
    "        samples[i,:,0]=sample_measurment\n",
    "        samples[i,:,1]=sample_uncenrt\n",
    "    return samples\n",
    "\n",
    "\n",
    "#1000 arrays of fake measurments and uncertainties\n",
    "realizations = bootstrap1(measurments,uncertainties) \n",
    "print(len(realizations[0]))\n",
    "plt.hist(realizations[0][:,0],density=True)\n",
    "\n",
    "\n",
    "\n"
   ]
  },
  {
   "cell_type": "markdown",
   "metadata": {},
   "source": [
    "5) Repeat (2) with all  1000  boostrap datasets to find the distribution of the sample mean. Plot a normalized histogram of these bootstrap means, and overplot a Gaussian pdf with the mean and std found in (1). Do these agree?"
   ]
  },
  {
   "cell_type": "code",
   "execution_count": 11,
   "metadata": {},
   "outputs": [],
   "source": [
    "bootstrap_dts = 1000\n",
    "mu_guess2= 3.0 \n",
    "\n",
    "def lnL_func2(mu,x,sigma):\n",
    "    mu_hat = np.sum((x-mu)/(2*sigma))**2\n",
    "    return mu_hat\n",
    "\n",
    "\n",
    "mu_op_boot_array = np.array([])\n",
    "for j in range(bootstrap_dts):\n",
    "    f_lnL_2 = lambda mu2 : lnL_func2(mu2, x=realizations[j,:,0], sigma=realizations[j,:,1])\n",
    "    mu_op_boot = optimize.fmin(f_lnL_2, mu_guess2, disp= False)[0]# , args=(realizations[0][:,0][j], realizations[0][:,1][j]))\n",
    "    mu_op_boot_array = np.append(mu_op_boot_array,mu_op_boot)\n",
    "    \n",
    "#print((mu_op_boot_array)) #100\n",
    "\n"
   ]
  },
  {
   "cell_type": "code",
   "execution_count": 12,
   "metadata": {},
   "outputs": [
    {
     "data": {
      "text/plain": [
       "<matplotlib.legend.Legend at 0x7ff47e5fa760>"
      ]
     },
     "execution_count": 12,
     "metadata": {},
     "output_type": "execute_result"
    },
    {
     "data": {
      "image/png": "[encoded data removed]",
      "text/plain": [
       "<Figure size 432x288 with 1 Axes>"
      ]
     },
     "metadata": {
      "image/png": {
       "height": 261,
       "width": 383
      },
      "needs_background": "light"
     },
     "output_type": "display_data"
    }
   ],
   "source": [
    "#From 1 \n",
    "sample_mean= np.sum(measurments/uncertainties**2)/np.sum(1/uncertainties**2)\n",
    "std_error_mean = 1/np.sqrt(np.sum(1/(uncertainties**2)))\n",
    "\n",
    "distG = stats.norm(sample_mean,std_error_mean)\n",
    "xgrid_G = np.linspace(2,5, 1000)\n",
    "distG_pdf = distG.pdf(xgrid_G)\n",
    "\n",
    "\n",
    "plt.hist(mu_op_boot_array, bins = 20, density=True, label=r\"Bootstrap $\\mu$'\")\n",
    "plt.plot(xgrid_G,distG_pdf, label = 'Gaussian')\n",
    "plt.xlim([3,5])\n",
    "\n",
    "plt.xlabel('$\\mu$')\n",
    "plt.legend(loc='upper right')"
   ]
  },
  {
   "cell_type": "code",
   "execution_count": 9,
   "metadata": {},
   "outputs": [
    {
     "name": "stdout",
     "output_type": "stream",
     "text": [
      "The histogram and gaussian agree. However the bootstrap method seems to be lower than the gaussian\n"
     ]
    }
   ],
   "source": [
    "print('The histogram and gaussian agree. However the bootstrap method seems to be lower than the gaussian')\n",
    "\n"
   ]
  },
  {
   "cell_type": "markdown",
   "metadata": {},
   "source": [
    "SRT: I correct your code above (it was order of operations again), and otherwise your code gives the right answers."
   ]
  },
  {
   "cell_type": "markdown",
   "metadata": {},
   "source": [
    "6) While we have fitted a heteroscedastic Gaussian to this data, let's try something else. Write some code to define a ln-likelihood for a Laplace distribution evaluated on this data. Fit simultaneously for the Laplace location parameter  𝜇  and scale parameter  Δ ."
   ]
  },
  {
   "cell_type": "markdown",
   "metadata": {},
   "source": [
    "$$ Laplace = \\frac{1}{2\\Delta} \\exp{(-|x-\\mu|/\\Delta)}$$"
   ]
  },
  {
   "cell_type": "code",
   "execution_count": 15,
   "metadata": {},
   "outputs": [
    {
     "name": "stdout",
     "output_type": "stream",
     "text": [
      "Optimization terminated successfully.\n",
      "         Current function value: 156.788916\n",
      "         Iterations: 58\n",
      "         Function evaluations: 112\n",
      "\n",
      "\n",
      "The likelihood for mu is:  4.087802636479353  and delta :  0.8822692336474294\n"
     ]
    }
   ],
   "source": [
    "#Laplace PDF  = 1/2(delta) exp(-|x-mu|/delta) \n",
    "\n",
    "\n",
    "def laplacian(x, mu, delta):\n",
    "    pdf = 1 / (2*delta) * np.exp(-(np.absolute(x - mu)) / delta)    \n",
    "    return -np.log(np.prod(pdf))\n",
    "\n",
    "likelihood_lap =  lambda beta : laplacian(x= measurments, mu=beta[0], delta=beta[1])\n",
    "\n",
    "beta_guess= [2,2]\n",
    "\n",
    "opt_lk_lap = optimize.fmin(likelihood_lap, beta_guess)\n",
    "\n",
    "print('')\n",
    "print('')\n",
    "print('The likelihood for mu is: ' , opt_lk_lap[0], ' and delta : ', opt_lk_lap[1] )\n",
    "\n"
   ]
  },
  {
   "cell_type": "markdown",
   "metadata": {},
   "source": [
    "7) Compute the AIC values for the heteroscedastic Gaussian model and the Laplacian model. Which model is favored by the data?"
   ]
  },
  {
   "cell_type": "markdown",
   "metadata": {},
   "source": [
    "**Akaike Information Criterion** (AIC):\n",
    "\n",
    "$$ \\mathrm{AIC}_M \\equiv -2\\ln[L^0(M)] + 2k + \\frac{2k(k+1)}{N-k-1}, $$\n",
    "\n",
    "$$L^0(M) max likelihood$$\n",
    "$$k # parameters $$\n",
    "$$N number data $$"
   ]
  },
  {
   "cell_type": "code",
   "execution_count": 11,
   "metadata": {},
   "outputs": [],
   "source": [
    "xgrid = np.linspace(0,10,100)\n",
    "\n",
    "#Distributions\n",
    "distG2 = stats.norm(sample_mean, std_error_mean)\n",
    "laplace_dist = stats.laplace(opt_lk_lap[0],opt_lk_lap[1])\n",
    "\n",
    "#Prob Density\n",
    "distG_pdf = distG2.pdf(xgrid)\n",
    "laplace_pdf = laplace_dist.pdf(xgrid)\n",
    "\n",
    "sorted_indices_G = np.argsort(distG_pdf)\n",
    "sorted_indices_L = np.argsort(laplace_pdf)\n",
    "index_max_G = sorted_indices_G[-1]\n",
    "index_max_L = sorted_indices_L[-1]\n",
    "\n",
    "max_Gauss = distG_pdf[index_max_G]\n",
    "max_Lap = laplace_pdf[index_max_L]"
   ]
  },
  {
   "cell_type": "code",
   "execution_count": 12,
   "metadata": {},
   "outputs": [
    {
     "name": "stdout",
     "output_type": "stream",
     "text": [
      "The AIC value for a Gaussian is :  -0.7820944056910353\n",
      "The AIC value for a Laplacian is. :  5.366936680462647\n",
      "The Gaussian is model is favored to the data\n"
     ]
    }
   ],
   "source": [
    "def AIC(L_0, k, N):\n",
    "    AIC = -2 *np.log(L_0) + 2 *k + (2*k*(k+1))/(N-k-1)\n",
    "    return AIC\n",
    "\n",
    "aic_gauss = AIC(max_Gauss, 1, 100)\n",
    "aic_lap = AIC(max_Lap, 2, 100)\n",
    "\n",
    "print('The AIC value for a Gaussian is : ', aic_gauss)\n",
    "print('The AIC value for a Laplacian is. : ' , aic_lap)\n",
    "print('The Gaussian is model is favored to the data')"
   ]
  },
  {
   "cell_type": "markdown",
   "metadata": {},
   "source": [
    "SRT: Your AIC implementation is correct, but the log-likelihood calculation is not. Instead of creating laplace and gauss objects above (which don't seem to know about the data) all you had to do was compute the log-likelihood form your laplace and gauss functions in previous parts of the question. -3"
   ]
  },
  {
   "cell_type": "markdown",
   "metadata": {},
   "source": [
    "8) Using the  1000  bootstrap datasets from before, fit for the Laplacian  𝜇  and  Δ  for each. Make a nice corner plot of the distributions of  𝜇  and  Δ  that shows both the marginal  1 D distributions and the joint  2 D distribution. Make sure the plot has labels, shows the titles on each  1 D marginal panel, and has  68%  and  95%  levels.\n"
   ]
  },
  {
   "cell_type": "code",
   "execution_count": 13,
   "metadata": {},
   "outputs": [
    {
     "name": "stdout",
     "output_type": "stream",
     "text": [
      "Requirement already satisfied: corner in /Users/csuarez/opt/anaconda3/envs/sun2/lib/python3.7/site-packages (2.1.0)\n",
      "Requirement already satisfied: setuptools>=40.6.0 in /Users/csuarez/opt/anaconda3/envs/sun2/lib/python3.7/site-packages (from corner) (49.6.0.post20201009)\n",
      "Requirement already satisfied: wheel in /Users/csuarez/opt/anaconda3/envs/sun2/lib/python3.7/site-packages (from corner) (0.35.1)\n",
      "Requirement already satisfied: setuptools-scm in /Users/csuarez/opt/anaconda3/envs/sun2/lib/python3.7/site-packages (from corner) (5.0.1)\n",
      "Requirement already satisfied: matplotlib>=2.1 in /Users/csuarez/opt/anaconda3/envs/sun2/lib/python3.7/site-packages (from corner) (3.3.3)\n",
      "Requirement already satisfied: kiwisolver>=1.0.1 in /Users/csuarez/opt/anaconda3/envs/sun2/lib/python3.7/site-packages (from matplotlib>=2.1->corner) (1.3.1)\n",
      "Requirement already satisfied: cycler>=0.10 in /Users/csuarez/opt/anaconda3/envs/sun2/lib/python3.7/site-packages (from matplotlib>=2.1->corner) (0.10.0)\n",
      "Requirement already satisfied: numpy>=1.15 in /Users/csuarez/opt/anaconda3/envs/sun2/lib/python3.7/site-packages (from matplotlib>=2.1->corner) (1.19.4)\n",
      "Requirement already satisfied: python-dateutil>=2.1 in /Users/csuarez/opt/anaconda3/envs/sun2/lib/python3.7/site-packages (from matplotlib>=2.1->corner) (2.8.1)\n",
      "Requirement already satisfied: pillow>=6.2.0 in /Users/csuarez/opt/anaconda3/envs/sun2/lib/python3.7/site-packages (from matplotlib>=2.1->corner) (8.0.1)\n",
      "Requirement already satisfied: pyparsing!=2.0.4,!=2.1.2,!=2.1.6,>=2.0.3 in /Users/csuarez/opt/anaconda3/envs/sun2/lib/python3.7/site-packages (from matplotlib>=2.1->corner) (2.4.7)\n",
      "Requirement already satisfied: six in /Users/csuarez/opt/anaconda3/envs/sun2/lib/python3.7/site-packages (from cycler>=0.10->matplotlib>=2.1->corner) (1.15.0)\n"
     ]
    }
   ],
   "source": [
    "#Not sure if it got disintsalled in my enviroment but I was not able to import it at first \n",
    "!pip install corner "
   ]
  },
  {
   "cell_type": "code",
   "execution_count": 16,
   "metadata": {},
   "outputs": [
    {
     "data": {
      "image/png": "[encoded data removed]",
      "text/plain": [
       "<Figure size 396x396 with 4 Axes>"
      ]
     },
     "metadata": {
      "image/png": {
       "height": 352,
       "width": 336
      },
      "needs_background": "light"
     },
     "output_type": "display_data"
    }
   ],
   "source": [
    "import corner \n",
    "\n",
    "lap_x = np.array([])\n",
    "lap_delta = np.array([])\n",
    "\n",
    "for jj in range((1000)): \n",
    "    lap_lkh = lambda beta3 : laplacian(x = realizations[jj,:,0], mu = beta3[0], delta = beta3[1])\n",
    "    lap_guess = [3,1]\n",
    "    max_lk_lap = optimize.fmin(lap_lkh, lap_guess, disp=False)\n",
    "    \n",
    "    lap_x = np.append(lap_x, max_lk_lap[0])\n",
    "    lap_delta = np.append(lap_delta, max_lk_lap[1])\n",
    "\n",
    "\n",
    "laplacian_array = np.ones(shape =(1000,2))\n",
    "laplacian_array[:,0] = lap_x\n",
    "laplacian_array[:,1] = lap_delta\n",
    "\n",
    "#len(laplacian_array[0])\n",
    "fig = corner.corner(laplacian_array, bins =10, quantiles=(0.16, 0.84),\n",
    "                    levels=(0.16,0.84), label = ['$\\mu$', '$\\Delta$'],\n",
    "                    show_titles=True)\n",
    "\n",
    "    \n",
    "    \n",
    "    "
   ]
  },
  {
   "cell_type": "code",
   "execution_count": 17,
   "metadata": {},
   "outputs": [
    {
     "name": "stdout",
     "output_type": "stream",
     "text": [
      "Lapalacain values seem to match to the likelihood for mu  (4.08 vs 4.09  and)  and  delta (0.88 vs 0.79)\n",
      "However, the delta plot looks very binomail so I am not super sure if it is correct\n",
      "\n",
      "Nevermind, I chose different guesses (3,1) and now the laplacian values and likelihood match now, before I had [0,1] and the delta distribution looked binomial-ish \n"
     ]
    }
   ],
   "source": [
    "print('Lapalacain values seem to match to the likelihood for mu  (4.08 vs 4.09  and)  and  delta (0.88 vs 0.79)')\n",
    "\n",
    "print('However, the delta plot looks very binomail so I am not super sure if it is correct')\n",
    "print('')\n",
    "print('Nevermind, I chose different guesses (3,1) and now the laplacian values and likelihood match now, before I had [0,1] and the delta distribution looked binomial-ish ')\n",
    "\n"
   ]
  },
  {
   "cell_type": "markdown",
   "metadata": {},
   "source": [
    "9) Let's finish with a Fisher uncertainty estimate of the Laplacian parameters. Use the following code to install numdifftools which provides a simple way to compute derivatives. We can then compute the Hessian matrix, which is the matrix of the second derivatives of the user's function. This should be computed at the best-fit Laplacian parameters  𝜇  and  Δ . To finish, invert the matrix, and then take the square root. The diagonal entries will then be the Fisher uncertainties on  𝜇  and  Δ . How does these compare to the bootstrap distribution widths found in (8)?"
   ]
  },
  {
   "cell_type": "code",
   "execution_count": 18,
   "metadata": {},
   "outputs": [
    {
     "name": "stdout",
     "output_type": "stream",
     "text": [
      "[[0.09781036 0.01729597]\n",
      " [0.01729597 0.07925804]]\n",
      "Mu Uncertainties :  0.095 vs  0.10\n",
      "Delta Uncertainties : 0.07317747259414643  vs 0.08\n",
      "the diagonals match with the mu and delta found before\n"
     ]
    },
    {
     "name": "stderr",
     "output_type": "stream",
     "text": [
      "<ipython-input-15-13f63885c7bb>:6: RuntimeWarning: divide by zero encountered in log\n",
      "  return -np.log(np.prod(pdf))\n",
      "/Users/taylosr8/miniconda3/envs/astr8070/lib/python3.8/site-packages/numdifftools/core.py:896: RuntimeWarning: invalid value encountered in double_scalars\n",
      "  hess[i, j] = (f(x + ee[i, :] + ee[j, :])\n"
     ]
    }
   ],
   "source": [
    "import numdifftools as nd\n",
    "\n",
    "H = nd.Hessian(lap_lkh)([max_lk_lap[0], max_lk_lap[1]])\n",
    "sigma_laplace = np.linalg.inv(H)**0.5\n",
    "\n",
    "print(sigma_laplace)\n",
    "print('Mu Uncertainties :  0.095 vs  0.10') #higher val fisher\n",
    "\n",
    "std_delta = np.std(laplacian_array[:,1])\n",
    "print('Delta Uncertainties :' ,std_delta, ' vs 0.08' ) #higher val fisher \n",
    "\n",
    "print('the diagonals match with the mu and delta found before')"
   ]
  },
  {
   "cell_type": "code",
   "execution_count": 17,
   "metadata": {},
   "outputs": [
    {
     "name": "stdout",
     "output_type": "stream",
     "text": [
      "Requirement already satisfied: numdifftools in /Users/csuarez/opt/anaconda3/envs/sun2/lib/python3.7/site-packages (0.9.39)\r\n"
     ]
    }
   ],
   "source": [
    "!pip install numdifftools"
   ]
  },
  {
   "cell_type": "markdown",
   "metadata": {},
   "source": [
    "SRT: Nice. This is the correct answer. I ran it again, and got a slightly different answer than you. There is always some randomness in numerical fitting."
   ]
  },
  {
   "cell_type": "code",
   "execution_count": null,
   "metadata": {},
   "outputs": [],
   "source": []
  }
 ],
 "metadata": {
  "anaconda-cloud": {},
  "kernelspec": {
   "display_name": "Python [conda env:astr8070] *",
   "language": "python",
   "name": "conda-env-astr8070-py"
  },
  "language_info": {
   "codemirror_mode": {
    "name": "ipython",
    "version": 3
   },
   "file_extension": ".py",
   "mimetype": "text/x-python",
   "name": "python",
   "nbconvert_exporter": "python",
   "pygments_lexer": "ipython3",
   "version": "3.8.5"
  }
 },
 "nbformat": 4,
 "nbformat_minor": 2
}
