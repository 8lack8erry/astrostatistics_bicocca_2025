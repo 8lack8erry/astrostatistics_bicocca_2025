{
 "cells": [
  {
   "cell_type": "markdown",
   "metadata": {},
   "source": [
    "# Astrostatistics\n",
    "\n",
    "**Davide Gerosa (University of Milano-Bicocca and INFN)**\n",
    "\n",
    "* Astrostatistics *(Noun)* The application of statistics to the study and analysis of astronomical or astrophysical data*\n",
    "\n",
    "This course is based on previous work by many people. See [here]((https://github.com/dgerosa/astrostatistics_bicocca_2022/blob/main/README.md) for credits.\n"
   ]
  },
  {
   "cell_type": "markdown",
   "metadata": {},
   "source": [
    "# Introduction"
   ]
  },
  {
   "cell_type": "markdown",
   "metadata": {},
   "source": [
    "![](https://mms.businesswire.com/media/20210929005835/en/911394/5/data-never-sleeps-9.0-1200px.jpg?download=1)"
   ]
  },
  {
   "cell_type": "markdown",
   "metadata": {
    "collapsed": true,
    "slideshow": {
     "slide_type": "slide"
    }
   },
   "source": [
    "The amount of raw information that is being generated every minute is extraordinary. And astronomy is no exception! Weither for **\"big data\"** or **\"small data\"**, a proper statistical treatment that accounts for statistical and systematic noise, as well as as signal dependencies on the measured output, is an essential piece to discovery. \n",
    "\n",
    "---\n",
    "\n",
    "What kinds of things can we learn from data, and how do we do it? \n",
    "\n",
    "*What* we can learn is really dependent on your goal, but this must align with the information content of the data. *How* we can interact with data is what **Data Mining** and **Machine Learning** are all about.\n",
    "\n",
    "* **Data mining** is exactly what it sounds like: sifting through piles of data in order to find something useful---like digging rock from the ground and extracting metal ores from it. It is sometimes called \"knowledge discovery\", since the emphasis is on techniques and attempts to find patterns in structured data.\n",
    "* **Machine learning** is about how to do this using computers to leverage our ability to extract useful information from the data by statistically comparing data to various models. The techniques are sometimes called \"statistical inference\", encompassing regression and model selection. \n",
    "\n",
    "---"
   ]
  },
  {
   "cell_type": "markdown",
   "metadata": {
    "slideshow": {
     "slide_type": "slide"
    }
   },
   "source": [
    "Who does data mining and uses machine learning?  About everyone and for about everything. Some examples from the real world (but there are so many!):\n",
    "\n",
    "- Amazon to predict things that you might buy or ads that you might like, https://phys.org/news/2019-06-amazon-tracking.html\n",
    "- Google for everything I guess, but hers about self-driving cars: http://dataconomy.com/how-data-science-is-driving-the-driverless-car/\n",
    "- Netflix to predict what shows you are likely to want to watch: https://en.wikipedia.org/wiki/Netflix_Prize, https://www.wired.co.uk/article/how-do-netflixs-algorithms-work-machine-learning-helps-to-predict-what-viewers-will-like\n",
    "- Insurance companies to predict how much of a risk it is to insure you\n",
    "- Financial institutions to predict the future prices of their investments\n",
    "- Election prognosticators, e.g., http://fivethirtyeight.com/\n",
    "- Sports teams e.g., https://en.wikipedia.org/wiki/Moneyball\n",
    "\n",
    "\n",
    "And, of course, **physicists and astronomers to study the world around us!**\n"
   ]
  },
  {
   "cell_type": "markdown",
   "metadata": {
    "slideshow": {
     "slide_type": "slide"
    }
   },
   "source": [
    "---\n",
    "\n",
    "### What is this class?\n",
    "\n",
    "* An introduction to *practical* statistical inference and data analysis.\n",
    "* *Practical*: This is important! One does not understand how to treat scientific data by reading equations on the blackboard: you will need to get your hands dirty (and this is the fun part!).\n",
    "* While skewed towards astrophysics, many of the techniques we will look at are general."
   ]
  },
  {
   "cell_type": "markdown",
   "metadata": {
    "slideshow": {
     "slide_type": "slide"
    }
   },
   "source": [
    "### Why this class?\n",
    "\n",
    "We're first of all astrophysics, not data scientists or statisticians. **Having some knowledge of statistical inference, machine learning, and data mining is *absolutely essential* in today's modern astrophysics research.** There's no way around it, I think.\n",
    "\n",
    "This figure from *drewconway.com* nicely illustrates the goal here. \n",
    "- You've had many of the green classes already (calculus, advanced maths methods)\n",
    "- You're into an entire degree of blue classes (astrophysics in this case)\n",
    "- And perhaps like to play with the red things as well (an hacking project you want to share?)\n",
    "\n",
    "This class is an attempt to put everything together and go as close to the middle as possible.\n",
    "\n",
    "![http://static1.squarespace.com/static/5150aec6e4b0e340ec52710a/t/51525c33e4b0b3e0d10f77ab/1364352052403/Data_Science_VD.png?format=750w](http://static1.squarespace.com/static/5150aec6e4b0e340ec52710a/t/51525c33e4b0b3e0d10f77ab/1364352052403/Data_Science_VD.png?format=750w)"
   ]
  },
  {
   "cell_type": "markdown",
   "metadata": {
    "slideshow": {
     "slide_type": "slide"
    }
   },
   "source": [
    "---\n",
    "\n",
    "### My research interests\n",
    "\n",
    "My own interest in the topic stems from my scientific research in **gravitational-wave astronomy** and **black-hole binary dynamics**. The current experiments are [LIGO](https://www.ligo.caltech.edu/) and [Virgo](https://www.virgo-gw.eu/), soon to be joined in the future by the space-borne [LISA](https://lisa.nasa.gov/) detector. Some of you are going to have a full class on gravitational-wave astronomy! These instruments extract detailed information about GW-emitting systems from **signals buried deep, deep within noise**. The techniques required to do this are at the forefront of data-based inferece, relying heavily on **Bayesian statistics**. \n",
    "\n",
    "Gravitational-wave data exploitation is in a particularly exciting phase now, bordering between the small data and the big data regime"
   ]
  },
  {
   "cell_type": "markdown",
   "metadata": {},
   "source": [
    "![](https://journals.aps.org/prd/article/10.1103/PhysRevD.100.064060/figures/4/medium)\n",
    "\n",
    "Figure from: *Gravitational-wave detection rates for compact binaries formed in isolation: LIGO/Virgo O3 and beyond*,  Baibhav, Berti, **Gerosa** et al. Physical Review D 100 (2019) 064060."
   ]
  },
  {
   "cell_type": "markdown",
   "metadata": {},
   "source": [
    "![](https://journals.aps.org/prd/article/10.1103/PhysRevD.98.083017/figures/9/medium)\n",
    "\n",
    "Figure from: *Mining Gravitational-wave Catalogs To Understand Binary Stellar Evolution: A New Hierarchical Bayesian Framework*,  Taylor, **Gerosa** et al. Physical Review D 98 (2018) 083017."
   ]
  },
  {
   "cell_type": "markdown",
   "metadata": {},
   "source": [
    "![](https://journals.aps.org/prd/article/10.1103/PhysRevD.102.103020/figures/2/medium)\n",
    "\n",
    "Figure from: *Gravitational-wave selection effects using neural-network classifiers*, **Gerosa**, Pratten, Vecchio. Physical Review D 102 (2020) 103020. "
   ]
  },
  {
   "cell_type": "markdown",
   "metadata": {},
   "source": [
    "![](https://journals.aps.org/prd/article/10.1103/PhysRevD.104.044065/figures/9/medium)\n",
    "\n",
    "Figure from: *Bayesian parameter estimation of stellar-mass black-hole binaries with LISA*, **Buschiccio** et al. (incl. **Gerosa**). Physical Review D 104 (2021) 044065.  \n"
   ]
  },
  {
   "cell_type": "markdown",
   "metadata": {},
   "source": [
    "This is a bit what I do, but there is so much more in astrostatistics!\n",
    "\n",
    "There is a new generation of astronomical sky surveys like the [Legacy Survey of Space and Time (LSST)](https://www.lsst.org/) of the Vera Rubin Observatory. LSST is a project that is going to generate about **200 PB** of data (that's 200 million GB) by the end of its 10 year mission.  During that time, it will have measured a hundred or more properties for some 40 billion objects---*every 3 nights*.   \n",
    "\n",
    "\n",
    "Moving to future experiments, the [Square Kilometre Array](https://www.skatelescope.org/) will be the premier radio observatory of the late 2020s and 2030s, consisting of ~3000 dishes, each 15 meters wide, and spread over South Africa and Australia. In a single day, it will generate raw data amounting to an ***exobyte***, which is more than the entire current daily internet traffic.\n",
    "\n",
    "Even that is small potatoes for particle physicists. In particle physics, they throw away *most* of their data because there is so much.  Instead they have the notion of a *trigger*, which is basically as series of \"if-then\" statements that decide whether or not an \"event\" is worth saving (for future analsyis) or not.\n",
    "\n",
    "---"
   ]
  },
  {
   "cell_type": "markdown",
   "metadata": {
    "collapsed": true,
    "slideshow": {
     "slide_type": "slide"
    }
   },
   "source": [
    "### Broadly speaking...\n",
    "\n",
    "\n",
    "Almost everything that we will do can be categorized into one of two different pairs of things.\n",
    "\n",
    "- **Supervised learning** vs. **unsupervised learning**\n",
    "  - It's the learning algorithm that is being supervised, not you :-)\n",
    "  - Unsupervised learning is associated with data mining and knowledge discovery. It is exploratory data analysis, learning qualitative features of structured/labeled data that were not previously known.  \n",
    "  - Supervised learning is associated with machine learning and statistical inference. We might know the \"truth\" for (some) of the data that we are analyzing, which is \"supervising\" and guiding the learning process. We might have a physical model (or models) for the phenomenon against which we are fitting data, or using the data to selecting between physical models. \n",
    "  \n",
    "\n",
    "- **Classification** vs. **Regression**\n",
    "  - Classification means that we are trying to put our data into different discrete categories, e.g. **model selection**.\n",
    "  - Regression is the limit where the classification \"bins\" become continuous, e.g. **parameter estimation**.\n",
    "\n",
    "![](https://www.researchgate.net/profile/Yves-Matanga/publication/326175998/figure/fig9/AS:644582983352328@1530691967314/Classification-vs-Regression.png)\n",
    "(Figure from Matanga 2017)  \n",
    " \n",
    "\n",
    "These can be combined together:\n",
    " * supervised classification\n",
    " * unsupervised classification (aka clustering)\n",
    " * supervised regression\n",
    " * unsupervised regression (aka dimensional reduction)"
   ]
  },
  {
   "cell_type": "markdown",
   "metadata": {
    "slideshow": {
     "slide_type": "slide"
    }
   },
   "source": [
    "Graphically the course can be represented as a tour of the following [flowchart](http://scikit-learn.org/stable/tutorial/machine_learning_map/index.html):\n",
    "![](http://scikit-learn.org/stable/_static/ml_map.png)"
   ]
  },
  {
   "cell_type": "markdown",
   "metadata": {},
   "source": [
    "---\n",
    "\n",
    "# Content\n",
    "\n",
    "The course is divided into 9 sections:\n",
    "\n",
    "1. **Probability**\n",
    "2. **Frequentist inference**\n",
    "3. **Bayesian inference**\n",
    "4. **Density estimation and clustering**\n",
    "5. **Dimensional reduction**\n",
    "6. **Regression**\n",
    "7. **Classification**\n",
    "8. **Time series analysis**\n",
    "9. **Deep learning**\n",
    "\n",
    "There's a lot to cover in data mining, so we'll necessaryly only provide a broad introduction on these topics. Not saying you'll be ready for a data science job after this class, but this will definitely put you ahead of many many astronomers. In any case, I hope that's enough to give you the key background to dig deep into whatever you need for your research, during your Master's thesis and beyond. \n",
    "\n",
    "FINISH ME. GET YOU HANDS DIRTY"
   ]
  },
  {
   "cell_type": "markdown",
   "metadata": {},
   "source": [
    "---\n",
    "\n",
    "# Logistics\n",
    "\n",
    "Let's sort out some boring logistics details...\n",
    "\n",
    "### Class times\n",
    "\n",
    "- Classes are on **Monday and Wednesday at 8.30-10.30** (sorry! I didn't choose!) in **room U2-05**.\n",
    "- For the next two weeks we're also going to have lectures on Tuesday at 8.30-10.30. That is: two extra lectures on March 8th and March 15th. \n",
    "- This is to optimize the schedule because (i) there are empty slots in your timetable and (ii) we will skip some lectures later in April because I'm going to be away for research committments. A few extra lectures now will allow us to still finish the class by the end of May, leaving you more time before the exam season starts.    \n",
    "- Also, let's get the simple probability stuff our of the way quickly and get to the cool machine learning part! :-) \n",
    "\n",
    "### Exams\n",
    "\n",
    "- I'm flexibile. Just let me know when you would like to take the exam and we'll find a time that works.  \n",
    "- "
   ]
  },
  {
   "cell_type": "markdown",
   "metadata": {},
   "source": [
    "--- \n",
    "\n",
    "# Textbook and resources\n",
    "\n",
    "\n",
    "### Main textbook:\n",
    "\n",
    "[\"Statistics, Data Mining, and Machine Learning in Astronomy\"](https://press.princeton.edu/books/hardcover/9780691198309/statistics-data-mining-and-machine-learning-in-astronomy), Željko, Andrew, Jacob, and Gray. Princeton University Press, 2012.\n",
    "\n",
    "It's a wonderful book that I keep on referring to in my research. The library has a few copies. What I really like about that book is that they provide the code behind each single figure: [astroml.org/book\\_figures](https://www.astroml.org/book_figures/). The best way to approach these topics is to study the introduction on the book, then grab the code and try to play with it.  Make sure you get the updated edition of the book (that's the one with a black cover, not orange) because all the examples have been updated to python 3.   \n",
    "\n",
    "![](https://pup-assets.imgix.net/onix/images/9780691198309.jpg?fit=fill&fill=solid&fill-color=ffffff&w=1200&h=630)\n",
    "\n",
    "### Other useful resources  \n",
    "\n",
    "- [\"Statistical Data Analysis\"](https://global.oup.com/academic/product/statistical-data-analysis-9780198501558?cc=fr&lang=en&), Cowan. Oxford Science Publications, 1997.\n",
    "- [\"Data Analysis: A Bayesian Tutorial\"](https://global.oup.com/academic/product/data-analysis-9780198568322?cc=fr&lang=en&), Sivia and Skilling. Oxford Science Publications, 2006.\n",
    "- [\"Bayesian Data Analysis\",](http://www.stat.columbia.edu/~gelman/book/) Gelman, Carlin, Stern, Dunson, Vehtari, and Rubin. Chapman & Hall, 2013. Free!\n",
    "- [\"Python Data Science Handbook\",](https://jakevdp.github.io/PythonDataScienceHandbook/) VanderPlas. O'Reilly Media, 2016. Free!\n",
    "- [\"Practical Statistics for Astronomers\"](https://www.cambridge.org/core/books/practical-statistics-for-astronomers/CEB9D5F985F062BAD67E7219B96A4CD6), Wall and Jenkins. Cambridge University Press, 2003.\n",
    "- [\"Bayesian Logical Data Analysis for the Physical Sciences\",](https://www.cambridge.org/core/books/bayesian-logical-data-analysis-for-the-physical-sciences/09E9A95DAE275F5B005676C71B542598) Gregory. Cambridge University Press, 2005.\n",
    "- [\"Modern Statistical Methods For Astronomy\" Feigelson and Babu.](https://www.cambridge.org/core/books/modern-statistical-methods-for-astronomy/941AE392A553D68DD7B02491BB66DDEC) Cambridge University Press, 2012.\n",
    "- [\"Information theory, inference, and learning algorithms\"](https://www.inference.org.uk/mackay/itila/book.html) MacKay. Cambridge University Press, 2003. Free!  \n",
    "- “Data analysis recipes\". These free are chapters of books that is not yet finished by Hogg et al.\n",
    "    - [\"Choosing the binning for a histogram\"](https://arxiv.org/abs/0807.4820) [arXiv:0807.4820]\n",
    "    - [\"Fitting a model to data](https://arxiv.org/abs/1008.4686) [arXiv:1008.4686]\n",
    "    - [\"Probability calculus for inference\"](https://arxiv.org/abs/1205.4446) [arXiv:1205.4446]\n",
    "    - [\"Using Markov Chain Monte Carlo\"](https://arxiv.org/abs/1710.06068) [arXiv:1710.06068]\n",
    "    - [\"Products of multivariate Gaussians in Bayesian inferences\"](https://arxiv.org/abs/2005.14199) [arXiv:2005.14199]\n",
    " - [\"Hands-On Machine Learning with Scikit-Learn, Keras, and TensorFlow\"](https://www.oreilly.com/library/view/hands-on-machine-learning/9781492032632/), Geron, O'Reilly Media, 2019.\n",
    "\n",
    "### Still need to embrace the python world?\n",
    "\n",
    "We will make heavy usage of the python programming language. If you need to refresh your **python skills**, here are some catch-up resources and online tutorials. A strong python programming background is essential in modern astrophysics.  \n",
    "\n",
    "- [\"Lectures on scientific computing with Python\"](https://github.com/jrjohansson/scientific-python-lectures), R. Johansson et al.  \n",
    "- [Python Programming for Scientists\"](https://astrofrog.github.io/py4sci/), T. Robitaille et al.\n",
    "- [\"Learning Scientific Programming with Python\"](https://www.cambridge.org/core/books/learning-scientific-programming-with-python/3D264483BC7B380A3059B3861C661237), Hill, Cambridge University Press, 2020. Supporting code: [scipython.com](https://scipython.com/)."
   ]
  },
  {
   "cell_type": "markdown",
   "metadata": {},
   "source": [
    "---\n",
    "\n",
    "# Credits and feedback\n",
    "\n",
    "### I need your help!\n",
    "\n",
    "This is the first yeat that Bicocca offers an Astrostatistics class. I'm not entirely sure but I think it's only class of this kind in the country. \n",
    "\n",
    "It is also the first time I teach it. So please be kind, things are not going to be perfect...\n",
    "\n",
    "Very important: **please do give me feedback** (what works, what doesn't work, what topics have been covered in other classes already, if I assume too much from computing skills, or if you want me to go faster, if the excercises are too hard or too easy, etc).\n",
    "\n",
    "I plan to circulate a form for anonymous feedback later on, but please feel free to come and give me your opinions at any time!\n",
    "\n",
    "\n",
    "### Get in touch!\n",
    "\n",
    "I'm very happy to chat about the class (and more: gravity, science, career prospects, etc). My office is number 2007 at the second floor of the U2 building. Feel free to knock stop by and knock at my door (I might say I'm busy and ask you to come later...). Or send me an email for an appointment: [davide.gerosa@unimib.it](mailto:davide.gerosa@unimib.it).\n",
    "\n",
    "\n",
    "### A huge thanks to...\n",
    "\n",
    "This class draws heavily from many others that came before me. Credit goes to:\n",
    "\n",
    "- Stephen Taylor (Vanderbilt University): [github.com/VanderbiltAstronomy/astr_8070_s21](github.com/VanderbiltAstronomy/astr_8070_s21).\n",
    "- Gordon Richards (Drexel University): [github.com/gtrichards/PHYS_440_540](https://github.com/gtrichards/PHYS_440_540).\n",
    "- Jake Vanderplas (University of Washington): [github.com/jakevdp/ESAC-stats-2014](https://github.com/jakevdp/ESAC-stats-2014).\n",
    "- Zeljko Ivezic (University of Washington): [github.com/uw-astr-302-w18/astr-302-w18](https://github.com/uw-astr-302-w18/astr-302-w18).\n",
    "- Andy Connolly (University of Washington): [cadence.lsst.org/introAstroML/](http://cadence.lsst.org/introAstroML).\n",
    "- Karen Leighly (University of Oklahoma): [seminar.ouml.org/](http://seminar.ouml.org).\n",
    "- Adam Miller (Northwestern University): [github.com/LSSTC-DSFP/LSSTC-DSFP-Sessions/](https://github.com/LSSTC-DSFP/LSSTC-DSFP-Sessions).\n",
    "- Jo Bovy (University of Toronto): [astro.utoronto.ca/~bovy/teaching.html](http://astro.utoronto.ca/~bovy/teaching.html).\n",
    "- Thomas Wiecki (PyMC Labs): [twiecki.github.io/blog/2015/11/10/mcmc-sampling](http://twiecki.github.io/blog/2015/11/10/mcmc-sampling).\n",
    "- Aurelienne Geron (freelancer): [github.com/ageron/handson-ml2](https://github.com/ageron/handson-ml2).\n",
    "\n"
   ]
  },
  {
   "cell_type": "markdown",
   "metadata": {},
   "source": [
    "---\n",
    "\n",
    "# IT setup: run python\n",
    "\n",
    "### Everything happens on github: [github.com/dgerosa/astrostatistics_bicocca_2022](https://github.com/dgerosa/astrostatistics_bicocca_2022)\n",
    "\n",
    "There you'll find all the codes, example, resources, extra material, etc.\n",
    "\n",
    "There are (at least) three ways to run the code of this class.\n",
    "\n",
    "## 1. Binder environment\n",
    "\n",
    "Right at the top you see this button: [![Binder](https://mybinder.org/badge_logo.svg)](https://mybinder.org/v2/gh/dgerosa/astrostatistics_bicocca_2022/HEAD)\n",
    "\n",
    "That will open a interactive  environment where all the software we are going to need is already installed. That's a jupyter notebook like those I will use during the lectures. (if you want to know more about the magic behind it, check out [mybinder](https://mybinder.org/) and [docker](https://www.docker.com/)).\n",
    "\n",
    "#### Very important\n",
    "\n",
    "Binder session are temporary. Everytime you close and re-open you session, the environment starts back from what's available on Github. So if you make changes there while following along and solving the in-class problems, **these won't be saved**.\n",
    "\n",
    "I say it again, when using Biner **It is imperative that you download the document on your machine (there's a button in the toolbar) before closing  the browser window.** You can also save and load in the browser's cache, but it's less reliable in my opinion.\n",
    "\n",
    "\n",
    "##  2. Unimib virtual machine\n",
    "\n",
    "Binder is the easiest way to just follow along. When more coding is involved, you can use the Bicocca virtual machine. \n",
    "\n",
    "First, sign up using this link: https://libaas.unimib.it/PubLab/register/34ddf7f4010db47dfa35\n",
    "\n",
    "Once you signed up, go to https://libaas-lessons.si.unimib.it to access your virtual machine. Or click this button on the github repository homepage:\n",
    "\n",
    "[![](https://custom-icon-badges.herokuapp.com/badge/launch-unimib%20virtual%20machine-orange.svg?logo=container&logoColor=white)](https://libaas-lessons.si.unimib.it)\n",
    "\n",
    "## 3. Your own python distribution\n",
    "\n",
    "At some point in your research you'll need to run python code on your laptopt. I guess most of you have done it already for earlier classes (if so, how many?). Altough not strictly necessary for my class, this is by far the best option. \n",
    "\n",
    "If have trouble installing python on your laptopt, I'm happy to help as I can. I have done it before on both Mac and Linux. I don't have personal experience with Windows but I was told that getting the Anaconda installer is now the easiest way: https://www.anaconda.com/products/individual#windows\n",
    "\n",
    "## Installing python packages\n",
    "\n",
    "You probably know this already, but installing things in python is as easy as typing `pip install something` (if pip install doesn't work, something is wrong with your python installation).\n",
    "\n",
    "All the packages you need for this class are listed at [requirements.txt](https://github.com/dgerosa/astrostatistics_bicocca_2022/blob/main/requirements.txt) on Github. If using Binder, they are all installed by default. \n"
   ]
  },
  {
   "cell_type": "markdown",
   "metadata": {},
   "source": [
    "---\n",
    "\n",
    "# IT setup: version control with git\n",
    "\n",
    "- How many of you have heard about `git` before?\n",
    "- How many of you have some experience with it?\n",
    "\n",
    "**Disclaimer**. You can probably get through this class without git, but I very highly reccomend learning it. It's this is something will make your life much easier in research! \n",
    "\n",
    "I think `git` is a cornerstone of modern coding so I want to spend some time with you on this. \n",
    "\n",
    "\n",
    "In brief, git is a strategy to handle your files, as simple as that. Most crucially, it scales extremely well with number of people and complexity of the workflow. \n",
    "\n",
    "- Imagine having hundreds or maybe thousands of developers working on the same piece of code or on the same paper. Good luck sharing files with things like Google Drive!\n",
    "- Even if if just yourself. Ever happen that you code **used to** work a while ago, then you changed something, and now desperately want to go back? \n",
    "\n",
    "![](https://www.atlassian.com/dam/jcr:9f149cef-f784-43de-8207-3e7968789a1f/03.svg)\n",
    "\n",
    "### The basics\n",
    "\n",
    "- `git` is a transfer protocol (kind of like `http` or `ssh`) that is designed explicitely for code development\n",
    "- On top of the `git`, people have built web frontends to make our life easier (much like a browser for `http`). The most popular of these frontends is [github.com](https://github.com/) (which is owned by Microsoft now)\n",
    "\n",
    "The core element is a \"repository\", which is basically just a directory --or better: a directory git can talk to. There are several copies of a repository:\n",
    "- A remote server hosts a copy. In this case, we'll put it on github.com, that is free.\n",
    "- Developer 1 (say me) has a copy.\n",
    "- Develper 2 (say you) has another copy.\n",
    "- etc.\n",
    "\n",
    "The repository of each developer talks only with the remote server:\n",
    "\n",
    "![](https://www.cs.swarthmore.edu/git/git-repos.svg)\n",
    "\n",
    "The process starts by creating a remote repository and **cloning** it locally (that's something you do only once). Someone changes the code locally and **pushes** it to the remote server. Someone else **pulls** the modification and goes on from there. The system is very smart, and has very precise rules on how to handle cases where both people edit the same file. Making a modification implies **adding** and **committing** a file.\n",
    "\n",
    "These five commands (`clone`, `pull`, `push`, `add`, `commit`) already let you to a ton of powerful stuff.  \n",
    "\n",
    "### Let's start\n",
    "\n",
    "To get Git for any platform, see: [https://git-scm.com/download/](https://git-scm.com/download/).\n",
    "\n",
    "If you're using a Bicocca virtual machine, you'll have `git` installed already. Open a terminal window and run\n",
    "\n",
    "    $ which git\n",
    "\n",
    "For example:\n",
    "\n",
    "```bash\n",
    "which git\n",
    "/usr/local/bin/git\n",
    "\n",
    "git --version\n",
    "git version 2.23.0\n",
    "```\n",
    "\n",
    "Check that `git` is configured correctly so that your username and email address match that of your account on GitHub.\n",
    "\n",
    "```\n",
    "$ git config --global --edit\n",
    "```\n",
    "\n",
    "Let's make sure we all have git installed and configured.\n",
    "\n",
    "### Hands on example\n",
    "\n",
    "Let's practice some git now!\n",
    "\n",
    "1. create a new repository on github, with a README file. Name it `ilovegit`.\n",
    "2. clone your repo using:\n",
    "```bash\n",
    "cd ~/reps # Or wherever you want it to be\n",
    "git clone https://github.com/YOUR_USERNAME/ilovegit\n",
    "```\n",
    "3. start Jupyter in the cloned directory\n",
    "```bash\n",
    "cd ilovegit\n",
    "jupyter notebook &\n",
    "```\n",
    "4. create a new notebook. Name it `hello.ipynb`. Make sure that the kernel matches your python environment and add a cell with the following piece of code:\n",
    "```python\n",
    "print(\"Hello World!\")\n",
    "```\n",
    "5. see what happened:\n",
    "```bash\n",
    "git status\n",
    "```\n",
    "6. add the notebook to your git repository and commit by running (in the terminal window) the following:\n",
    "```bash\n",
    "git add hello.ipynb\n",
    "git commit -m \"Added hello.ipynb to repository.\"\n",
    "```\n",
    "7. see what happened:\n",
    "```bash\n",
    "git status\n",
    "```\n",
    "8. make another change in the Jupyter notebook. For example, add another cell (\"+\" icon on the toolbar) with the following:\n",
    "```python\n",
    "x = 2+2\n",
    "print(x)\n",
    "```\n",
    "9. see what happened\n",
    "```bash\n",
    "git status\n",
    "```\n",
    "10. commit changed files\n",
    "```bash\n",
    "git commit -am \"Updated hello.ipynb with complex mathematics.\"\n",
    "```\n",
    "11. \"push\" the changes to github\n",
    "```bash\n",
    "git push\n",
    "```\n",
    "12. go browse the result on github\n",
    "\n",
    "13. edit the readme from the broswer on github (this is to mimick what happens when someone touches the code)\n",
    "\n",
    "14. \"pull\" the changes from github\n",
    "```bash\n",
    "git pull\n",
    "```\n",
    "15. have a look at your local copy of README.md\n",
    "\n",
    "\n",
    "### Interact with the class material\n",
    "\n",
    "I developed this class using `git`. Let's go somewhere first:\n",
    "\n",
    "```bash\n",
    "cd ~\n",
    "mkdir reps #Or wherever you want it to be\n",
    "cd reps\n",
    "```\n",
    "\n",
    "Now go to the class git repository at https://github.com/dgerosa/astrostatistics_bicocca_2022. **Don't clone this!** Instead, look to the rop right of the page for an option to fork the repository. Do this now. This will make a copy of the class repository for your own personal use.\n",
    "\n",
    "Now that you have a fork of the repository, clone it to your machine.\n",
    "\n",
    "```bash\n",
    "git clone https://github.com/YOUR_GITHUB_USERNAME/astrostatistics_bicocca_2022\n",
    "```\n",
    "\n",
    "---\n",
    "\n",
    "Before proceeding further, we're now going to add the `dgerosa` repository as an [`upstream` repository to your fork](https://docs.github.com/en/free-pro-team@latest/github/collaborating-with-issues-and-pull-requests/configuring-a-remote-for-a-fork). First, list the current configured remote repository for your fork with:\n",
    "\n",
    "```bash\n",
    "git remote -v\n",
    "```\n",
    "\n",
    "Now, add the `dgerosa` repo as an `upstream`:\n",
    "\n",
    "```bash\n",
    "git remote add upstream https://github.com/dgerosa/astrostatistics_bicocca_2022\n",
    "```\n",
    "\n",
    "Verify that the new repository shows as an upstream by running `git remote -v` again.\n",
    "\n",
    "\n",
    "You now have the ability to work with your own fork, sync upstream changes to this fork, and commit changes to your fork. (we won't do it, but git allows you to ask for permission to incorporate changes upstream, this feature is called `pull request`).\n",
    "\n",
    "In order to [sync new lectures from upstream to your fork](https://docs.github.com/en/free-pro-team@latest/github/collaborating-with-issues-and-pull-requests/syncing-a-fork), run the following in the local directory of your cloned fork:\n",
    "\n",
    "```bash\n",
    "git fetch upstream\n",
    "git checkout main\n",
    "git merge upstream/main\n",
    "```\n",
    "\n",
    "You should do this often in order to see new materials that I add. \n",
    "\n",
    "\n",
    "At the exams, ideally I would like you to come with all your \"Get you hands dirty\" exercises cleanly committed to your repository fork. \n",
    "\n",
    "\n",
    "----\n",
    "\n",
    "This an excellent git crash course of about 1 hour. Highly reccomended! "
   ]
  },
  {
   "cell_type": "code",
   "execution_count": 7,
   "metadata": {},
   "outputs": [
    {
     "data": {
      "image/jpeg": "[encoded data removed]",
      "text/html": [
       "\n",
       "        <iframe\n",
       "            width=\"800\"\n",
       "            height=\"600\"\n",
       "            src=\"https://www.youtube.com/embed/RGOj5yH7evk\"\n",
       "            frameborder=\"0\"\n",
       "            allowfullscreen\n",
       "            \n",
       "        ></iframe>\n",
       "        "
      ],
      "text/plain": [
       "<IPython.lib.display.YouTubeVideo at 0x10849c850>"
      ]
     },
     "execution_count": 7,
     "metadata": {},
     "output_type": "execute_result"
    }
   ],
   "source": [
    "from IPython.display import YouTubeVideo\n",
    "YouTubeVideo('RGOj5yH7evk', width=800, height=600)"
   ]
  },
  {
   "cell_type": "markdown",
   "metadata": {},
   "source": [
    "### If you really hate all of this...\n",
    "\n",
    "Learning `git` is a core content of this class (and, well, needless to say but this will be taken into account at the exam).\n",
    "\n",
    "The shortcut is to go to  https://github.com/dgerosa/astrostatistics_bicocca_2022 then \"Code\" and \"Download ZIP\". This will download a copy of the class material witouth any git interaction. However, you'll need to do it manually every time I update the material (and sort out differences between your changes and my changes... good luck!)"
   ]
  },
  {
   "cell_type": "code",
   "execution_count": null,
   "metadata": {},
   "outputs": [],
   "source": []
  }
 ],
 "metadata": {
  "anaconda-cloud": {},
  "kernelspec": {
   "display_name": "Python 3 (ipykernel)",
   "language": "python",
   "name": "python3"
  },
  "language_info": {
   "codemirror_mode": {
    "name": "ipython",
    "version": 3
   },
   "file_extension": ".py",
   "mimetype": "text/x-python",
   "name": "python",
   "nbconvert_exporter": "python",
   "pygments_lexer": "ipython3",
   "version": "3.8.12"
  }
 },
 "nbformat": 4,
 "nbformat_minor": 1
}
